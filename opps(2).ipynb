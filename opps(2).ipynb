{
 "cells": [
  {
   "cell_type": "code",
   "execution_count": 1,
   "id": "65519241-0778-4e46-a184-823b5c90a554",
   "metadata": {},
   "outputs": [],
   "source": [
    "# Constructor:"
   ]
  },
  {
   "cell_type": "code",
   "execution_count": 4,
   "id": "ebc30ba7-f9a3-486e-9cf5-d02bdba25d10",
   "metadata": {},
   "outputs": [
    {
     "name": "stdout",
     "output_type": "stream",
     "text": [
      "Constructors are generally used for instantiating an object. The task of constructors is to initialize(assign values) to the data members of the class when an object of class is created.In Python the __init__() method is called the constructor and is always called when an object is created\n"
     ]
    }
   ],
   "source": [
    "# 1. What is a constructor in Python? Explain its purpose and usage.\n",
    "\n",
    "print(\"Constructors are generally used for instantiating an object. The task of constructors is to initialize(assign values) to the data members of the class when an object of class is created.In Python the __init__() method is called the constructor and is always called when an object is created\")"
   ]
  },
  {
   "cell_type": "code",
   "execution_count": 6,
   "id": "f6956f13-3db8-4ebc-82d9-0899d0625065",
   "metadata": {},
   "outputs": [
    {
     "name": "stdout",
     "output_type": "stream",
     "text": [
      "Parameterized Constructor: A parameterized constructor is a constructor that takes one or more arguments. It is used to create an object with custom values for its attributes.\n",
      "Non-Parameterized Constructor: A non-parameterized constructor is a constructor that does not take any arguments.\n"
     ]
    }
   ],
   "source": [
    "# 2. Differentiate between a parameterless constructor and a parameterized constructor in Python.\n",
    "print(\"Parameterized Constructor: A parameterized constructor is a constructor that takes one or more arguments. It is used to create an object with custom values for its attributes.\")\n",
    "\n",
    "\n",
    "print(\"Non-Parameterized Constructor: A non-parameterized constructor is a constructor that does not take any arguments.\")"
   ]
  },
  {
   "cell_type": "code",
   "execution_count": 7,
   "id": "3ac18e0b-dfd4-45f9-8cf5-cb1605f1d10d",
   "metadata": {},
   "outputs": [
    {
     "name": "stdout",
     "output_type": "stream",
     "text": [
      "Constructors are generally used for instantiating an object. The task of constructors is to initialize(assign values) to the data members of the class when an object of the class is created. In Python the __init__() method is called the constructor and is always called when an object is created.\n"
     ]
    }
   ],
   "source": [
    "# 3. How do you define a constructor in a Python class? Provide an example.\n",
    "print(\"Constructors are generally used for instantiating an object. The task of constructors is to initialize(assign values) to the data members of the class when an object of the class is created. In Python the __init__() method is called the constructor and is always called when an object is created.\")"
   ]
  },
  {
   "cell_type": "code",
   "execution_count": 9,
   "id": "1183005e-d01b-47f8-aaa8-6edea97be94d",
   "metadata": {},
   "outputs": [
    {
     "name": "stdout",
     "output_type": "stream",
     "text": [
      "In Python the __init__() method is called the constructor and is always called when an object is created.\n"
     ]
    }
   ],
   "source": [
    "# 4. Explain the `__init__` method in Python and its role in constructors.\n",
    "print(\"In Python the __init__() method is called the constructor and is always called when an object is created.\")"
   ]
  },
  {
   "cell_type": "code",
   "execution_count": 12,
   "id": "7ec5cb39-3a56-4aee-8064-893683d809be",
   "metadata": {},
   "outputs": [],
   "source": [
    "# 5. In a class named `Person`, create a constructor that initializes the `name` and `age` attributes. Provide an\n",
    "# example of creating an object of this class.\n",
    "\n",
    "\n",
    "class Person():\n",
    "    \n",
    "    def __init__(self, name, age):\n",
    "        self.name = name\n",
    "        self.age = age\n",
    "  \n",
    "\n",
    "p1 = Person(\"Harsh\", 21)\n",
    "        \n",
    "        "
   ]
  },
  {
   "cell_type": "code",
   "execution_count": 14,
   "id": "f33ffd2e-1464-4bc0-a649-7f65c9de0af3",
   "metadata": {},
   "outputs": [
    {
     "name": "stdout",
     "output_type": "stream",
     "text": [
      "Constructors are generally used for instantiating an object. The task of constructors is to initialize(assign values) to the data members of the class when an object of the class is created. In Python the __init__() method is called the constructor and is always called when an object is created.\n"
     ]
    }
   ],
   "source": [
    "# 6. How can you call a constructor explicitly in Python? Give an example.\n",
    "\n",
    "print(\"Constructors are generally used for instantiating an object. The task of constructors is to initialize(assign values) to the data members of the class when an object of the class is created. In Python the __init__() method is called the constructor and is always called when an object is created.\")"
   ]
  },
  {
   "cell_type": "code",
   "execution_count": 16,
   "id": "009734a8-6757-4d3a-a8af-ef3c20d8842d",
   "metadata": {},
   "outputs": [
    {
     "name": "stdout",
     "output_type": "stream",
     "text": [
      "Self paramerer is used as a pointer while declaring the method in class. Self is not a keyword it is an instacne used to bind methods with class\n"
     ]
    }
   ],
   "source": [
    "# 7. What is the significance of the `self` parameter in Python constructors? Explain with an example.\n",
    "\n",
    "print(\"Self paramerer is used as a pointer while declaring the method in class. Self is not a keyword it is an instacne used to bind methods with class\")\n",
    "\n",
    "class Person():\n",
    "    \n",
    "    def __init__(self, name, age):\n",
    "        self.name = name\n",
    "        self.age = age\n",
    "  \n",
    "\n",
    "p1 = Person(\"Harsh\", 21)"
   ]
  },
  {
   "cell_type": "code",
   "execution_count": 19,
   "id": "949a6860-ae7e-4066-978d-b32fe9abb069",
   "metadata": {},
   "outputs": [
    {
     "name": "stdout",
     "output_type": "stream",
     "text": [
      "default constructor: The default constructor is a simple constructor which doesn’t accept any arguments. Its definition has only one argument which is a reference to the instance being constructed.\n",
      "\n",
      "When a derived class constructor does not explicitly call the base class constructor in its initializer list, the default constructor for the base class is called.\n"
     ]
    }
   ],
   "source": [
    "# 8. Discuss the concept of default constructors in Python. When are they used?\n",
    "\n",
    "print(\"default constructor: The default constructor is a simple constructor which doesn’t accept any arguments. Its definition has only one argument which is a reference to the instance being constructed.\")\n",
    "\n",
    "print()\n",
    "\n",
    "print(\"When a derived class constructor does not explicitly call the base class constructor in its initializer list, the default constructor for the base class is called.\")"
   ]
  },
  {
   "cell_type": "code",
   "execution_count": 23,
   "id": "ca19b8cc-8566-4450-91b3-6d9be645a78d",
   "metadata": {},
   "outputs": [
    {
     "data": {
      "text/plain": [
       "16"
      ]
     },
     "execution_count": 23,
     "metadata": {},
     "output_type": "execute_result"
    }
   ],
   "source": [
    "# 9. Create a Python class called `Rectangle` with a constructor that initializes the `width` and `height`\n",
    "# attributes. Provide a method to calculate the area of the rectangle.\n",
    "\n",
    "class Rectangle():\n",
    "    \n",
    "    def __init__(self,width,height):\n",
    "        self.width = width\n",
    "        self.height = height\n",
    "        \n",
    "    \n",
    "    def area_rect(self):\n",
    "        area = self.width*self.height\n",
    "        return area\n",
    "    \n",
    "\n",
    "r1 = Rectangle(2,8)\n",
    "r1.area_rect()"
   ]
  },
  {
   "cell_type": "code",
   "execution_count": 24,
   "id": "52bcbd60-d56e-4b63-af2b-be23a972adea",
   "metadata": {},
   "outputs": [
    {
     "name": "stdout",
     "output_type": "stream",
     "text": [
      "Using the @classmethod decorator to provide multiple constructors in a class is a fairly popular technique in Python. There are several examples of built-in and standard-library classes that use this technique to provide multiple alternative constructors.\n"
     ]
    }
   ],
   "source": [
    "# 10. How can you have multiple constructors in a Python class? Explain with an example.\n",
    "\n",
    "print(\"Using the @classmethod decorator to provide multiple constructors in a class is a fairly popular technique in Python. There are several examples of built-in and standard-library classes that use this technique to provide multiple alternative constructors.\")"
   ]
  },
  {
   "cell_type": "code",
   "execution_count": 1,
   "id": "7ed23244-8b85-4d61-8382-55da756424c7",
   "metadata": {},
   "outputs": [
    {
     "name": "stdout",
     "output_type": "stream",
     "text": [
      "Two or more methods have the same name but different numbers of parameters or different types of parameters, or both. These methods are called overloaded methods and this is called method overloading. \n"
     ]
    }
   ],
   "source": [
    "# 11. What is method overloading, and how is it related to constructors in Python?\n",
    "\n",
    "\n",
    "print(\"Two or more methods have the same name but different numbers of parameters or different types of parameters, or both. These methods are called overloaded methods and this is called method overloading. \")"
   ]
  },
  {
   "cell_type": "code",
   "execution_count": 2,
   "id": "41fa8e1c-772c-4323-b149-6cd486e48161",
   "metadata": {},
   "outputs": [
    {
     "name": "stdout",
     "output_type": "stream",
     "text": [
      "the super() function is used to refer to the parent class or superclass. It allows you to call methods defined in the superclass from the subclass, enabling you to extend and customize the functionality inherited from the parent class.\n"
     ]
    }
   ],
   "source": [
    "# 12. Explain the use of the `super()` function in Python constructors. Provide an example.\n",
    "\n",
    "print(\"the super() function is used to refer to the parent class or superclass. It allows you to call methods defined in the superclass from the subclass, enabling you to extend and customize the functionality inherited from the parent class.\")"
   ]
  },
  {
   "cell_type": "code",
   "execution_count": 3,
   "id": "8bd2eaf8-03a8-4991-8302-6d9f6288d31a",
   "metadata": {},
   "outputs": [],
   "source": [
    "# 13. Create a class called `Book` with a constructor that initializes the `title`, `author`, and `published_year`\n",
    "# attributes. Provide a method to display book details.\n",
    "\n",
    "\n",
    "class book():\n",
    "    \n",
    "    def _init__(self, title, author, published_year):\n",
    "        self.title = title\n",
    "        self.author = author\n",
    "        self.published_year = published_year\n",
    "        \n",
    "        \n",
    "    def display_book(self,book):\n",
    "        bk_name = book\n",
    "        retur (f\"your book name is {bk_name}, author is {self.author}, title of the book is {self.title} and it is published in {self.published_year}\")\n",
    "        \n",
    "        "
   ]
  },
  {
   "cell_type": "code",
   "execution_count": 4,
   "id": "7f4b079e-87ff-4bdf-80a5-9397e1103329",
   "metadata": {},
   "outputs": [
    {
     "name": "stdout",
     "output_type": "stream",
     "text": [
      "A Constructor helps in initialising an object that doesn't exist. A Method performs functions on pre-constructed or already developed objects.\n"
     ]
    }
   ],
   "source": [
    "# 14. Discuss the differences between constructors and regular methods in Python classes.\n",
    "\n",
    "print(\"A Constructor helps in initialising an object that doesn't exist. A Method performs functions on pre-constructed or already developed objects.\")"
   ]
  },
  {
   "cell_type": "code",
   "execution_count": 5,
   "id": "cbe145b2-6623-479e-b0bf-1e39a49eb2bd",
   "metadata": {},
   "outputs": [
    {
     "name": "stdout",
     "output_type": "stream",
     "text": [
      "Self represents the instance of the class. By using the “self” we can access the attributes and methods of the class in Python. It binds the attributes with the given arguments. The reason you need to use self. is because Python does not use the @ syntax to refer to instance attributes.\n"
     ]
    }
   ],
   "source": [
    "# 15. Explain the role of the `self` parameter in instance variable initialization within a constructor.\n",
    "\n",
    "print(\"Self represents the instance of the class. By using the “self” we can access the attributes and methods of the class in Python. It binds the attributes with the given arguments. The reason you need to use self. is because Python does not use the @ syntax to refer to instance attributes.\")"
   ]
  },
  {
   "cell_type": "code",
   "execution_count": 26,
   "id": "23dc4fc8-81a4-4711-9892-d85266829e81",
   "metadata": {},
   "outputs": [
    {
     "name": "stdout",
     "output_type": "stream",
     "text": [
      "In Python, you can prevent a class from having multiple instances by implementing a Singleton pattern. The Singleton pattern ensures that a class has only one instance and provides a global point of access to that instance.\n",
      "\n",
      "One way to implement the Singleton pattern in Python is by overriding the __new__ method of the class. The __new__ method is responsible for creating a new instance of the class, and by overriding it, you can control how instances are created. \n"
     ]
    }
   ],
   "source": [
    "# 16. How do you prevent a class from having multiple instances by using constructors in Python? Provide an\n",
    "# example.\n",
    "\n",
    "\n",
    "print('''In Python, you can prevent a class from having multiple instances by implementing a Singleton pattern. The Singleton pattern ensures that a class has only one instance and provides a global point of access to that instance.\n",
    "\n",
    "One way to implement the Singleton pattern in Python is by overriding the __new__ method of the class. The __new__ method is responsible for creating a new instance of the class, and by overriding it, you can control how instances are created. ''')"
   ]
  },
  {
   "cell_type": "code",
   "execution_count": 7,
   "id": "c747f2f6-669e-4113-8304-79857f932b31",
   "metadata": {},
   "outputs": [],
   "source": [
    "# 17. Create a Python class called `Student` with a constructor that takes a list of subjects as a parameter and\n",
    "# initializes the `subjects` attribute.\n",
    "\n",
    "class Student:\n",
    "    def __init__(self, subjects):\n",
    "        self.subjects = subjects\n",
    "\n",
    "\n",
    "# Example usage\n",
    "subjects_list = [\"Math\", \"Science\", \"History\"]\n",
    "student = Student(subjects_list)\n",
    "\n",
    "print(student.subjects)  # Output: [\"Math\", \"Science\", \"History\"]\n",
    "\n",
    "        \n",
    "        \n",
    "        \n",
    "        \n",
    "        "
   ]
  },
  {
   "cell_type": "code",
   "execution_count": 28,
   "id": "56757675-999d-4bbc-958b-a4b09c4265ab",
   "metadata": {},
   "outputs": [
    {
     "name": "stdout",
     "output_type": "stream",
     "text": [
      "The __del__ method in Python classes serves as a destructor, and it is called when an object is about to be destroyed or garbage collected. Its purpose is to perform any cleanup or finalization tasks before an object is removed from memory.\n"
     ]
    }
   ],
   "source": [
    "\n",
    "# 18. What is the purpose of the `__del__` method in Python classes, and how does it relate to constructors?\n",
    "\n",
    "print(\"The __del__ method in Python classes serves as a destructor, and it is called when an object is about to be destroyed or garbage collected. Its purpose is to perform any cleanup or finalization tasks before an object is removed from memory.\")"
   ]
  },
  {
   "cell_type": "code",
   "execution_count": 29,
   "id": "ba51b7dc-39ac-46a5-8c16-4199ddcd2406",
   "metadata": {},
   "outputs": [
    {
     "name": "stdout",
     "output_type": "stream",
     "text": [
      "Constructor chaining in Python refers to the ability of a subclass constructor to call the constructor of its superclass. This allows for code reuse and ensures that initialization logic defined in the superclass constructor is also executed when creating instances of the subclass.\n",
      "\n",
      "In Python, constructor chaining is achieved using the super() function, which returns a proxy object that delegates method calls to the parent or sibling class of the current object. By calling super().__init__() within the subclass constructor, you can invoke the constructor of the superclass \n"
     ]
    }
   ],
   "source": [
    "# 19. Explain the use of constructor chaining in Python. Provide a practical example.\n",
    "\n",
    "print('''Constructor chaining in Python refers to the ability of a subclass constructor to call the constructor of its superclass. This allows for code reuse and ensures that initialization logic defined in the superclass constructor is also executed when creating instances of the subclass.\n",
    "\n",
    "In Python, constructor chaining is achieved using the super() function, which returns a proxy object that delegates method calls to the parent or sibling class of the current object. By calling super().__init__() within the subclass constructor, you can invoke the constructor of the superclass ''')"
   ]
  },
  {
   "cell_type": "code",
   "execution_count": 30,
   "id": "8b53d879-3e4e-4de0-96be-6dfb41857bc3",
   "metadata": {},
   "outputs": [
    {
     "name": "stdout",
     "output_type": "stream",
     "text": [
      "Car: Toyota Camry\n",
      "Car: Ford Mustang\n"
     ]
    }
   ],
   "source": [
    "# 20. Create a Python class called `Car` with a default constructor that initializes the `make` and `model`\n",
    "# attributes. Provide a method to display car information.\n",
    "\n",
    "class Car:\n",
    "    def __init__(self, make, model):\n",
    "        self.make = make\n",
    "        self.model = model\n",
    "\n",
    "    def display_info(self):\n",
    "        print(f\"Car: {self.make} {self.model}\")\n",
    "\n",
    "\n",
    "# Example usage\n",
    "car1 = Car(\"Toyota\", \"Camry\")\n",
    "car1.display_info()  # Output: Car: Toyota Camry\n",
    "\n",
    "car2 = Car(\"Ford\", \"Mustang\")\n",
    "car2.display_info()  # Output: Car: Ford Mustang\n"
   ]
  },
  {
   "cell_type": "code",
   "execution_count": 8,
   "id": "0328762d-03fe-49f2-b7f4-b3ed1cbe47b6",
   "metadata": {},
   "outputs": [],
   "source": [
    "# Inheritance:"
   ]
  },
  {
   "cell_type": "code",
   "execution_count": 9,
   "id": "35d7286f-e6de-4032-b53c-b2b7e4278e21",
   "metadata": {},
   "outputs": [
    {
     "name": "stdout",
     "output_type": "stream",
     "text": [
      "In object-oriented programming (OOP), inheritance is a mechanism that allows a class to inherit properties and behaviors from another class. It is a fundamental concept in OOP that promotes code reuse and establishes relationships between classes.\n"
     ]
    }
   ],
   "source": [
    "# 1. What is inheritance in Python? Explain its significance in object-oriented programming.\n",
    "\n",
    "print(\"In object-oriented programming (OOP), inheritance is a mechanism that allows a class to inherit properties and behaviors from another class. It is a fundamental concept in OOP that promotes code reuse and establishes relationships between classes.\")"
   ]
  },
  {
   "cell_type": "code",
   "execution_count": 12,
   "id": "40b32389-0213-4c56-9564-3965af4741ae",
   "metadata": {},
   "outputs": [
    {
     "name": "stdout",
     "output_type": "stream",
     "text": [
      "Single inheritance enables a derived class to inherit properties from a single parent class, thus enabling code reusability and the addition of new features to existing code.\n",
      "This function is in parent class.\n",
      "This function is in child class.\n",
      "\n",
      "When a class can be derived from more than one base class this type of inheritance is called multiple inheritances. In multiple inheritances, all the features of the base classes are inherited into the derived class. \n",
      "Father : RAM\n",
      "Mother : SITA\n"
     ]
    }
   ],
   "source": [
    "# 2. Differentiate between single inheritance and multiple inheritance in Python. Provide examples for each.\n",
    "\n",
    "print(\"Single inheritance enables a derived class to inherit properties from a single parent class, thus enabling code reusability and the addition of new features to existing code.\")\n",
    "\n",
    "# Python program to demonstrate\n",
    "# single inheritance\n",
    "\n",
    "# Base class\n",
    "class Parent:\n",
    "\tdef func1(self):\n",
    "\t\tprint(\"This function is in parent class.\")\n",
    "\n",
    "# Derived class\n",
    "\n",
    "\n",
    "class Child(Parent):\n",
    "\tdef func2(self):\n",
    "\t\tprint(\"This function is in child class.\")\n",
    "\n",
    "\n",
    "# Driver's code\n",
    "object = Child()\n",
    "object.func1()\n",
    "object.func2()\n",
    "\n",
    "\n",
    "print()\n",
    "\n",
    "print(\"When a class can be derived from more than one base class this type of inheritance is called multiple inheritances. In multiple inheritances, all the features of the base classes are inherited into the derived class. \")\n",
    "\n",
    "# Python program to demonstrate\n",
    "# multiple inheritance\n",
    "\n",
    "# Base class1\n",
    "class Mother:\n",
    "\tmothername = \"\"\n",
    "\n",
    "\tdef mother(self):\n",
    "\t\tprint(self.mothername)\n",
    "\n",
    "# Base class2\n",
    "\n",
    "\n",
    "class Father:\n",
    "\tfathername = \"\"\n",
    "\n",
    "\tdef father(self):\n",
    "\t\tprint(self.fathername)\n",
    "\n",
    "# Derived class\n",
    "\n",
    "\n",
    "class Son(Mother, Father):\n",
    "\tdef parents(self):\n",
    "\t\tprint(\"Father :\", self.fathername)\n",
    "\t\tprint(\"Mother :\", self.mothername)\n",
    "\n",
    "\n",
    "# Driver's code\n",
    "s1 = Son()\n",
    "s1.fathername = \"RAM\"\n",
    "s1.mothername = \"SITA\"\n",
    "s1.parents()\n"
   ]
  },
  {
   "cell_type": "code",
   "execution_count": 2,
   "id": "ab882444-8d97-4deb-b0e3-ace6874fdae5",
   "metadata": {},
   "outputs": [],
   "source": [
    "# 3. Create a Python class called `Vehicle` with attributes `color` and `speed`. Then, create a child class called\n",
    "# `Car` that inherits from `Vehicle` and adds a `brand` attribute. Provide an example of creating a `Car` object.\n",
    "\n",
    "class Vehicle():\n",
    "    \n",
    "    def __init__(self, color, speed):\n",
    "        \n",
    "        self.color = color\n",
    "        self.speed = speed\n",
    "        \n",
    "        \n",
    "class Car(Vehicle):\n",
    "    \n",
    "    \n",
    "    def __init__(self, brand):\n",
    "        self.brand = brand\n",
    "        \n",
    "    \n",
    "thar = Car('Black')\n",
    "        "
   ]
  },
  {
   "cell_type": "code",
   "execution_count": 1,
   "id": "fa54f3e4-d524-4cc8-8828-6bbfe569b5fe",
   "metadata": {},
   "outputs": [
    {
     "name": "stdout",
     "output_type": "stream",
     "text": [
      "Method overriding in Python is an object-oriented programming feature that allows a subclass to provide its own implementation of a method that is already defined in its superclass. This is done by creating a method in the subclass with the same name and signature as the method in the superclass. When an object of the subclass calls the method, the method in the subclass will be called instead of the method in the superclass.\n"
     ]
    }
   ],
   "source": [
    "# 4. Explain the concept of method overriding in inheritance. Provide a practical example.\n",
    "\n",
    "print(\"Method overriding in Python is an object-oriented programming feature that allows a subclass to provide its own implementation of a method that is already defined in its superclass. This is done by creating a method in the subclass with the same name and signature as the method in the superclass. When an object of the subclass calls the method, the method in the subclass will be called instead of the method in the superclass.\")"
   ]
  },
  {
   "cell_type": "code",
   "execution_count": 11,
   "id": "ffbacdf3-1ac4-46ef-86d4-7432a435f884",
   "metadata": {},
   "outputs": [
    {
     "name": "stdout",
     "output_type": "stream",
     "text": [
      "every human being likes to eat\n",
      "Harsh\n"
     ]
    }
   ],
   "source": [
    "# 5. How can you access the methods and attributes of a parent class from a child class in Python? Give an\n",
    "# example.\n",
    "\n",
    "class human:\n",
    "    \n",
    "    def __init__(self):\n",
    "        pass\n",
    "        \n",
    "    \n",
    "    def eat(self):\n",
    "        \n",
    "        print(\"every human being likes to eat\")\n",
    "\n",
    "    \n",
    "class male(human):\n",
    "    \n",
    "    def __init__(self,name):\n",
    "        self.name = name   \n",
    "    \n",
    "    \n",
    "    def eat(self):\n",
    "        super().eat()\n",
    "        print(self.name)\n",
    "        \n",
    "    \n",
    "m1 = male(\"Harsh\")\n",
    "m1.eat()"
   ]
  },
  {
   "cell_type": "code",
   "execution_count": 13,
   "id": "0f23251c-d603-45dd-99b1-b8ba785eb0d9",
   "metadata": {},
   "outputs": [
    {
     "name": "stdout",
     "output_type": "stream",
     "text": [
      "The super() function we use in the child class returns a temporary created object of the superclass, that allow us to access all of its method present in the child class.\n"
     ]
    }
   ],
   "source": [
    "# 6. Discuss the use of the `super()` function in Python inheritance. When and why is it used? Provide an\n",
    "# example.\n",
    "\n",
    "print(\"The super() function we use in the child class returns a temporary created object of the superclass, that allow us to access all of its method present in the child class.\")\n",
    "\n",
    "class human:\n",
    "    \n",
    "    def __init__(self):\n",
    "        pass\n",
    "        \n",
    "    \n",
    "    def eat(self):\n",
    "        \n",
    "        print(\"every human being likes to eat\")\n",
    "\n",
    "    \n",
    "class male(human):\n",
    "    \n",
    "    def __init__(self,name):\n",
    "        self.name = name   \n",
    "    \n",
    "    \n",
    "    def eat(self):\n",
    "        super().eat()\n",
    "        print(self.name)"
   ]
  },
  {
   "cell_type": "code",
   "execution_count": 15,
   "id": "b89e2565-9619-4888-ac83-5fe4e4a68fc9",
   "metadata": {},
   "outputs": [
    {
     "name": "stdout",
     "output_type": "stream",
     "text": [
      "this is a speak method\n",
      "this is speak method inside dog class\n",
      "this is a speak method\n",
      "this is speak method inside cat class\n"
     ]
    }
   ],
   "source": [
    "# 7. Create a Python class called `Animal` with a method `speak()`.\n",
    "# Then, create child classes `Dog` and `Cat` that inherit from `Animal` and override the `speak()` method.\n",
    "# Provide an example of using these classes.\n",
    "\n",
    "class Animal:\n",
    "    \n",
    "    def __init__(self):\n",
    "        pass\n",
    "    \n",
    "    def speak(self):\n",
    "        print(\"this is a speak method\")\n",
    "        \n",
    "        \n",
    "class Dog(Animal):\n",
    "    \n",
    "    def __init__(self):\n",
    "        pass\n",
    "    \n",
    "    def speak(self):\n",
    "        super().speak()\n",
    "        print(\"this is speak method inside dog class\")\n",
    "        \n",
    "class Cat(Animal):\n",
    "    \n",
    "    def __init__(self):\n",
    "        pass\n",
    "    \n",
    "    def speak(self):\n",
    "        super().speak()\n",
    "        print(\"this is speak method inside cat class\")\n",
    "\n",
    "        \n",
    "bruno = Dog()\n",
    "bruno.speak()\n",
    "\n",
    "meowmeow = Cat()\n",
    "meowmeow.speak()"
   ]
  },
  {
   "cell_type": "code",
   "execution_count": 16,
   "id": "4d2da4b4-f91c-4ff4-bccc-e3d71d5c458b",
   "metadata": {},
   "outputs": [
    {
     "name": "stdout",
     "output_type": "stream",
     "text": [
      "The isinstance () function checks whether an object is an instance of the class mentioned.\n"
     ]
    }
   ],
   "source": [
    "# 8. Explain the role of the `isinstance()` function in Python and how it relates to inheritance.\n",
    "\n",
    "print(\"The isinstance () function checks whether an object is an instance of the class mentioned.\")"
   ]
  },
  {
   "cell_type": "code",
   "execution_count": 17,
   "id": "9679bd99-8642-4368-9245-f22882f0e7dc",
   "metadata": {},
   "outputs": [
    {
     "name": "stdout",
     "output_type": "stream",
     "text": [
      "Python issubclass() is a built-in function used to check if a class is a subclass of another class or not. This function returns True if the given class is the subclass of the given class else it returns False.\n"
     ]
    }
   ],
   "source": [
    "# 9. What is the purpose of the `issubclass()` function in Python? Provide an example.\n",
    "\n",
    "print(\"Python issubclass() is a built-in function used to check if a class is a subclass of another class or not. This function returns True if the given class is the subclass of the given class else it returns False.\")"
   ]
  },
  {
   "cell_type": "code",
   "execution_count": 19,
   "id": "77af6caa-e026-430c-beb2-cec06c34d816",
   "metadata": {},
   "outputs": [
    {
     "name": "stdout",
     "output_type": "stream",
     "text": [
      "In Python, constructors are special methods used for initializing objects when they are created. They are defined using the __init__ method within a class. When a class is instantiated, its constructor is automatically called to initialize the newly created object.\n",
      "\n",
      "Constructor inheritance in Python works similarly to inheritance of other methods and attributes. When a child class is derived from a parent class, it inherits all the attributes and methods of the parent class, including its constructor. However, if the child class defines its own constructor, it overrides the constructor of the parent class.\n"
     ]
    }
   ],
   "source": [
    "# 10. Discuss the concept of constructor inheritance in Python. How are constructors inherited in child classes?\n",
    "\n",
    "print('''In Python, constructors are special methods used for initializing objects when they are created. They are defined using the __init__ method within a class. When a class is instantiated, its constructor is automatically called to initialize the newly created object.\n",
    "\n",
    "Constructor inheritance in Python works similarly to inheritance of other methods and attributes. When a child class is derived from a parent class, it inherits all the attributes and methods of the parent class, including its constructor. However, if the child class defines its own constructor, it overrides the constructor of the parent class.''')"
   ]
  },
  {
   "cell_type": "code",
   "execution_count": 24,
   "id": "b3e81f03-f997-4c1e-a2be-d293b1f54fa7",
   "metadata": {},
   "outputs": [
    {
     "name": "stdout",
     "output_type": "stream",
     "text": [
      "this method calculates the area of the given shape\n",
      "area of circle if 18.84\n",
      "this method calculates the area of the given shape\n",
      "area of rectangle is 12\n"
     ]
    }
   ],
   "source": [
    "# 11. Create a Python class called `Shape` with a method `area()` that calculates the area of a shape.\n",
    "# Then, create child classes `Circle` and `Rectangle` that inherit from `Shape` and \n",
    "# implement the `area()` method\n",
    "#  accordingly. Provide an example.\n",
    "\n",
    "class Shape:\n",
    "    \n",
    "    def area(self):\n",
    "        print(\"this method calculates the area of the given shape\")\n",
    "        \n",
    "        \n",
    "        \n",
    "class Circle(Shape):\n",
    "    \n",
    "    def __init__(self,rad):\n",
    "        \n",
    "        self.rad = rad\n",
    "        \n",
    "    \n",
    "    def area(self):\n",
    "        super().area()\n",
    "        print(f\"area of circle if {2*3.14*self.rad}\")\n",
    "        \n",
    "\n",
    "class Rectangle(Shape):\n",
    "    \n",
    "    def __init__(self,length,breadth):\n",
    "        self.length = length\n",
    "        self.breadth = breadth\n",
    "        \n",
    "    \n",
    "    def area(self):\n",
    "        super().area()\n",
    "        print(f\"area of rectangle is {2*(self.length+self.breadth)}\")\n",
    "        \n",
    "c1 = Circle(3)\n",
    "c1.area()\n",
    "\n",
    "r1 = Rectangle(2,4)\n",
    "r1.area()"
   ]
  },
  {
   "cell_type": "code",
   "execution_count": 31,
   "id": "cf5a2be4-92fd-436d-8fbf-32cc914e3377",
   "metadata": {},
   "outputs": [
    {
     "name": "stdout",
     "output_type": "stream",
     "text": [
      "Abstract Base Classes (ABCs) in Python are classes that are designed to be subclassed but not instantiated themselves. They define a set of methods or properties that must be implemented by concrete subclasses. ABCs serve as a blueprint for defining interfaces or common behavior that subclasses are expected to adhere to. \n"
     ]
    }
   ],
   "source": [
    "# 12. Explain the use of abstract base classes (ABCs) in Python and how they relate to inheritance. Provide an\n",
    "# example using the `abc` module.\n",
    "\n",
    "print('''Abstract Base Classes (ABCs) in Python are classes that are designed to be subclassed but not instantiated themselves. They define a set of methods or properties that must be implemented by concrete subclasses. ABCs serve as a blueprint for defining interfaces or common behavior that subclasses are expected to adhere to. ''')"
   ]
  },
  {
   "cell_type": "code",
   "execution_count": 32,
   "id": "230db5b9-298d-46c8-9cb0-6c8ddee4e350",
   "metadata": {},
   "outputs": [
    {
     "name": "stdout",
     "output_type": "stream",
     "text": [
      "In Python, you can prevent a child class from modifying certain attributes or methods inherited from a parent class by using the following techniques:\n",
      "\n",
      "Private Attributes and Methods: You can define attributes and methods in the parent class as private by prefixing their names with double underscores (__). This makes them inaccessible to the child class, preventing direct modification or overriding.\n",
      "Property Decorators: You can use property decorators to define getter methods for attributes in the parent class. By omitting the setter method, you can make the attribute read-only, preventing modification by the child class.\n",
      "Final Methods: You can mark methods in the parent class as final by raising a NotImplementedError in their implementations. This indicates to the child class that the method should not be overridden.\n",
      "Metaclass: You can use metaclasses to define custom behavior for class creation. By defining a metaclass for the parent class that restricts attribute modification, you can enforce constraints on child classes.\n",
      " \n"
     ]
    }
   ],
   "source": [
    "# 13. How can you prevent a child class from modifying certain attributes or methods inherited from a parent\n",
    "# class in Python?\n",
    "\n",
    "print('''In Python, you can prevent a child class from modifying certain attributes or methods inherited from a parent class by using the following techniques:\n",
    "\n",
    "Private Attributes and Methods: You can define attributes and methods in the parent class as private by prefixing their names with double underscores (__). This makes them inaccessible to the child class, preventing direct modification or overriding.\n",
    "Property Decorators: You can use property decorators to define getter methods for attributes in the parent class. By omitting the setter method, you can make the attribute read-only, preventing modification by the child class.\n",
    "Final Methods: You can mark methods in the parent class as final by raising a NotImplementedError in their implementations. This indicates to the child class that the method should not be overridden.\n",
    "Metaclass: You can use metaclasses to define custom behavior for class creation. By defining a metaclass for the parent class that restricts attribute modification, you can enforce constraints on child classes.\n",
    " ''')"
   ]
  },
  {
   "cell_type": "code",
   "execution_count": 2,
   "id": "4a1b5f05-9cb9-4bd0-a87d-5b37e85dbfee",
   "metadata": {},
   "outputs": [],
   "source": [
    "# 14. Create a Python class called `Employee` with attributes `name` and `salary`. \n",
    "# Then, create a child class\n",
    "# `Manager` that inherits from `Employee` and adds an attribute `department`. Provide an example.\n",
    "\n",
    "class employee:\n",
    "    \n",
    "    def __init__(self,name,salary):\n",
    "        self.name= name\n",
    "        self.salary = salary\n",
    "        \n",
    "        \n",
    "class manager(employee):\n",
    "    \n",
    "    def __init__(self,name,salary,department):\n",
    "        super().__init__(name,salary)\n",
    "        self.department = department\n",
    "        \n",
    "m1 = manager(\"Harsh\",1234,\"school\")    "
   ]
  },
  {
   "cell_type": "code",
   "execution_count": 4,
   "id": "3ee9706c-538b-4438-957a-671339e0cc68",
   "metadata": {},
   "outputs": [
    {
     "name": "stdout",
     "output_type": "stream",
     "text": [
      "this is a fly method\n",
      "this is a fly method\n",
      "this is a method inside eagle  class\n",
      "this is a fly method\n",
      "this is a method inside Sparrow  class\n"
     ]
    }
   ],
   "source": [
    "# 17. Create a Python class called `Bird` with a method `fly()`. \n",
    "# Then, create child classes `Eagle` and `Sparrow` that inherit from `Bird` and implement the `fly()` \n",
    "# method differently. Provide an example of using these\n",
    "# classes.\n",
    "\n",
    "class Bird:\n",
    "    \n",
    "    def __init__(self):\n",
    "        pass\n",
    "    \n",
    "    def fly(self):\n",
    "        print(\"this is a fly method\")\n",
    "        \n",
    "    \n",
    "class Eagle(Bird):\n",
    "    \n",
    "    def fly(self):\n",
    "        super().fly()\n",
    "        print(\"this is a method inside eagle  class\")\n",
    "        \n",
    "class Sparrow(Bird):\n",
    "    \n",
    "    def fly(self):\n",
    "        super().fly()\n",
    "        print(\"this is a method inside Sparrow  class\")\n",
    "        \n",
    "b1 = Bird()\n",
    "b1.fly()\n",
    "\n",
    "e1 = Eagle()\n",
    "e1.fly()\n",
    "\n",
    "s1  = Sparrow()\n",
    "s1.fly()"
   ]
  },
  {
   "cell_type": "code",
   "execution_count": 33,
   "id": "a031e44d-df14-4a1d-b5b8-0116f2a13536",
   "metadata": {},
   "outputs": [
    {
     "name": "stdout",
     "output_type": "stream",
     "text": [
      "The \"diamond problem\" is a common issue that arises in programming languages that support multiple inheritance, where a subclass inherits from two or more classes that have a common ancestor. This leads to ambiguity in the inheritance hierarchy, specifically when methods or attributes from the common ancestor are overridden in the intermediate classes. \n"
     ]
    }
   ],
   "source": [
    "# 18. What is the \"diamond problem\" in multiple inheritance, and how does Python address it?\n",
    "\n",
    "print('''The \"diamond problem\" is a common issue that arises in programming languages that support multiple inheritance, where a subclass inherits from two or more classes that have a common ancestor. This leads to ambiguity in the inheritance hierarchy, specifically when methods or attributes from the common ancestor are overridden in the intermediate classes. ''')"
   ]
  },
  {
   "cell_type": "code",
   "execution_count": 35,
   "id": "0e25b79e-053b-413d-950c-423afb8291f9",
   "metadata": {},
   "outputs": [
    {
     "name": "stdout",
     "output_type": "stream",
     "text": [
      "The concepts of \"is-a\" and \"has-a\" relationships are fundamental in object-oriented programming and are commonly used to describe the relationships between classes.\n",
      "\n",
      "\"Is-a\" Relationship (Inheritance): In an \"is-a\" relationship, one class is a specialized version of another class. This relationship is typically implemented using inheritance, where a subclass inherits properties and behavior from a superclass. The subclass is said to \"be\" the superclass. It implies an \"is a kind of\" or \"is a type of\" relationship. \n",
      "\n",
      "\"Has-a\" Relationship (Composition): In a \"has-a\" relationship, one class contains an instance of another class as a member. This relationship is typically implemented using composition, where one class \"has\" another class as a part of its structure. It implies a \"has a\" or \"contains a\" relationship.\n"
     ]
    }
   ],
   "source": [
    "# 19. Discuss the concept of \"is-a\" and \"has-a\" relationships in inheritance, and provide examples of each.\n",
    "\n",
    "print('''The concepts of \"is-a\" and \"has-a\" relationships are fundamental in object-oriented programming and are commonly used to describe the relationships between classes.\n",
    "\n",
    "\"Is-a\" Relationship (Inheritance): In an \"is-a\" relationship, one class is a specialized version of another class. This relationship is typically implemented using inheritance, where a subclass inherits properties and behavior from a superclass. The subclass is said to \"be\" the superclass. It implies an \"is a kind of\" or \"is a type of\" relationship. \n",
    "\n",
    "\"Has-a\" Relationship (Composition): In a \"has-a\" relationship, one class contains an instance of another class as a member. This relationship is typically implemented using composition, where one class \"has\" another class as a part of its structure. It implies a \"has a\" or \"contains a\" relationship.''')"
   ]
  },
  {
   "cell_type": "code",
   "execution_count": 5,
   "id": "8df654e3-5d99-471e-9e7f-5c11f4bf07a2",
   "metadata": {},
   "outputs": [],
   "source": [
    "# 20. Create a Python class hierarchy for a university system. Start with a base class `Person` and \n",
    "# create child classes `Student` and `Professor`, each with their own attributes and methods.\n",
    "# Provide an example of using these classes in a university context.\n",
    "\n",
    "class person:\n",
    "    \n",
    "    def __init__(self, personname):\n",
    "        self.personname = personname\n",
    "        \n",
    "    \n",
    "    \n",
    "class Student(person):\n",
    "    \n",
    "    def __init__(self, stdname):\n",
    "        self.stdname = stdname\n",
    "        \n",
    "    \n",
    "    def std_percentage(self, percentage):\n",
    "        self.percentage = percentage\n",
    "        print(\"this is a method which provides information about student percentage\")\n",
    "        \n",
    "class Professor(person):\n",
    "    \n",
    "    def __init__(self, pfname):\n",
    "        self.stdname = pfname\n",
    "        \n",
    "    \n",
    "    def pf_salary(self, salary):\n",
    "        self.salary = salary\n",
    "        print(\"this is a method which provides information about Professor salary\")    "
   ]
  },
  {
   "cell_type": "code",
   "execution_count": 1,
   "id": "f53122e9-51b6-45d3-bedf-a42ac78f7ad0",
   "metadata": {},
   "outputs": [],
   "source": [
    "# Polymorphism:"
   ]
  },
  {
   "cell_type": "code",
   "execution_count": 2,
   "id": "8e9fb161-c2ae-48bb-ab49-29618443deb7",
   "metadata": {},
   "outputs": [
    {
     "name": "stdout",
     "output_type": "stream",
     "text": [
      "In object-oriented-based Python programming, Polymorphism means the same function name is being used for different types. Each function is differentiated based on its data type and number of arguments. So, each function has a different signature. This allows developers to write clean, readable, and resilient codes.\n"
     ]
    }
   ],
   "source": [
    "# 1. What is polymorphism in Python? Explain how it is related to object-oriented programming.\n",
    "print(\"In object-oriented-based Python programming, Polymorphism means the same function name is being used for different types. Each function is differentiated based on its data type and number of arguments. So, each function has a different signature. This allows developers to write clean, readable, and resilient codes.\")"
   ]
  },
  {
   "cell_type": "code",
   "execution_count": 3,
   "id": "3f476d6c-8589-40fd-b926-e523e8227c17",
   "metadata": {},
   "outputs": [
    {
     "name": "stdout",
     "output_type": "stream",
     "text": [
      "In compile-time polymorphism, the compiler determines which function or operation to call based on the number, types, and order of arguments. In run-time polymorphism, the decision of which function to call is determined at runtime based on the actual object type rather than the reference or pointer type.\n"
     ]
    }
   ],
   "source": [
    "# 2. Describe the difference between compile-time polymorphism and runtime polymorphism in Python.\n",
    "print(\"In compile-time polymorphism, the compiler determines which function or operation to call based on the number, types, and order of arguments. In run-time polymorphism, the decision of which function to call is determined at runtime based on the actual object type rather than the reference or pointer type.\")"
   ]
  },
  {
   "cell_type": "code",
   "execution_count": 4,
   "id": "679a5285-f073-460b-a99e-1244594c9f22",
   "metadata": {},
   "outputs": [],
   "source": [
    "# 3. Create a Python class hierarchy for shapes (e.g., circle, square, triangle) and demonstrate polymorphism\n",
    "# through a common method, such as `calculate_area()`.\n",
    "\n",
    "class circle:\n",
    "    \n",
    "    def __init__(self):\n",
    "        pass\n",
    "    \n",
    "    def calculate_area(self, radius):\n",
    "        self.radius = radius\n",
    "        print(f\"area of circle is {2*3.14*self.radius}\")\n",
    "        \n",
    "    \n",
    "class square:\n",
    "    \n",
    "    def __init__(self):\n",
    "        pass\n",
    "    \n",
    "    def calculate_area(self, side):\n",
    "        self.side = side\n",
    "        print(f\"area of circle is {self.side*self.side}\")\n",
    "        \n",
    "class triangle:\n",
    "    \n",
    "    def __init__(self):\n",
    "        pass\n",
    "    \n",
    "    def calculate_area(self, base, height):\n",
    "        self.base = base\n",
    "        self.height = height\n",
    "        print(f\"area of circle is {1/2*self.base*self.height}\")\n",
    "    \n"
   ]
  },
  {
   "cell_type": "code",
   "execution_count": 5,
   "id": "5dfbd739-7d6c-4b65-b0af-47c7748d36fc",
   "metadata": {},
   "outputs": [
    {
     "name": "stdout",
     "output_type": "stream",
     "text": [
      "When a method in a subclass has the same name, the same parameters or signature, and the same return type(or sub-type) as a method in its super-class, then the method in the subclass is said to override the method in the super-class. \n"
     ]
    }
   ],
   "source": [
    "# 4. Explain the concept of method overriding in polymorphism. Provide an example.\n",
    "print(\"When a method in a subclass has the same name, the same parameters or signature, and the same return type(or sub-type) as a method in its super-class, then the method in the subclass is said to override the method in the super-class. \")"
   ]
  },
  {
   "cell_type": "code",
   "execution_count": 7,
   "id": "4829475a-e0f7-42e5-a68e-f8d8820d50d6",
   "metadata": {},
   "outputs": [
    {
     "name": "stdout",
     "output_type": "stream",
     "text": [
      "Polymorphism refers to the ability of different objects to respond to the same message or method invocation in different ways. In Python, polymorphism is achieved through method overriding in inheritance.\n",
      "\n",
      "Method overloading refers to the ability to define multiple methods in a class with the same name but with different parameters. However, Python does not support method overloading in the traditional sense because it allows only one method with a particular name within a class.\n"
     ]
    }
   ],
   "source": [
    "# 5. How is polymorphism different from method overloading in Python? Provide examples for both.\n",
    "\n",
    "print(\"Polymorphism refers to the ability of different objects to respond to the same message or method invocation in different ways. In Python, polymorphism is achieved through method overriding in inheritance.\")\n",
    "\n",
    "\n",
    "print()\n",
    "\n",
    "print(\"Method overloading refers to the ability to define multiple methods in a class with the same name but with different parameters. However, Python does not support method overloading in the traditional sense because it allows only one method with a particular name within a class.\")"
   ]
  },
  {
   "cell_type": "code",
   "execution_count": 2,
   "id": "701bba2c-9d0e-4872-8340-cce8004dbd3e",
   "metadata": {},
   "outputs": [
    {
     "name": "stdout",
     "output_type": "stream",
     "text": [
      "this is the speak method inside Animal class\n",
      "this is the speak method inside dog class\n",
      "this is the speak method inside cat class\n",
      "this is the speak method inside bird class\n"
     ]
    }
   ],
   "source": [
    "# 6. Create a Python class called `Animal` with a method `speak()`. Then, create child classes like `Dog`, \n",
    "# `Cat`, and `Bird`, each with their own `speak()` method.\n",
    "# Demonstrate polymorphism by calling the `speak()` method\n",
    "# on objects of different subclasses.\n",
    "\n",
    "\n",
    "class Animal:\n",
    "    \n",
    "    def speak(self):\n",
    "        print(\"this is the speak method inside Animal class\")\n",
    "        \n",
    "\n",
    "class Dog(Animal):\n",
    "    \n",
    "    def speak(self):\n",
    "        print(\"this is the speak method inside dog class\")\n",
    "        \n",
    "class Cat(Animal):\n",
    "    \n",
    "    def speak(self):\n",
    "        print(\"this is the speak method inside cat class\")\n",
    "        \n",
    "class Bird(Animal):\n",
    "    \n",
    "    def speak(self):\n",
    "        print(\"this is the speak method inside bird class\")\n",
    "        \n",
    "a1= Animal()\n",
    "a1.speak()\n",
    "\n",
    "\n",
    "d1 = Dog()\n",
    "d1.speak()\n",
    "\n",
    "c1 = Cat()\n",
    "c1.speak()\n",
    "\n",
    "\n",
    "b1 = Bird()\n",
    "b1.speak()"
   ]
  },
  {
   "cell_type": "code",
   "execution_count": 3,
   "id": "7c1cae54-467d-448c-9c98-7e613de035fa",
   "metadata": {},
   "outputs": [
    {
     "name": "stdout",
     "output_type": "stream",
     "text": [
      "Abstract methods and classes are tools provided by Python for achieving polymorphism, particularly through method overriding in inheritance. They allow you to define a blueprint for a class and its methods without necessarily implementing those methods in the abstract class. Instead, the responsibility for implementing these methods falls on the concrete subclasses. The abc module (Abstract Base Classes) in Python facilitates the creation of abstract classes and abstract methods.\n"
     ]
    }
   ],
   "source": [
    "# 7. Discuss the use of abstract methods and classes in achieving polymorphism in Python. Provide an example\n",
    "# using the `abc` module.\n",
    "\n",
    "print(\"Abstract methods and classes are tools provided by Python for achieving polymorphism, particularly through method overriding in inheritance. They allow you to define a blueprint for a class and its methods without necessarily implementing those methods in the abstract class. Instead, the responsibility for implementing these methods falls on the concrete subclasses. The abc module (Abstract Base Classes) in Python facilitates the creation of abstract classes and abstract methods.\")"
   ]
  },
  {
   "cell_type": "code",
   "execution_count": 4,
   "id": "d82db660-72a0-498c-8bf3-e8bf407abe09",
   "metadata": {},
   "outputs": [
    {
     "name": "stdout",
     "output_type": "stream",
     "text": [
      "this is the start method inside vehicle class\n",
      "this is the start method inside car class\n",
      "this is the start method inside bicycle class\n",
      "this is the start method inside boat class\n"
     ]
    }
   ],
   "source": [
    "# 8. Create a Python class hierarchy for a vehicle system (e.g., car, bicycle, boat) and \n",
    "# implement a polymorphic `start()` method that prints a message specific to each vehicle type.\n",
    "\n",
    "class Vehicle:\n",
    "    \n",
    "    def start(self):\n",
    "        print(\"this is the start method inside vehicle class\")\n",
    "        \n",
    "class car:\n",
    "    \n",
    "    def start(self):\n",
    "        print(\"this is the start method inside car class\")\n",
    "\n",
    "class bicycle:\n",
    "    \n",
    "    def start(self):\n",
    "        print(\"this is the start method inside bicycle class\")\n",
    "        \n",
    "class boat:\n",
    "    \n",
    "    def start(self):\n",
    "        print(\"this is the start method inside boat class\")\n",
    "\n",
    "v1 = Vehicle()\n",
    "v1.start()\n",
    "\n",
    "c1 = car()\n",
    "c1.start()\n",
    "\n",
    "b1 = bicycle()\n",
    "b1.start()\n",
    "\n",
    "\n",
    "b1 = boat()\n",
    "b1.start()\n"
   ]
  },
  {
   "cell_type": "code",
   "execution_count": 7,
   "id": "afe3af15-5566-4cb9-899d-2f2ffd3f105f",
   "metadata": {},
   "outputs": [
    {
     "name": "stdout",
     "output_type": "stream",
     "text": [
      "isinstance() function:\n",
      "\n",
      "This function is used to check if an object is an instance of a particular class or any of its subclasses.\n",
      "It takes two parameters: the object to be checked and the class (or tuple of classes) to check against.\n",
      "Returns True if the object is an instance of the specified class or any subclass, otherwise returns False \n",
      "\n",
      "issubclass() function:\n",
      "\n",
      "This function is used to check if a class is a subclass of another class.\n",
      "It takes two parameters: the class to be checked and the class (or tuple of classes) to check against.\n",
      "Returns True if the first class is a subclass of the specified class or any of its subclasses, otherwise returns False. \n"
     ]
    }
   ],
   "source": [
    "# 9. Explain the significance of the `isinstance()` and `issubclass()` functions in Python polymorphism.\n",
    "\n",
    "print('''isinstance() function:\n",
    "\n",
    "This function is used to check if an object is an instance of a particular class or any of its subclasses.\n",
    "It takes two parameters: the object to be checked and the class (or tuple of classes) to check against.\n",
    "Returns True if the object is an instance of the specified class or any subclass, otherwise returns False ''')\n",
    "\n",
    "print()\n",
    "\n",
    "print('''issubclass() function:\n",
    "\n",
    "This function is used to check if a class is a subclass of another class.\n",
    "It takes two parameters: the class to be checked and the class (or tuple of classes) to check against.\n",
    "Returns True if the first class is a subclass of the specified class or any of its subclasses, otherwise returns False. ''')"
   ]
  },
  {
   "cell_type": "code",
   "execution_count": 10,
   "id": "5d247fb1-ebef-408b-b2fc-5c271b09f4e8",
   "metadata": {},
   "outputs": [
    {
     "name": "stdout",
     "output_type": "stream",
     "text": [
      "\n",
      "The @abstractmethod decorator, provided by the abc (Abstract Base Classes) module in Python, plays a crucial role in achieving polymorphism by allowing the definition of abstract methods within abstract classes. Abstract methods are methods that are declared in the base class but are meant to be implemented by the subclasses. This promotes a consistent interface across different subclasses, enabling polymorphic behavior.\n",
      "\n",
      "\n"
     ]
    }
   ],
   "source": [
    "# 10. What is the role of the `@abstractmethod` decorator in achieving polymorphism in Python? Provide an\n",
    "# example.\n",
    "\n",
    "print('''\n",
    "The @abstractmethod decorator, provided by the abc (Abstract Base Classes) module in Python, plays a crucial role in achieving polymorphism by allowing the definition of abstract methods within abstract classes. Abstract methods are methods that are declared in the base class but are meant to be implemented by the subclasses. This promotes a consistent interface across different subclasses, enabling polymorphic behavior.\n",
    "\n",
    "''')\n",
    "\n",
    "from abc import ABC, abstractmethod\n",
    "\n",
    "# Define an abstract class with abstract methods\n",
    "class Shape(ABC):\n",
    "    @abstractmethod\n",
    "    def area(self):\n",
    "        pass\n",
    "\n",
    "    @abstractmethod\n",
    "    def perimeter(self):\n",
    "        pass"
   ]
  },
  {
   "cell_type": "code",
   "execution_count": 11,
   "id": "a558c49e-e30c-4ee0-a6b7-6384952444ec",
   "metadata": {},
   "outputs": [],
   "source": [
    "# 11. Create a Python class called `Shape` with a polymorphic method `area()` that calculates\n",
    "# the area of different shapes (e.g., circle, rectangle, triangle).\n",
    "\n",
    "class Shape:\n",
    "    \n",
    "    def area(self):\n",
    "        print(\"this is the area method inside shape class\")\n",
    "        \n",
    "\n",
    "class cicle:\n",
    "    \n",
    "    def __init__(self, raidus):\n",
    "        self.radius = radius\n",
    "        \n",
    "    def area(self):\n",
    "        print(f\"area of circle is {2*3.14*self.radius}\")\n",
    "        \n",
    "class rectangle:\n",
    "    \n",
    "    def __init__(self, length, width):\n",
    "        self.length = length\n",
    "        self.width = width\n",
    "        \n",
    "    def area(self):\n",
    "        print(f\"area of rectangle is {2*(self.length+self.width)}\")\n",
    "\n",
    "class triangle:\n",
    "    \n",
    "    def __init__(self, base, height):\n",
    "        self.base = base\n",
    "        self.heigth = height\n",
    "        \n",
    "    def area(self):\n",
    "        print(f\"area of triangle is {1/2*self.base*self.heigth}\")\n",
    "        \n",
    "        "
   ]
  },
  {
   "cell_type": "code",
   "execution_count": 14,
   "id": "18631dd4-b032-46cf-b740-1e44c1be8225",
   "metadata": {},
   "outputs": [
    {
     "name": "stdout",
     "output_type": "stream",
     "text": [
      "Polymorphism offers several benefits in terms of code reusability and flexibility in Python programs:\n",
      "\n",
      "Code Reusability:\n",
      "\n",
      "Polymorphism allows for the creation of generic and flexible code that can operate on objects of different classes in a uniform manner.\n",
      "By defining common interfaces through abstract classes or inheritance hierarchies, polymorphism enables the reuse of code across multiple classes and modules.\n",
      "Once a base class or interface is defined, different subclasses can be created to provide specific implementations while still adhering to the common interface. This promotes code reuse without the need for duplicating code.\n",
      "Flexibility:\n",
      "\n",
      "Polymorphism enables the creation of flexible and adaptable code that can handle diverse types of objects without the need for explicit type checking.\n",
      "By treating objects uniformly through a common interface, polymorphism allows for the writing of generic algorithms and functions that can operate on a variety of object types.\n",
      "It facilitates loose coupling between components of a program, as code can interact with objects based on their common interface rather than their specific implementations. This enhances the maintainability and scalability of the codebase.\n"
     ]
    }
   ],
   "source": [
    "# 12. Discuss the benefits of polymorphism in terms of code reusability and flexibility in Python programs.\n",
    "\n",
    "print('''Polymorphism offers several benefits in terms of code reusability and flexibility in Python programs:\n",
    "\n",
    "Code Reusability:\n",
    "\n",
    "Polymorphism allows for the creation of generic and flexible code that can operate on objects of different classes in a uniform manner.\n",
    "By defining common interfaces through abstract classes or inheritance hierarchies, polymorphism enables the reuse of code across multiple classes and modules.\n",
    "Once a base class or interface is defined, different subclasses can be created to provide specific implementations while still adhering to the common interface. This promotes code reuse without the need for duplicating code.\n",
    "Flexibility:\n",
    "\n",
    "Polymorphism enables the creation of flexible and adaptable code that can handle diverse types of objects without the need for explicit type checking.\n",
    "By treating objects uniformly through a common interface, polymorphism allows for the writing of generic algorithms and functions that can operate on a variety of object types.\n",
    "It facilitates loose coupling between components of a program, as code can interact with objects based on their common interface rather than their specific implementations. This enhances the maintainability and scalability of the codebase.''')"
   ]
  },
  {
   "cell_type": "code",
   "execution_count": 15,
   "id": "71ae7e90-a17c-415d-a8ce-7de2ed978aa7",
   "metadata": {},
   "outputs": [
    {
     "name": "stdout",
     "output_type": "stream",
     "text": [
      " The super() function in Python is used to call methods and access attributes from the parent class (superclass) within a subclass. It provides a way to invoke the methods of the superclass without explicitly naming the superclass. This is particularly useful in achieving polymorphic behavior and maintaining a clean and consistent code structure.\n",
      "\n",
      "Here's how super() helps call methods of parent classes and its role in Python polymorphism:\n",
      "\n",
      "Accessing Parent Class Methods:\n",
      "\n",
      "When invoked inside a method of a subclass, super() returns a proxy object that delegates method calls to the parent class.\n",
      "By calling methods using super(), you can access and execute the implementation of the method defined in the parent class.\n",
      "Maintaining Method Resolution Order (MRO):\n",
      "\n",
      "The super() function ensures that methods are called in the correct order according to the Method Resolution Order (MRO) of the classes involved.\n",
      "It resolves method resolution order ambiguities, ensuring that the correct method is invoked, especially in cases of multiple inheritance.\n",
      "Achieving Polymorphism:\n",
      "\n",
      "super() enables polymorphic behavior by allowing subclasses to override methods defined in the parent class while still being able to call the original implementation if needed.\n",
      "This promotes code reuse and maintains a consistent interface across different subclasses, facilitating polymorphic behavior where objects of different types can respond to the same method invocation.\n"
     ]
    }
   ],
   "source": [
    "# 13. Explain the use of the `super()` function in Python polymorphism. \n",
    "# How does it help call methods of parent classes?\n",
    "\n",
    "print(''' The super() function in Python is used to call methods and access attributes from the parent class (superclass) within a subclass. It provides a way to invoke the methods of the superclass without explicitly naming the superclass. This is particularly useful in achieving polymorphic behavior and maintaining a clean and consistent code structure.\n",
    "\n",
    "Here's how super() helps call methods of parent classes and its role in Python polymorphism:\n",
    "\n",
    "Accessing Parent Class Methods:\n",
    "\n",
    "When invoked inside a method of a subclass, super() returns a proxy object that delegates method calls to the parent class.\n",
    "By calling methods using super(), you can access and execute the implementation of the method defined in the parent class.\n",
    "Maintaining Method Resolution Order (MRO):\n",
    "\n",
    "The super() function ensures that methods are called in the correct order according to the Method Resolution Order (MRO) of the classes involved.\n",
    "It resolves method resolution order ambiguities, ensuring that the correct method is invoked, especially in cases of multiple inheritance.\n",
    "Achieving Polymorphism:\n",
    "\n",
    "super() enables polymorphic behavior by allowing subclasses to override methods defined in the parent class while still being able to call the original implementation if needed.\n",
    "This promotes code reuse and maintains a consistent interface across different subclasses, facilitating polymorphic behavior where objects of different types can respond to the same method invocation.''')"
   ]
  },
  {
   "cell_type": "code",
   "execution_count": 1,
   "id": "0e2832f5-4ac0-41a8-b148-13f90391c29f",
   "metadata": {},
   "outputs": [],
   "source": [
    "# 14. Create a Python class hierarchy for a banking system with various account types \n",
    "# (e.g., savings, checking, credit card) and demonstrate polymorphism by implementing a \n",
    "# common `withdraw()` method.\n",
    "\n",
    "class savings:\n",
    "    \n",
    "    def withdraw(self):\n",
    "        print(\"this is the withdraw method inside savings method\")\n",
    "        \n",
    "\n",
    "class checking:\n",
    "    \n",
    "    def withdraw(self):\n",
    "        print(\"this is the withdraw method inside checking method\")\n",
    "        \n",
    "class credit_card:\n",
    "    \n",
    "    def withdraw(self):\n",
    "        print(\"this is the withdraw method inside credit_card method\")\n"
   ]
  },
  {
   "cell_type": "code",
   "execution_count": 2,
   "id": "544af87d-892c-4132-8cfb-67d16fb03ca1",
   "metadata": {},
   "outputs": [
    {
     "name": "stdout",
     "output_type": "stream",
     "text": [
      " Operator overloading in Python refers to the practice of defining special methods in a class that determine how operators behave when applied to instances of that class. These special methods are also known as magic methods or dunder methods, as they are surrounded by double underscores (__). Operator overloading allows you to define custom behavior for built-in operators, such as +, -, *, /, and others.\n",
      "\n",
      "The concept of operator overloading relates to polymorphism in Python as it enables objects of different classes to respond to the same operator in different ways. This promotes a consistent interface across different object types, allowing for polymorphic behavior where operators can act on objects of various classes.\n"
     ]
    }
   ],
   "source": [
    "# 15. Describe the concept of operator overloading in Python and how it relates to polymorphism. Provide\n",
    "# examples using operators like `+` and `*`.\n",
    "\n",
    "print(''' Operator overloading in Python refers to the practice of defining special methods in a class that determine how operators behave when applied to instances of that class. These special methods are also known as magic methods or dunder methods, as they are surrounded by double underscores (__). Operator overloading allows you to define custom behavior for built-in operators, such as +, -, *, /, and others.\n",
    "\n",
    "The concept of operator overloading relates to polymorphism in Python as it enables objects of different classes to respond to the same operator in different ways. This promotes a consistent interface across different object types, allowing for polymorphic behavior where operators can act on objects of various classes.''')"
   ]
  },
  {
   "cell_type": "code",
   "execution_count": 3,
   "id": "5417d282-c753-426f-98c2-6dad7d44f386",
   "metadata": {},
   "outputs": [
    {
     "name": "stdout",
     "output_type": "stream",
     "text": [
      " Dynamic polymorphism, also known as runtime polymorphism or late binding, is a feature of object-oriented programming languages that allows methods to be invoked at runtime and overridden in subclasses. It enables objects of different classes to respond to the same message or method invocation in different ways, based on their specific implementations.\n",
      "\n",
      "In Python, dynamic polymorphism is achieved through method overriding in inheritance. When a method is called on an object, Python dynamically dispatches the method invocation based on the actual type of the object at runtime, rather than its declared type. This means that if a subclass overrides a method defined in its superclass, the overridden method will be invoked when the method is called on an instance of the subclass.\n",
      "\n",
      "Here's how dynamic polymorphism is achieved in Python:\n",
      "\n",
      "Inheritance: Dynamic polymorphism relies on inheritance to define a common interface (methods) in a superclass and override those methods in its subclasses.\n",
      "\n",
      "Method Overriding: Subclasses override methods defined in the superclass to provide specific implementations tailored to the subclass.\n",
      "\n",
      "Method Invocation: When a method is called on an object, Python dynamically dispatches the method invocation based on the actual type of the object at runtime.\n"
     ]
    }
   ],
   "source": [
    "# 16. What is dynamic polymorphism, and how is it achieved in Python?\n",
    "\n",
    "print(''' Dynamic polymorphism, also known as runtime polymorphism or late binding, is a feature of object-oriented programming languages that allows methods to be invoked at runtime and overridden in subclasses. It enables objects of different classes to respond to the same message or method invocation in different ways, based on their specific implementations.\n",
    "\n",
    "In Python, dynamic polymorphism is achieved through method overriding in inheritance. When a method is called on an object, Python dynamically dispatches the method invocation based on the actual type of the object at runtime, rather than its declared type. This means that if a subclass overrides a method defined in its superclass, the overridden method will be invoked when the method is called on an instance of the subclass.\n",
    "\n",
    "Here's how dynamic polymorphism is achieved in Python:\n",
    "\n",
    "Inheritance: Dynamic polymorphism relies on inheritance to define a common interface (methods) in a superclass and override those methods in its subclasses.\n",
    "\n",
    "Method Overriding: Subclasses override methods defined in the superclass to provide specific implementations tailored to the subclass.\n",
    "\n",
    "Method Invocation: When a method is called on an object, Python dynamically dispatches the method invocation based on the actual type of the object at runtime.''')"
   ]
  },
  {
   "cell_type": "code",
   "execution_count": 4,
   "id": "419e2acd-ab89-453b-a303-f19b94c4de81",
   "metadata": {},
   "outputs": [],
   "source": [
    "# 17. Create a Python class hierarchy for employees in a company \n",
    "# (e.g., manager, developer, designer) and implement polymorphism through a \n",
    "# common `calculate_salary()` method.\n",
    "\n",
    "class manager:\n",
    "    \n",
    "    def calculate_salary(self):\n",
    "        print(\"this is the calculate salary method inside manager class\")\n",
    "        \n",
    "\n",
    "class developer:\n",
    "    \n",
    "    def calculate_salary(self):\n",
    "        print(\"this is the calculate salary method inside developer class\")\n",
    "        \n",
    "\n",
    "class designer:\n",
    "    \n",
    "    def calculate_salary(self):\n",
    "        print(\"this is the calculate salary method inside designer class\")\n",
    "        "
   ]
  },
  {
   "cell_type": "code",
   "execution_count": 5,
   "id": "4cb6326e-20f4-4651-a608-80de365edb60",
   "metadata": {},
   "outputs": [
    {
     "name": "stdout",
     "output_type": "stream",
     "text": [
      "In Python, there aren't function pointers in the same sense as in languages like C or C++. However, Python does have first-class functions, which means functions can be passed as arguments to other functions, returned from functions, and assigned to variables. This feature allows for a form of polymorphism where different functions can be used interchangeably in code that expects a specific interface.\n"
     ]
    }
   ],
   "source": [
    "# 18. Discuss the concept of function pointers and how they can be used to achieve polymorphism in Python.\n",
    "\n",
    "print(\"In Python, there aren't function pointers in the same sense as in languages like C or C++. However, Python does have first-class functions, which means functions can be passed as arguments to other functions, returned from functions, and assigned to variables. This feature allows for a form of polymorphism where different functions can be used interchangeably in code that expects a specific interface.\")"
   ]
  },
  {
   "cell_type": "code",
   "execution_count": 6,
   "id": "8596172e-03e0-41f5-9190-17c4e4ef4488",
   "metadata": {},
   "outputs": [
    {
     "name": "stdout",
     "output_type": "stream",
     "text": [
      " Interfaces and abstract classes are both mechanisms used in object-oriented programming to achieve polymorphism by defining a common interface for a group of related classes. While they serve similar purposes, there are differences in how they are implemented and used.\n",
      "\n",
      "Abstract Classes:\n",
      "\n",
      "An abstract class is a class that cannot be instantiated on its own and is meant to be subclassed. It may contain abstract methods, which are methods without implementations.\n",
      "Abstract classes can provide a partial implementation of a class by implementing some methods and leaving others to be implemented by subclasses.\n",
      "Subclasses of an abstract class must implement all the abstract methods defined by the abstract class, thus ensuring that they adhere to a common interface.\n",
      "Abstract classes can also contain concrete methods that can be inherited by subclasses, providing shared functionality.\n",
      "In Python, abstract classes are created using the abc module, and the @abstractmethod decorator is used to mark methods as abstract.\n",
      "Interfaces:\n",
      "\n",
      "An interface defines a contract for classes, specifying a set of methods that must be implemented by any class that implements the interface.\n",
      "Unlike abstract classes, interfaces in Python do not contain any implementation details. They only define method signatures without providing any method implementations.\n",
      "A class can implement multiple interfaces, allowing it to fulfill the requirements of different contracts.\n",
      "Interfaces promote loose coupling between components of a system, as they allow objects to interact based on common behavior rather than specific implementations.\n",
      "In Python, interfaces are not explicitly defined as a language construct. Instead, they are achieved through informal agreements or conventions.\n",
      "Comparisons:\n",
      "\n",
      "Instantiation: Abstract classes cannot be instantiated directly, whereas interfaces do not have instances at all. They are implemented by classes.\n",
      "Method Implementation: Abstract classes may contain both abstract and concrete methods, while interfaces only define method signatures without any implementations.\n",
      "Subclassing/Implementing: Subclasses of an abstract class must implement all its abstract methods, whereas classes implementing an interface must implement all the methods defined by the interface.\n",
      "Flexibility: Interfaces offer more flexibility as a class can implement multiple interfaces, whereas a class can inherit from only one abstract class (but can implement multiple interfaces through multiple inheritance).\n",
      "Intent: Abstract classes are often used when there is shared functionality among subclasses, whereas interfaces are used to define common behavior without specifying any implementation details.\n",
      "In summary, both abstract classes and interfaces play a crucial role in achieving polymorphism by defining a common interface for a group of related classes. The choice between them depends on the specific requirements and design considerations of the system being developed.\n"
     ]
    }
   ],
   "source": [
    "# 19. Explain the role of interfaces and abstract classes in polymorphism, drawing comparisons between them.\n",
    "\n",
    "print(''' Interfaces and abstract classes are both mechanisms used in object-oriented programming to achieve polymorphism by defining a common interface for a group of related classes. While they serve similar purposes, there are differences in how they are implemented and used.\n",
    "\n",
    "Abstract Classes:\n",
    "\n",
    "An abstract class is a class that cannot be instantiated on its own and is meant to be subclassed. It may contain abstract methods, which are methods without implementations.\n",
    "Abstract classes can provide a partial implementation of a class by implementing some methods and leaving others to be implemented by subclasses.\n",
    "Subclasses of an abstract class must implement all the abstract methods defined by the abstract class, thus ensuring that they adhere to a common interface.\n",
    "Abstract classes can also contain concrete methods that can be inherited by subclasses, providing shared functionality.\n",
    "In Python, abstract classes are created using the abc module, and the @abstractmethod decorator is used to mark methods as abstract.\n",
    "Interfaces:\n",
    "\n",
    "An interface defines a contract for classes, specifying a set of methods that must be implemented by any class that implements the interface.\n",
    "Unlike abstract classes, interfaces in Python do not contain any implementation details. They only define method signatures without providing any method implementations.\n",
    "A class can implement multiple interfaces, allowing it to fulfill the requirements of different contracts.\n",
    "Interfaces promote loose coupling between components of a system, as they allow objects to interact based on common behavior rather than specific implementations.\n",
    "In Python, interfaces are not explicitly defined as a language construct. Instead, they are achieved through informal agreements or conventions.\n",
    "Comparisons:\n",
    "\n",
    "Instantiation: Abstract classes cannot be instantiated directly, whereas interfaces do not have instances at all. They are implemented by classes.\n",
    "Method Implementation: Abstract classes may contain both abstract and concrete methods, while interfaces only define method signatures without any implementations.\n",
    "Subclassing/Implementing: Subclasses of an abstract class must implement all its abstract methods, whereas classes implementing an interface must implement all the methods defined by the interface.\n",
    "Flexibility: Interfaces offer more flexibility as a class can implement multiple interfaces, whereas a class can inherit from only one abstract class (but can implement multiple interfaces through multiple inheritance).\n",
    "Intent: Abstract classes are often used when there is shared functionality among subclasses, whereas interfaces are used to define common behavior without specifying any implementation details.\n",
    "In summary, both abstract classes and interfaces play a crucial role in achieving polymorphism by defining a common interface for a group of related classes. The choice between them depends on the specific requirements and design considerations of the system being developed.''')"
   ]
  },
  {
   "cell_type": "code",
   "execution_count": 7,
   "id": "2c42e1b7-8142-4dc5-bb57-241b280c70d4",
   "metadata": {},
   "outputs": [],
   "source": [
    "# 20. Create a Python class for a zoo simulation, demonstrating polymorphism with different animal types (e.g., mammals, birds, reptiles)\n",
    "# and their behavior (e.g., eating, sleeping, making sounds).\n",
    "\n",
    "class animal_type:\n",
    "    \n",
    "    def eating(self):\n",
    "        print(\"this is the eating method\")\n",
    "        \n",
    "    def sleeping(self):\n",
    "        print(\"this is the sleeping method\")\n",
    "        \n",
    "    def making_sounds(self):\n",
    "        print(\"this is the making sound method\")"
   ]
  },
  {
   "cell_type": "code",
   "execution_count": 1,
   "id": "0602b4eb-c784-4a28-a23b-bca7b6d66e22",
   "metadata": {},
   "outputs": [],
   "source": [
    "# Encapsulation:"
   ]
  },
  {
   "cell_type": "code",
   "execution_count": 3,
   "id": "1e567850-c5c4-4450-b838-166f95054f38",
   "metadata": {},
   "outputs": [
    {
     "name": "stdout",
     "output_type": "stream",
     "text": [
      "Encapsulation is one of the fundamental concepts in object-oriented programming (OOP). It describes the idea of wrapping data and the methods that work on data within one unit. This puts restrictions on accessing variables and methods directly and can prevent the accidental modification of data. To prevent accidental change, an object’s variable can only be changed by an object’s method. Those types of variables are known as private variables.\n"
     ]
    }
   ],
   "source": [
    "# 1. Explain the concept of encapsulation in Python. What is its role in object-oriented programming?\n",
    "\n",
    "print('''Encapsulation is one of the fundamental concepts in object-oriented programming (OOP). It describes the idea of wrapping data and the methods that work on data within one unit. This puts restrictions on accessing variables and methods directly and can prevent the accidental modification of data. To prevent accidental change, an object’s variable can only be changed by an object’s method. Those types of variables are known as private variables.''')"
   ]
  },
  {
   "cell_type": "code",
   "execution_count": 12,
   "id": "43a36e65-a1f8-4d91-9166-9bbf7a8a2a57",
   "metadata": {},
   "outputs": [
    {
     "name": "stdout",
     "output_type": "stream",
     "text": [
      "Encapsulation is a fundamental principle in object-oriented programming (OOP) that involves bundling the data (attributes) and methods (functions) that operate on the data into a single unit, known as a class. The key principles of encapsulation include access control and data hiding, which help in achieving better modularity and security in software design.\n",
      "\n",
      "Data Hiding:\n",
      "\n",
      "Data hiding is the practice of restricting access to certain parts of an object, typically its attributes or data members, and exposing only the necessary parts for interacting with the object.\n",
      "\n",
      "In OOP, data members of a class are often declared as private, which means they cannot be accessed directly from outside the class. This restriction prevents external code from directly manipulating or modifying the object's internal state. \n",
      "\n",
      "Access Control:\n",
      "\n",
      "Access control refers to the mechanism by which the accessibility of class members (data and methods) is governed within a class.\n",
      "In most OOP languages like Java, C++, and Python, access control is managed using keywords like public, private, and protected:\n",
      "public: Public members are accessible from anywhere. They form the interface of the class, through which external code interacts with the object.\n",
      "private: Private members are accessible only within the same class where they are declared. They cannot be accessed or modified directly from outside the class.\n",
      "protected: Protected members are accessible within the same class and also by its derived classes (subclasses).\n",
      "Access control ensures that the internal state of an object is accessed and modified only through well-defined methods (getters and setters), which enforce validation, error checking, and maintain consistency of the object's state.\n"
     ]
    }
   ],
   "source": [
    "# 2. Describe the key principles of encapsulation, including access control and data hiding.\n",
    "\n",
    "print('''Encapsulation is a fundamental principle in object-oriented programming (OOP) that involves bundling the data (attributes) and methods (functions) that operate on the data into a single unit, known as a class. The key principles of encapsulation include access control and data hiding, which help in achieving better modularity and security in software design.''')\n",
    "\n",
    "\n",
    "print()\n",
    "\n",
    "print('''Data Hiding:\n",
    "\n",
    "Data hiding is the practice of restricting access to certain parts of an object, typically its attributes or data members, and exposing only the necessary parts for interacting with the object.\n",
    "\n",
    "In OOP, data members of a class are often declared as private, which means they cannot be accessed directly from outside the class. This restriction prevents external code from directly manipulating or modifying the object's internal state. ''')\n",
    "\n",
    "print()\n",
    "\n",
    "print('''Access Control:\n",
    "\n",
    "Access control refers to the mechanism by which the accessibility of class members (data and methods) is governed within a class.\n",
    "In most OOP languages like Java, C++, and Python, access control is managed using keywords like public, private, and protected:\n",
    "public: Public members are accessible from anywhere. They form the interface of the class, through which external code interacts with the object.\n",
    "private: Private members are accessible only within the same class where they are declared. They cannot be accessed or modified directly from outside the class.\n",
    "protected: Protected members are accessible within the same class and also by its derived classes (subclasses).\n",
    "Access control ensures that the internal state of an object is accessed and modified only through well-defined methods (getters and setters), which enforce validation, error checking, and maintain consistency of the object's state.''')"
   ]
  },
  {
   "cell_type": "code",
   "execution_count": 1,
   "id": "eb117774-6017-4362-95cf-413817c80316",
   "metadata": {},
   "outputs": [
    {
     "data": {
      "text/plain": [
       "'Harsh'"
      ]
     },
     "execution_count": 1,
     "metadata": {},
     "output_type": "execute_result"
    }
   ],
   "source": [
    "# 3. How can you achieve encapsulation in Python classes? Provide an example.\n",
    "\n",
    "class person:\n",
    "    \n",
    "    def __init__(self, name, age):\n",
    "        self.name = name\n",
    "        self.__age = age\n",
    "        \n",
    "p1 = person(\"Harsh\", 21)  \n",
    "p1.name\n"
   ]
  },
  {
   "cell_type": "code",
   "execution_count": 17,
   "id": "854fde71-ae78-4ca5-89d8-b57346f328fc",
   "metadata": {},
   "outputs": [
    {
     "name": "stdin",
     "output_type": "stream",
     "text": [
      "please type your new name here:  harshpanwar\n"
     ]
    },
    {
     "data": {
      "text/plain": [
       "'your new name is harshpanwar'"
      ]
     },
     "execution_count": 17,
     "metadata": {},
     "output_type": "execute_result"
    }
   ],
   "source": [
    "# 5. Create a Python class called `Person` with a private attribute `__name`. Provide methods to get and set the\n",
    "# name attribute.\n",
    "\n",
    "class person:\n",
    "    \n",
    "    def __init__(self, name):\n",
    "        self.__name = name\n",
    "        \n",
    "    def checkname(self, key):\n",
    "        if key == 123789654:\n",
    "            return self.__name\n",
    "        else:\n",
    "            return \"wrong key!!! please try again\"\n",
    "        \n",
    "    def setname(self, password):\n",
    "        if password == \"qwerty\":\n",
    "            new_name = input(\"please type your new name here: \")\n",
    "            self.__name = new_name\n",
    "            return f\"your new name is {new_name}\"\n",
    "        \n",
    "        else:\n",
    "            return \"wrong password!!! please try again\"\n",
    "        \n",
    "        \n",
    "p1 = person(\"harsh\")  \n",
    "# p1.checkname(12378954)       \n",
    "p1.setname(\"qwerty\")     "
   ]
  },
  {
   "cell_type": "code",
   "execution_count": 20,
   "id": "88e9ef4a-fa16-4cb3-b7b1-b46e8b0fa8f6",
   "metadata": {},
   "outputs": [
    {
     "name": "stdout",
     "output_type": "stream",
     "text": [
      "Getter and setter methods play a crucial role in encapsulation by providing controlled access to the attributes (data members) of a class. They are used to retrieve (get) and update (set) the values of private attributes, allowing for validation, computation, and flexibility in managing the internal state of objects.\n",
      "\n",
      "Purpose of Getter Methods:\n",
      "\n",
      "Getter methods are used to retrieve the values of private attributes from outside the class.\n",
      "They provide controlled access to the attribute, allowing for validation or computation before returning the value.\n",
      "Getter methods help implement the principle of data hiding by exposing only the necessary details of the object's state.\n",
      "Purpose of Setter Methods:\n",
      "\n",
      "Setter methods are used to update or modify the values of private attributes from outside the class.\n",
      "They provide a way to enforce validation rules or perform computations before setting the attribute's value.\n",
      "Setter methods allow the class to maintain control over how its attributes are modified, ensuring data integrity and consistency. \n"
     ]
    }
   ],
   "source": [
    "# 6. Explain the purpose of getter and setter methods in encapsulation. Provide examples.\n",
    "\n",
    "print('''Getter and setter methods play a crucial role in encapsulation by providing controlled access to the attributes (data members) of a class. They are used to retrieve (get) and update (set) the values of private attributes, allowing for validation, computation, and flexibility in managing the internal state of objects.\n",
    "\n",
    "Purpose of Getter Methods:\n",
    "\n",
    "Getter methods are used to retrieve the values of private attributes from outside the class.\n",
    "They provide controlled access to the attribute, allowing for validation or computation before returning the value.\n",
    "Getter methods help implement the principle of data hiding by exposing only the necessary details of the object's state.\n",
    "Purpose of Setter Methods:\n",
    "\n",
    "Setter methods are used to update or modify the values of private attributes from outside the class.\n",
    "They provide a way to enforce validation rules or perform computations before setting the attribute's value.\n",
    "Setter methods allow the class to maintain control over how its attributes are modified, ensuring data integrity and consistency. ''')\n",
    "\n",
    "\n",
    "class person:\n",
    "    \n",
    "    def __init__(self, name):\n",
    "        self.__name = name\n",
    "        \n",
    "    def checkname(self, key):\n",
    "        if key == 123789654:\n",
    "            return self.__name\n",
    "        else:\n",
    "            return \"wrong key!!! please try again\"\n",
    "        \n",
    "    def setname(self, password):\n",
    "        if password == \"qwerty\":\n",
    "            new_name = input(\"please type your new name here: \")\n",
    "            self.__name = new_name\n",
    "            return f\"your new name is {new_name}\"\n",
    "        \n",
    "        else:\n",
    "            return \"wrong password!!! please try again\"\n",
    "        \n",
    "        \n",
    "p1 = person(\"harsh\")"
   ]
  },
  {
   "cell_type": "code",
   "execution_count": 23,
   "id": "4d4f47a7-97f0-4061-bc23-1a07caf9be05",
   "metadata": {},
   "outputs": [
    {
     "name": "stdout",
     "output_type": "stream",
     "text": [
      "Name mangling in Python is a technique used to handle name clashes in classes. It involves automatically changing the name of a class's attribute that begins with double underscores (__). This renaming is done to ensure that the attribute is not easily accessible from outside the class and to prevent subclasses from accidentally overriding the attribute in their own implementations.\n",
      "\n",
      "When a class attribute is prefixed with __, Python internally renames the attribute by appending _ClassName to it, where ClassName is the name of the class that the attribute belongs to. This renaming process is known as name mangling.\n",
      "\n",
      "The purpose of name mangling is to provide a form of \"pseudo-private\" access control, even though Python does not strictly enforce private access like some other languages. It helps in achieving a level of data hiding and encapsulation by making attributes less accessible and less likely to be overridden unintentionally.\n"
     ]
    }
   ],
   "source": [
    "# 7. What is name mangling in Python, and how does it affect encapsulation?\n",
    "\n",
    "print('''Name mangling in Python is a technique used to handle name clashes in classes. It involves automatically changing the name of a class's attribute that begins with double underscores (__). This renaming is done to ensure that the attribute is not easily accessible from outside the class and to prevent subclasses from accidentally overriding the attribute in their own implementations.\n",
    "\n",
    "When a class attribute is prefixed with __, Python internally renames the attribute by appending _ClassName to it, where ClassName is the name of the class that the attribute belongs to. This renaming process is known as name mangling.\n",
    "\n",
    "The purpose of name mangling is to provide a form of \"pseudo-private\" access control, even though Python does not strictly enforce private access like some other languages. It helps in achieving a level of data hiding and encapsulation by making attributes less accessible and less likely to be overridden unintentionally.''')"
   ]
  },
  {
   "cell_type": "code",
   "execution_count": 26,
   "id": "b0a56936-6b19-426d-ab14-40b6ef1368bc",
   "metadata": {},
   "outputs": [],
   "source": [
    "# 8. Create a Python class called `BankAccount` with private attributes for the account balance (`__balance`)\n",
    "\n",
    "class Bankaccounnt:\n",
    "    \n",
    "    def __init__(self,balance):\n",
    "        self.balance = balance\n",
    "    \n",
    "    "
   ]
  },
  {
   "cell_type": "code",
   "execution_count": 28,
   "id": "fcf7693e-009a-4e34-a073-fc68f40cd656",
   "metadata": {},
   "outputs": [
    {
     "name": "stdout",
     "output_type": "stream",
     "text": [
      "Encapsulation is a fundamental concept in object-oriented programming (OOP) that promotes code maintainability and security through the bundling of data (attributes) and methods (functions) into a single unit, known as a class. Encapsulation achieves this by enforcing access control and data hiding. Let's discuss the advantages of encapsulation in terms of code maintainability and security:\n",
      "\n",
      "Advantages of Encapsulation for Code Maintainability:\n",
      "\n",
      "Modularity and Abstraction:\n",
      "\n",
      "Encapsulation promotes modularity by hiding the internal workings of a class and exposing only the necessary functionalities through a well-defined interface (public methods).\n",
      "This allows for easier comprehension and management of complex systems by abstracting away implementation details, focusing on what an object does rather than how it does it.\n",
      "Ease of Testing and Debugging:\n",
      "\n",
      "With encapsulation, changes to the internal implementation of a class do not affect external code that interacts with it through its public interface.\n",
      "This separation between interface and implementation makes testing and debugging more straightforward since the external code relies only on the contract provided by the public methods.\n",
      "Code Reusability:\n",
      "\n",
      "Encapsulation supports the principle of code reusability. Well-encapsulated classes with clear interfaces can be easily reused in different parts of an application or in other projects without modification.\n",
      "By hiding implementation details, encapsulated classes can serve as black boxes that fulfill specific functionalities, enhancing modularity and reusability. \n"
     ]
    }
   ],
   "source": [
    "# 9. Discuss the advantages of encapsulation in terms of code maintainability and security.\n",
    "\n",
    "print('''Encapsulation is a fundamental concept in object-oriented programming (OOP) that promotes code maintainability and security through the bundling of data (attributes) and methods (functions) into a single unit, known as a class. Encapsulation achieves this by enforcing access control and data hiding. Let's discuss the advantages of encapsulation in terms of code maintainability and security:\n",
    "\n",
    "Advantages of Encapsulation for Code Maintainability:\n",
    "\n",
    "Modularity and Abstraction:\n",
    "\n",
    "Encapsulation promotes modularity by hiding the internal workings of a class and exposing only the necessary functionalities through a well-defined interface (public methods).\n",
    "This allows for easier comprehension and management of complex systems by abstracting away implementation details, focusing on what an object does rather than how it does it.\n",
    "Ease of Testing and Debugging:\n",
    "\n",
    "With encapsulation, changes to the internal implementation of a class do not affect external code that interacts with it through its public interface.\n",
    "This separation between interface and implementation makes testing and debugging more straightforward since the external code relies only on the contract provided by the public methods.\n",
    "Code Reusability:\n",
    "\n",
    "Encapsulation supports the principle of code reusability. Well-encapsulated classes with clear interfaces can be easily reused in different parts of an application or in other projects without modification.\n",
    "By hiding implementation details, encapsulated classes can serve as black boxes that fulfill specific functionalities, enhancing modularity and reusability. ''')"
   ]
  },
  {
   "cell_type": "code",
   "execution_count": 29,
   "id": "f147b98f-c068-4ce3-9fd5-90bcb648393c",
   "metadata": {},
   "outputs": [],
   "source": [
    "# 10. How can you access private attributes in Python? Provide an example demonstrating the use of name\n",
    "# mangling.\n",
    "\n",
    "class person:\n",
    "    \n",
    "    def __init__(self, name):\n",
    "        self.__name = name\n",
    "        \n",
    "    def checkname(self, key):\n",
    "        if key == 123789654:\n",
    "            return self.__name\n",
    "        else:\n",
    "            return \"wrong key!!! please try again\"\n",
    "        \n",
    "    def setname(self, password):\n",
    "        if password == \"qwerty\":\n",
    "            new_name = input(\"please type your new name here: \")\n",
    "            self.__name = new_name\n",
    "            return f\"your new name is {new_name}\"\n",
    "        \n",
    "        else:\n",
    "            return \"wrong password!!! please try again\""
   ]
  },
  {
   "cell_type": "code",
   "execution_count": 31,
   "id": "14700dba-2a7a-4080-ac71-3ab0786a16a3",
   "metadata": {},
   "outputs": [],
   "source": [
    "# 11. Create a Python class hierarchy for a school system, including classes for students, teachers, \n",
    "# and courses, and implement encapsulation principles to protect sensitive information.\n",
    "\n",
    "\n",
    "class School:\n",
    "    \n",
    "    def student(self, std_name, std_marks):\n",
    "        self.std_name = std_name\n",
    "        self.__std_marks = std_marks\n",
    "    \n",
    "    \n",
    "    \n",
    "    def teacher(self, number_of_teacher, teachers_sal):\n",
    "        self.number_of_teacher = number_of_teacher\n",
    "        self.__teachers_sal = teachers_sal\n",
    "        \n",
    "    \n",
    "    def courses(self,number_of_courses,courses_name):\n",
    "        self.number_of_courses = number_of_courses\n",
    "        self.__courses_name = courses_name\n",
    "    "
   ]
  },
  {
   "cell_type": "code",
   "execution_count": 34,
   "id": "a9d5f67d-550e-4928-be67-5934f2299b8b",
   "metadata": {},
   "outputs": [
    {
     "name": "stdout",
     "output_type": "stream",
     "text": [
      " In Python, property decorators (@property, @<property_name>.setter, @<property_name>.deleter) are used to define properties in a class. Properties allow us to use methods to control access, modification, and deletion of class attributes, providing a way to implement encapsulation and manage attribute behavior more flexibly.\n",
      "\n",
      "Concept of Property Decorators:\n",
      "\n",
      "@property:\n",
      "\n",
      "The @property decorator is used to define a method as a property of a class.\n",
      "When a method is decorated with @property, it allows the method to be accessed like an attribute, without the need for explicit method invocation.\n",
      "The @property decorator is typically used for defining getter methods.\n"
     ]
    }
   ],
   "source": [
    "# 12. Explain the concept of property decorators in Python and how they relate to encapsulation.\n",
    "\n",
    "print(''' In Python, property decorators (@property, @<property_name>.setter, @<property_name>.deleter) are used to define properties in a class. Properties allow us to use methods to control access, modification, and deletion of class attributes, providing a way to implement encapsulation and manage attribute behavior more flexibly.\n",
    "\n",
    "Concept of Property Decorators:\n",
    "\n",
    "@property:\n",
    "\n",
    "The @property decorator is used to define a method as a property of a class.\n",
    "When a method is decorated with @property, it allows the method to be accessed like an attribute, without the need for explicit method invocation.\n",
    "The @property decorator is typically used for defining getter methods.''')"
   ]
  },
  {
   "cell_type": "code",
   "execution_count": 36,
   "id": "1c7a5cb0-dd5b-407e-bea5-861a35bcac9c",
   "metadata": {},
   "outputs": [
    {
     "name": "stdout",
     "output_type": "stream",
     "text": [
      "Data hiding is a principle in object-oriented programming (OOP) that involves restricting the visibility of certain components (like attributes or methods) within a class, preventing direct access or modification from outside the class. This concept is important in encapsulation because it allows an object's internal state to be accessed and modified only through controlled interfaces (such as methods), providing a layer of abstraction and promoting better code organization, security, and maintainability.\n",
      "\n",
      "Importance of Data Hiding in Encapsulation:\n",
      "\n",
      "Encapsulation and Modularity:\n",
      "\n",
      "Data hiding promotes encapsulation by bundling the data (attributes) and methods (behavior) that operate on that data into a single unit (class).\n",
      "It allows the internal workings of a class to be hidden from the outside world, exposing only the necessary functionalities through a well-defined interface.\n",
      "This promotes modularity by separating the implementation details from the external usage, making the class more reusable and easier to maintain.\n",
      "Access Control and Security:\n",
      "\n",
      "Data hiding ensures that sensitive or critical data within a class is not directly accessible from outside the class.\n",
      "By restricting access to certain attributes (e.g., making them private), we can prevent unauthorized or unintended modifications to the object's state, enhancing security and preventing potential bugs or inconsistencies.\n",
      "Encapsulation of Implementation Details:\n",
      "\n",
      "Hiding the internal state of objects helps in encapsulating the implementation details.\n",
      "This encapsulation allows for changes to the internal implementation (e.g., data representation, algorithms) without affecting the external code that uses the class, thus promoting flexibility and maintainability. \n"
     ]
    }
   ],
   "source": [
    "# 13. What is data hiding, and why is it important in encapsulation? Provide examples.\n",
    "\n",
    "print('''Data hiding is a principle in object-oriented programming (OOP) that involves restricting the visibility of certain components (like attributes or methods) within a class, preventing direct access or modification from outside the class. This concept is important in encapsulation because it allows an object's internal state to be accessed and modified only through controlled interfaces (such as methods), providing a layer of abstraction and promoting better code organization, security, and maintainability.\n",
    "\n",
    "Importance of Data Hiding in Encapsulation:\n",
    "\n",
    "Encapsulation and Modularity:\n",
    "\n",
    "Data hiding promotes encapsulation by bundling the data (attributes) and methods (behavior) that operate on that data into a single unit (class).\n",
    "It allows the internal workings of a class to be hidden from the outside world, exposing only the necessary functionalities through a well-defined interface.\n",
    "This promotes modularity by separating the implementation details from the external usage, making the class more reusable and easier to maintain.\n",
    "Access Control and Security:\n",
    "\n",
    "Data hiding ensures that sensitive or critical data within a class is not directly accessible from outside the class.\n",
    "By restricting access to certain attributes (e.g., making them private), we can prevent unauthorized or unintended modifications to the object's state, enhancing security and preventing potential bugs or inconsistencies.\n",
    "Encapsulation of Implementation Details:\n",
    "\n",
    "Hiding the internal state of objects helps in encapsulating the implementation details.\n",
    "This encapsulation allows for changes to the internal implementation (e.g., data representation, algorithms) without affecting the external code that uses the class, thus promoting flexibility and maintainability. ''')"
   ]
  },
  {
   "cell_type": "code",
   "execution_count": 1,
   "id": "5dd58921-a01d-4b11-9cef-cde668dd0431",
   "metadata": {},
   "outputs": [],
   "source": [
    "# 14. Create a Python class called `Employee` with private attributes for salary\n",
    "# (`__salary`) and employee ID (`__employee_id`). Provide a method to calculate yearly bonuses.  \n",
    "\n",
    "class Employee:\n",
    "    \n",
    "    def __init__(self, salary, employee_id):\n",
    "        self.__salary = salary\n",
    "        self.__employee_id = employee_id\n",
    "        \n",
    "    def calculate_bonus(self,password):\n",
    "        if password == 'qwerty':\n",
    "            bonus = self.__salary*365\n",
    "            return f\"your bonus is {bonus}\"\n",
    "        \n",
    "        else:\n",
    "            return f\"wrong password\"\n",
    "        "
   ]
  },
  {
   "cell_type": "code",
   "execution_count": 2,
   "id": "442dc29d-34c6-4819-8953-ad746a91b009",
   "metadata": {},
   "outputs": [
    {
     "name": "stdout",
     "output_type": "stream",
     "text": [
      "Accessors and mutators (also known as getters and setters) are methods used in encapsulation to control access to the attributes (data members) of a class. They provide a way to retrieve (get) and modify (set) the values of private attributes, allowing for validation, computation, and enforcement of rules before accessing or modifying the attribute's value.\n",
      "\n",
      "Use of Accessors and Mutators in Encapsulation:\n",
      "\n",
      "Accessors (Getters):\n",
      "\n",
      "Accessors are methods used to retrieve the values of private attributes from outside the class.\n",
      "They are typically defined as public methods and are responsible for returning the current value of a private attribute.\n",
      "\n",
      "\n",
      "Mutators (Setters):\n",
      "\n",
      "Mutators are methods used to modify the values of private attributes from outside the class.\n",
      "They provide a controlled way to update the value of an attribute, allowing validation or enforcement of rules before assigning a new value.\n"
     ]
    }
   ],
   "source": [
    "# 15. Discuss the use of accessors and mutators in encapsulation. How do they help maintain control over\n",
    "# attribute access?\n",
    "\n",
    "print('''Accessors and mutators (also known as getters and setters) are methods used in encapsulation to control access to the attributes (data members) of a class. They provide a way to retrieve (get) and modify (set) the values of private attributes, allowing for validation, computation, and enforcement of rules before accessing or modifying the attribute's value.\n",
    "\n",
    "Use of Accessors and Mutators in Encapsulation:\n",
    "\n",
    "Accessors (Getters):\n",
    "\n",
    "Accessors are methods used to retrieve the values of private attributes from outside the class.\n",
    "They are typically defined as public methods and are responsible for returning the current value of a private attribute.\n",
    "\n",
    "\n",
    "Mutators (Setters):\n",
    "\n",
    "Mutators are methods used to modify the values of private attributes from outside the class.\n",
    "They provide a controlled way to update the value of an attribute, allowing validation or enforcement of rules before assigning a new value.''')"
   ]
  },
  {
   "cell_type": "code",
   "execution_count": 3,
   "id": "7ba7150f-24da-4a7c-bd48-9403e2a3e9c4",
   "metadata": {},
   "outputs": [
    {
     "name": "stdout",
     "output_type": "stream",
     "text": [
      "While encapsulation is a fundamental concept in object-oriented programming (OOP) that offers numerous benefits, there are also potential drawbacks or challenges associated with its use in Python. It's important to be aware of these considerations to make informed design decisions. Here are some potential drawbacks of using encapsulation in Python:\n",
      "\n",
      "Increased Complexity:\n",
      "\n",
      "Encapsulation can lead to increased complexity in code, especially when dealing with large and deeply nested class hierarchies.\n",
      "The use of getter and setter methods (or properties) can introduce additional boilerplate code, making the codebase more verbose and potentially harder to maintain.\n",
      "Performance Overhead:\n",
      "\n",
      "Accessing attributes through getter and setter methods (or properties) might introduce a slight performance overhead compared to direct attribute access.\n",
      "Python's attribute access via methods (like get_name()) is not as efficient as direct attribute access (obj.name), which can impact performance in performance-sensitive applications.\n",
      "Name Mangling vs. True Private Attributes:\n",
      "\n",
      "Python uses name mangling (__attribute) to simulate private attributes, but this is more of a convention than true encapsulation.\n",
      "Name mangling can be bypassed by accessing mangled names directly (_ClassName__attribute), which does not provide strong enforcement of data hiding.\n",
      "Limitations of Access Control:\n",
      "\n",
      "Python's access control (public, protected, private) is more about conventions (_, __) rather than strict enforcement.\n",
      "Subclasses can still access \"private\" attributes of their parent classes, which may break encapsulation in certain scenarios. \n"
     ]
    }
   ],
   "source": [
    "# 16. What are the potential drawbacks or disadvantages of using encapsulation in Python?\n",
    "\n",
    "print('''While encapsulation is a fundamental concept in object-oriented programming (OOP) that offers numerous benefits, there are also potential drawbacks or challenges associated with its use in Python. It's important to be aware of these considerations to make informed design decisions. Here are some potential drawbacks of using encapsulation in Python:\n",
    "\n",
    "Increased Complexity:\n",
    "\n",
    "Encapsulation can lead to increased complexity in code, especially when dealing with large and deeply nested class hierarchies.\n",
    "The use of getter and setter methods (or properties) can introduce additional boilerplate code, making the codebase more verbose and potentially harder to maintain.\n",
    "Performance Overhead:\n",
    "\n",
    "Accessing attributes through getter and setter methods (or properties) might introduce a slight performance overhead compared to direct attribute access.\n",
    "Python's attribute access via methods (like get_name()) is not as efficient as direct attribute access (obj.name), which can impact performance in performance-sensitive applications.\n",
    "Name Mangling vs. True Private Attributes:\n",
    "\n",
    "Python uses name mangling (__attribute) to simulate private attributes, but this is more of a convention than true encapsulation.\n",
    "Name mangling can be bypassed by accessing mangled names directly (_ClassName__attribute), which does not provide strong enforcement of data hiding.\n",
    "Limitations of Access Control:\n",
    "\n",
    "Python's access control (public, protected, private) is more about conventions (_, __) rather than strict enforcement.\n",
    "Subclasses can still access \"private\" attributes of their parent classes, which may break encapsulation in certain scenarios. ''')"
   ]
  },
  {
   "cell_type": "code",
   "execution_count": 6,
   "id": "efc360fa-2fd6-4021-88a4-d83eccf20cc5",
   "metadata": {},
   "outputs": [],
   "source": [
    "# 17. Create a Python class for a library system that encapsulates book information, including titles, \n",
    "# authors and availability status.\n",
    "\n",
    "class library:\n",
    "    \n",
    "    def __init__(self, title, authors, available_items):\n",
    "        self.__title = title\n",
    "        self.__authors = authors\n",
    "        self.__available_items = available_items\n",
    "    \n",
    "l1 = library(\"abcd\", \"mark and Kevin\", 34)\n",
    "        "
   ]
  },
  {
   "cell_type": "code",
   "execution_count": 16,
   "id": "30bbd269-d60c-4b92-9bc0-00f747739205",
   "metadata": {},
   "outputs": [
    {
     "name": "stdout",
     "output_type": "stream",
     "text": [
      "Encapsulation is a fundamental principle in object-oriented programming (OOP) that promotes code reusability and modularity by bundling the data (attributes) and methods (functions) that operate on the data into a single unit, known as a class. Encapsulation hides the internal state of an object from the outside world and only exposes a controlled interface for interacting with the object. Here's how encapsulation enhances code reusability and modularity in Python programs:\n",
      "\n",
      "1. Code Reusability:\n",
      "\n",
      "Encapsulation promotes code reusability by enabling objects to be reused in different parts of a program or in different programs altogether without the need to modify their internal implementation. \n",
      "\n",
      "2. Modularity:\n",
      "\n",
      "Encapsulation enhances modularity by organizing code into self-contained units (classes), each responsible for a specific aspect of functionality.\n",
      "\n"
     ]
    }
   ],
   "source": [
    "# 18. Explain how encapsulation enhances code reusability and modularity in Python programs.\n",
    "print('''Encapsulation is a fundamental principle in object-oriented programming (OOP) that promotes code reusability and modularity by bundling the data (attributes) and methods (functions) that operate on the data into a single unit, known as a class. Encapsulation hides the internal state of an object from the outside world and only exposes a controlled interface for interacting with the object. Here's how encapsulation enhances code reusability and modularity in Python programs:\n",
    "\n",
    "1. Code Reusability:\n",
    "\n",
    "Encapsulation promotes code reusability by enabling objects to be reused in different parts of a program or in different programs altogether without the need to modify their internal implementation. \n",
    "\n",
    "2. Modularity:\n",
    "\n",
    "Encapsulation enhances modularity by organizing code into self-contained units (classes), each responsible for a specific aspect of functionality.\n",
    "''')"
   ]
  },
  {
   "cell_type": "code",
   "execution_count": 9,
   "id": "c54fbc77-7b0e-43ef-bd9b-a76e4cad3176",
   "metadata": {},
   "outputs": [],
   "source": [
    "# 20. Create a Python class called `Customer` with private attributes for customer details like name, \n",
    "# address,and contact information. Implement encapsulation to ensure data integrity and security.\n",
    "\n",
    "class customer:\n",
    "    \n",
    "    def __init__(self,name,address,conntact_info):\n",
    "        self.__name = name\n",
    "        self.__addresss = address\n",
    "        self.contact_info  = contact_info\n",
    "        \n",
    "    def get_info(self, password):\n",
    "        if password == \"qwerty\":\n",
    "            return self.__name, self.__addresss, self.contact_info\n",
    "        \n",
    "        else:\n",
    "            return \"wrong password!!!\""
   ]
  },
  {
   "cell_type": "code",
   "execution_count": 1,
   "id": "aa215d85-5961-433d-881e-2fd56b9049a8",
   "metadata": {},
   "outputs": [],
   "source": [
    "# Abstraction:"
   ]
  },
  {
   "cell_type": "code",
   "execution_count": 1,
   "id": "fd0aac96-521e-4aba-9343-25da195a7fa7",
   "metadata": {},
   "outputs": [
    {
     "name": "stdout",
     "output_type": "stream",
     "text": [
      "Abstraction in Python refers to the process of creating abstract classes and methods that provide a blueprint for other classes to inherit from. It allows us to define common attributes and behaviors that can be shared among multiple classes.\n"
     ]
    }
   ],
   "source": [
    "# 1. What is abstraction in Python, and how does it relate to object-oriented programming?\n",
    "\n",
    "print(\"Abstraction in Python refers to the process of creating abstract classes and methods that provide a blueprint for other classes to inherit from. It allows us to define common attributes and behaviors that can be shared among multiple classes.\")"
   ]
  },
  {
   "cell_type": "code",
   "execution_count": 2,
   "id": "d829a4f9-7877-4cc1-953c-dff442f36c3b",
   "metadata": {},
   "outputs": [
    {
     "name": "stdout",
     "output_type": "stream",
     "text": [
      "Abstraction offers several significant benefits in terms of code organization and complexity reduction in software development. By focusing on essential aspects of objects while hiding unnecessary details, abstraction simplifies the design and implementation of systems, leading to more maintainable, scalable, and understandable code. Here are the key benefits of abstraction:\n",
      "\n",
      "1. Simplifies Complexity:\n",
      "\n",
      "Abstraction helps manage complexity by hiding implementation details and exposing only essential features of an object. This allows developers to work with a simplified and conceptual model of the system, reducing cognitive load and making the code easier to understand.\n",
      "2. Promotes Modularity:\n",
      "\n",
      "Abstraction encourages modularity by breaking down complex systems into smaller, manageable components with well-defined interfaces. Each component can be developed, tested, and maintained independently, promoting code reusability and flexibility.\n",
      "3. Enhances Code Reusability:\n",
      "\n",
      "Abstraction facilitates code reusability by defining generic interfaces and behaviors that can be implemented by multiple classes or components. This reduces duplication of code and promotes a more efficient development process. \n"
     ]
    }
   ],
   "source": [
    "# 2. Describe the benefits of abstraction in terms of code organization and complexity reduction.\n",
    "print('''Abstraction offers several significant benefits in terms of code organization and complexity reduction in software development. By focusing on essential aspects of objects while hiding unnecessary details, abstraction simplifies the design and implementation of systems, leading to more maintainable, scalable, and understandable code. Here are the key benefits of abstraction:\n",
    "\n",
    "1. Simplifies Complexity:\n",
    "\n",
    "Abstraction helps manage complexity by hiding implementation details and exposing only essential features of an object. This allows developers to work with a simplified and conceptual model of the system, reducing cognitive load and making the code easier to understand.\n",
    "2. Promotes Modularity:\n",
    "\n",
    "Abstraction encourages modularity by breaking down complex systems into smaller, manageable components with well-defined interfaces. Each component can be developed, tested, and maintained independently, promoting code reusability and flexibility.\n",
    "3. Enhances Code Reusability:\n",
    "\n",
    "Abstraction facilitates code reusability by defining generic interfaces and behaviors that can be implemented by multiple classes or components. This reduces duplication of code and promotes a more efficient development process. ''')"
   ]
  },
  {
   "cell_type": "code",
   "execution_count": 5,
   "id": "95685151-9eb7-4dcd-95b1-a1d62fc68aa0",
   "metadata": {},
   "outputs": [
    {
     "name": "stdout",
     "output_type": "stream",
     "text": [
      "this is the calculate area method inside circle class\n"
     ]
    }
   ],
   "source": [
    "# 3. Create a Python class called `Shape` with an abstract method `calculate_area()`.\n",
    "# Then, create child classes (e.g., `Circle`, `Rectangle`) that implement the `calculate_area()` method. \n",
    "# Provide an example of using these classes.\n",
    "\n",
    "from abc import ABC,abstractmethod\n",
    "\n",
    "class shape(ABC):\n",
    "    \n",
    "    @abstractmethod\n",
    "    def calculate_area(self):\n",
    "        pass\n",
    "\n",
    "class circle(shape):\n",
    "    \n",
    "    def calculate_area(self):\n",
    "        print(\"this is the calculate area method inside circle class\")\n",
    "\n",
    "c1 = circle()\n",
    "c1.calculate_area()"
   ]
  },
  {
   "cell_type": "code",
   "execution_count": 7,
   "id": "3db7f596-d1f6-4e37-aa91-8e3f32f4db26",
   "metadata": {},
   "outputs": [
    {
     "name": "stdout",
     "output_type": "stream",
     "text": [
      "\n",
      "In Python, abstract classes are classes that cannot be instantiated directly and serve as a blueprint for other classes to inherit from. Abstract classes may contain one or more abstract methods, which are methods declared but not implemented in the abstract class. Subclasses of abstract classes must provide implementations for all abstract methods to be considered concrete classes.\n",
      "\n",
      "To define and work with abstract classes in Python, we use the abc (Abstract Base Classes) module, which provides tools for creating and working with abstract base classes.\n",
      "\n",
      "Concept of Abstract Classes:\n",
      "\n",
      "An abstract class is declared by inheriting from ABC (Abstract Base Class) provided by the abc module.\n",
      "Abstract methods within an abstract class are declared using the @abstractmethod decorator from the abc module, without providing implementations. \n"
     ]
    }
   ],
   "source": [
    "# 4. Explain the concept of abstract classes in Python and \n",
    "# how they are defined using the `abc` module. Provide\n",
    "# an example.\n",
    "\n",
    "print('''\n",
    "In Python, abstract classes are classes that cannot be instantiated directly and serve as a blueprint for other classes to inherit from. Abstract classes may contain one or more abstract methods, which are methods declared but not implemented in the abstract class. Subclasses of abstract classes must provide implementations for all abstract methods to be considered concrete classes.\n",
    "\n",
    "To define and work with abstract classes in Python, we use the abc (Abstract Base Classes) module, which provides tools for creating and working with abstract base classes.\n",
    "\n",
    "Concept of Abstract Classes:\n",
    "\n",
    "An abstract class is declared by inheriting from ABC (Abstract Base Class) provided by the abc module.\n",
    "Abstract methods within an abstract class are declared using the @abstractmethod decorator from the abc module, without providing implementations. ''')\n",
    "\n",
    "# example below\n",
    "\n",
    "from abc import ABC,abstractmethod\n",
    "\n",
    "class shape(ABC):\n",
    "    \n",
    "    @abstractmethod\n",
    "    def calculate_area(self):\n",
    "        pass\n",
    "\n",
    "class circle(shape):\n",
    "    \n",
    "    def calculate_area(self):\n",
    "        print(\"this is the calculate area method inside circle class\")"
   ]
  },
  {
   "cell_type": "code",
   "execution_count": 8,
   "id": "a50a21f6-4521-420d-b5d2-95a09905bd61",
   "metadata": {},
   "outputs": [
    {
     "name": "stdout",
     "output_type": "stream",
     "text": [
      "Abstract classes in Python differ from regular classes primarily in their behavior and purpose. The key differences between abstract classes and regular classes lie in their ability to be instantiated and their use in defining interfaces and hierarchies within object-oriented programming. Let's discuss these differences and their respective use cases:\n",
      "\n",
      "1. Instantiation:\n",
      "\n",
      "Regular Classes:\n",
      "\n",
      "Regular classes in Python can be instantiated directly, meaning you can create objects (instances) of these classes using the class constructor (__init__() method).\n",
      "Regular classes provide concrete implementations for all their methods, allowing objects to be created and used without requiring further modifications.\n",
      "Abstract Classes:\n",
      "\n",
      "Abstract classes cannot be instantiated directly. Attempting to create an instance of an abstract class will result in a TypeError.\n",
      "Abstract classes serve as a blueprint for other classes and are meant to be subclassed. They often contain one or more abstract methods that must be implemented by concrete subclasses.\n",
      "2. Abstract Methods:\n",
      "\n",
      "Regular Classes:\n",
      "Regular classes do not necessarily have abstract methods. They provide concrete implementations for all their methods, meaning all methods have defined behavior.\n",
      "Abstract Classes:\n",
      "Abstract classes can have abstract methods, which are declared but not implemented in the abstract class.\n",
      "Abstract methods serve as placeholders and must be implemented by subclasses. Failure to implement an abstract method in a subclass will result in a TypeError at runtime.\n",
      "3. Use Cases:\n",
      "\n",
      "Regular Classes:\n",
      "\n",
      "Regular classes are used when you want to create objects that can be instantiated directly and used to perform specific tasks or operations.\n",
      "Regular classes are suitable for situations where you have a concrete implementation of an object's behavior and want to create instances of this implementation.\n",
      "Abstract Classes:\n",
      "\n",
      "Abstract classes are used when you want to define a common interface or behavior that should be implemented by multiple related classes.\n",
      "Abstract classes are ideal for creating hierarchies of classes where certain methods need to be implemented by subclasses but may have different implementations based on specific requirements.\n",
      "Abstract classes help enforce a contract or protocol that subclasses must adhere to, ensuring consistency and interoperability among related classes. \n"
     ]
    }
   ],
   "source": [
    "# 5. How do abstract classes differ from regular classes in Python? Discuss their use cases.\n",
    "\n",
    "print('''Abstract classes in Python differ from regular classes primarily in their behavior and purpose. The key differences between abstract classes and regular classes lie in their ability to be instantiated and their use in defining interfaces and hierarchies within object-oriented programming. Let's discuss these differences and their respective use cases:\n",
    "\n",
    "1. Instantiation:\n",
    "\n",
    "Regular Classes:\n",
    "\n",
    "Regular classes in Python can be instantiated directly, meaning you can create objects (instances) of these classes using the class constructor (__init__() method).\n",
    "Regular classes provide concrete implementations for all their methods, allowing objects to be created and used without requiring further modifications.\n",
    "Abstract Classes:\n",
    "\n",
    "Abstract classes cannot be instantiated directly. Attempting to create an instance of an abstract class will result in a TypeError.\n",
    "Abstract classes serve as a blueprint for other classes and are meant to be subclassed. They often contain one or more abstract methods that must be implemented by concrete subclasses.\n",
    "2. Abstract Methods:\n",
    "\n",
    "Regular Classes:\n",
    "Regular classes do not necessarily have abstract methods. They provide concrete implementations for all their methods, meaning all methods have defined behavior.\n",
    "Abstract Classes:\n",
    "Abstract classes can have abstract methods, which are declared but not implemented in the abstract class.\n",
    "Abstract methods serve as placeholders and must be implemented by subclasses. Failure to implement an abstract method in a subclass will result in a TypeError at runtime.\n",
    "3. Use Cases:\n",
    "\n",
    "Regular Classes:\n",
    "\n",
    "Regular classes are used when you want to create objects that can be instantiated directly and used to perform specific tasks or operations.\n",
    "Regular classes are suitable for situations where you have a concrete implementation of an object's behavior and want to create instances of this implementation.\n",
    "Abstract Classes:\n",
    "\n",
    "Abstract classes are used when you want to define a common interface or behavior that should be implemented by multiple related classes.\n",
    "Abstract classes are ideal for creating hierarchies of classes where certain methods need to be implemented by subclasses but may have different implementations based on specific requirements.\n",
    "Abstract classes help enforce a contract or protocol that subclasses must adhere to, ensuring consistency and interoperability among related classes. ''')"
   ]
  },
  {
   "cell_type": "code",
   "execution_count": 10,
   "id": "604bae6c-b9e2-4289-b2f1-0c4671a98c1e",
   "metadata": {},
   "outputs": [],
   "source": [
    "# 6. Create a Python class for a bank account and demonstrate abstraction by hiding the account balance and\n",
    "# providing methods to deposit and withdraw funds.\n",
    "\n",
    "from abc import ABC,abstractmethod\n",
    "\n",
    "class bank_account(ABC):\n",
    "    \n",
    "    def  __init__(self, bank_balance):\n",
    "        self.__bank_balance = bank_balance\n",
    "        \n",
    "    def check_balancce(self,password):\n",
    "        if password == \"Harsh1234\":\n",
    "            return self.__bank_balance\n",
    "        \n",
    "    def withdraw_funds(self, pin):\n",
    "        if pin == 12345678:\n",
    "            money_needed = int(input(\"Type your amount here: \"))\n",
    "            self.__bank_balance = self.__bank_balance-money_needed\n",
    "            \n",
    "    def deposit_money(self, pin):\n",
    "        if pin == 12345678:\n",
    "            money_deposit = int(input(\"Type your amount here: \"))\n",
    "            self.__bank_balance = self.__bank_balance+money_deposit\n",
    "            \n",
    "            "
   ]
  },
  {
   "cell_type": "code",
   "execution_count": 11,
   "id": "a0d193cd-d221-4f10-8764-5980b4249686",
   "metadata": {},
   "outputs": [
    {
     "name": "stdout",
     "output_type": "stream",
     "text": [
      "In Python, the concept of interface classes is closely related to abstraction and is often implemented using abstract base classes (ABCs) from the abc module. While Python does not have explicit language support for interfaces like some other programming languages (e.g., Java), interface-like behavior can be achieved using abstract base classes to define a set of methods that must be implemented by subclasses. Interface classes in Python play a crucial role in achieving abstraction by defining a contract or protocol that subclasses must adhere to, promoting code interoperability and modularity.\n",
      "\n",
      "Key Points about Interface Classes:\n",
      "\n",
      "Definition using Abstract Base Classes (ABCs):\n",
      "\n",
      "Interface classes in Python are typically implemented using abstract base classes (ABCs) from the abc module.\n",
      "An interface class defines a set of methods (abstract methods) that must be implemented by any class that inherits from it.\n",
      "Role in Achieving Abstraction:\n",
      "\n",
      "Interface classes help achieve abstraction by defining a clear and standardized interface that specifies what methods a class must implement without providing the actual implementations.\n",
      "This separation of interface from implementation allows different classes to share a common interface, enabling polymorphism and code reusability.\n",
      "Enforcing Contracts:\n",
      "\n",
      "Interface classes enforce contracts or protocols by specifying the methods that must be implemented by subclasses.\n",
      "Subclasses that inherit from an interface class are required to provide concrete implementations for all abstract methods defined in the interface. \n"
     ]
    }
   ],
   "source": [
    "# 7. Discuss the concept of interface classes in Python and their role in achieving abstraction.\n",
    "\n",
    "print('''In Python, the concept of interface classes is closely related to abstraction and is often implemented using abstract base classes (ABCs) from the abc module. While Python does not have explicit language support for interfaces like some other programming languages (e.g., Java), interface-like behavior can be achieved using abstract base classes to define a set of methods that must be implemented by subclasses. Interface classes in Python play a crucial role in achieving abstraction by defining a contract or protocol that subclasses must adhere to, promoting code interoperability and modularity.\n",
    "\n",
    "Key Points about Interface Classes:\n",
    "\n",
    "Definition using Abstract Base Classes (ABCs):\n",
    "\n",
    "Interface classes in Python are typically implemented using abstract base classes (ABCs) from the abc module.\n",
    "An interface class defines a set of methods (abstract methods) that must be implemented by any class that inherits from it.\n",
    "Role in Achieving Abstraction:\n",
    "\n",
    "Interface classes help achieve abstraction by defining a clear and standardized interface that specifies what methods a class must implement without providing the actual implementations.\n",
    "This separation of interface from implementation allows different classes to share a common interface, enabling polymorphism and code reusability.\n",
    "Enforcing Contracts:\n",
    "\n",
    "Interface classes enforce contracts or protocols by specifying the methods that must be implemented by subclasses.\n",
    "Subclasses that inherit from an interface class are required to provide concrete implementations for all abstract methods defined in the interface. ''')"
   ]
  },
  {
   "cell_type": "code",
   "execution_count": 16,
   "id": "9215b03e-04e7-4df8-8a85-f892737feffa",
   "metadata": {},
   "outputs": [],
   "source": [
    "# 8. Create a Python class hierarchy for animals and implement abstraction by defining common methods\n",
    "\n",
    "from abc import ABC,abstractmethod\n",
    "\n",
    "class Animal(ABC):\n",
    "    \n",
    "    @abstractmethod\n",
    "    def speak(self):\n",
    "        pass\n",
    "        \n",
    "    @abstractmethod\n",
    "    def walk(self):\n",
    "        pass\n",
    "    \n",
    "    @abstractmethod\n",
    "    def eat(self):\n",
    "        pass\n",
    "    \n",
    "class Lion(Animal):\n",
    "    \n",
    "    def __init__(self, name):\n",
    "        self.name  = name\n",
    "     \n",
    "    def speak(self):\n",
    "        pass\n",
    "    \n",
    "    def walk(self):\n",
    "        pass\n",
    "    \n",
    "    def eat(self):\n",
    "        pass"
   ]
  },
  {
   "cell_type": "code",
   "execution_count": 17,
   "id": "94fc51d1-3d9b-4783-860b-343fb4527b57",
   "metadata": {},
   "outputs": [
    {
     "name": "stdout",
     "output_type": "stream",
     "text": [
      "Encapsulation and abstraction are closely related concepts in object-oriented programming (OOP), and encapsulation plays a significant role in achieving abstraction. Let's explore the significance of encapsulation in relation to abstraction, along with examples to illustrate their relationship.\n",
      "\n",
      "1. Encapsulation and Data Hiding:\n",
      "\n",
      "Encapsulation involves bundling the data (attributes) and methods (functions) that operate on the data into a single unit, known as a class. One of the key aspects of encapsulation is data hiding, where the internal state of an object is hidden from the outside world and can only be accessed or modified through controlled interfaces (methods). This principle of encapsulation is essential for achieving abstraction.\n",
      "\n",
      "2. Achieving Abstraction with Encapsulation:\n",
      "\n",
      "Hiding Implementation Details: Encapsulation allows us to hide the internal implementation details of a class from external code. This means that users of a class do not need to know how the class achieves its functionality internally; they only need to interact with the class through its public methods.\n",
      "\n",
      "Exposing Simplified Interfaces: By exposing only a well-defined set of methods (interface), encapsulation helps in achieving abstraction. The class interface defines what an object can do (its behavior) without revealing how it accomplishes those tasks internally. This separation of interface from implementation is crucial for abstraction. \n"
     ]
    }
   ],
   "source": [
    "# 9. Explain the significance of encapsulation in achieving abstraction. Provide examples.\n",
    "print('''Encapsulation and abstraction are closely related concepts in object-oriented programming (OOP), and encapsulation plays a significant role in achieving abstraction. Let's explore the significance of encapsulation in relation to abstraction, along with examples to illustrate their relationship.\n",
    "\n",
    "1. Encapsulation and Data Hiding:\n",
    "\n",
    "Encapsulation involves bundling the data (attributes) and methods (functions) that operate on the data into a single unit, known as a class. One of the key aspects of encapsulation is data hiding, where the internal state of an object is hidden from the outside world and can only be accessed or modified through controlled interfaces (methods). This principle of encapsulation is essential for achieving abstraction.\n",
    "\n",
    "2. Achieving Abstraction with Encapsulation:\n",
    "\n",
    "Hiding Implementation Details: Encapsulation allows us to hide the internal implementation details of a class from external code. This means that users of a class do not need to know how the class achieves its functionality internally; they only need to interact with the class through its public methods.\n",
    "\n",
    "Exposing Simplified Interfaces: By exposing only a well-defined set of methods (interface), encapsulation helps in achieving abstraction. The class interface defines what an object can do (its behavior) without revealing how it accomplishes those tasks internally. This separation of interface from implementation is crucial for abstraction. ''')"
   ]
  },
  {
   "cell_type": "code",
   "execution_count": 2,
   "id": "a48af722-0e1d-4cbe-89e0-0daf5858b4ce",
   "metadata": {},
   "outputs": [
    {
     "name": "stdout",
     "output_type": "stream",
     "text": [
      "The purpose of abstract methods in Python is to define a method signature (name and parameters) without providing an implementation. Abstract methods act as placeholders within abstract base classes (ABCs), specifying methods that must be implemented by concrete subclasses. Abstract methods enforce abstraction by defining a contract that subclasses must adhere to, ensuring a consistent interface and behavior across related classes. Let's delve deeper into the purpose and enforcement of abstraction with abstract methods in Python:\n",
      "\n",
      "Purpose of Abstract Methods:\n",
      "\n",
      "Define Method Signatures: Abstract methods define method signatures (names and parameters) that subclasses are required to implement. They specify what methods must exist in subclasses to fulfill the contract defined by the abstract base class.\n",
      "Enforce Method Implementation: Abstract methods ensure that subclasses provide concrete implementations for specific methods. If a subclass fails to implement an abstract method, it will raise a TypeError at runtime, indicating that the subclass is incomplete and does not fully conform to the contract of the abstract base class.\n",
      "Define Interfaces: Abstract methods define interfaces that subclasses must adhere to. They specify a set of methods that subclasses must support, allowing for polymorphism and interchangeability of objects based on their common interface.\n",
      "Enforcement of Abstraction with Abstract Methods:\n",
      "\n",
      "Using Abstract Base Classes (ABCs): Abstract methods are typically used within abstract base classes, which are created by inheriting from the ABC class in the abc module.\n",
      "Decorator Syntax: Abstract methods are defined in abstract base classes using the @abstractmethod decorator from the abc module. This decorator marks a method as abstract, meaning it must be implemented by concrete subclasses.\n",
      "Subclassing and Implementation: Concrete subclasses of an abstract base class must provide implementations for all abstract methods defined in the base class. If any abstract method is left unimplemented in a subclass, attempting to instantiate that subclass will result in a TypeError.\n"
     ]
    }
   ],
   "source": [
    "# 10. What is the purpose of abstract methods, and how do they enforce abstraction in Python classes?\n",
    "\n",
    "print('''The purpose of abstract methods in Python is to define a method signature (name and parameters) without providing an implementation. Abstract methods act as placeholders within abstract base classes (ABCs), specifying methods that must be implemented by concrete subclasses. Abstract methods enforce abstraction by defining a contract that subclasses must adhere to, ensuring a consistent interface and behavior across related classes. Let's delve deeper into the purpose and enforcement of abstraction with abstract methods in Python:\n",
    "\n",
    "Purpose of Abstract Methods:\n",
    "\n",
    "Define Method Signatures: Abstract methods define method signatures (names and parameters) that subclasses are required to implement. They specify what methods must exist in subclasses to fulfill the contract defined by the abstract base class.\n",
    "Enforce Method Implementation: Abstract methods ensure that subclasses provide concrete implementations for specific methods. If a subclass fails to implement an abstract method, it will raise a TypeError at runtime, indicating that the subclass is incomplete and does not fully conform to the contract of the abstract base class.\n",
    "Define Interfaces: Abstract methods define interfaces that subclasses must adhere to. They specify a set of methods that subclasses must support, allowing for polymorphism and interchangeability of objects based on their common interface.\n",
    "Enforcement of Abstraction with Abstract Methods:\n",
    "\n",
    "Using Abstract Base Classes (ABCs): Abstract methods are typically used within abstract base classes, which are created by inheriting from the ABC class in the abc module.\n",
    "Decorator Syntax: Abstract methods are defined in abstract base classes using the @abstractmethod decorator from the abc module. This decorator marks a method as abstract, meaning it must be implemented by concrete subclasses.\n",
    "Subclassing and Implementation: Concrete subclasses of an abstract base class must provide implementations for all abstract methods defined in the base class. If any abstract method is left unimplemented in a subclass, attempting to instantiate that subclass will result in a TypeError.''')"
   ]
  },
  {
   "cell_type": "code",
   "execution_count": 3,
   "id": "9eed75e0-9e37-4d8a-a08c-d1ba47077504",
   "metadata": {},
   "outputs": [
    {
     "name": "stdout",
     "output_type": "stream",
     "text": [
      "this is a start method inside car class\n",
      "this is a stop method inside car class\n"
     ]
    }
   ],
   "source": [
    "# 11. Create a Python class for a vehicle system and demonstrate abstraction by defining common methods \n",
    "# (e.g., `start()`, `stop()`) in an abstract base class.\n",
    "\n",
    "from abc import ABC,abstractmethod\n",
    "\n",
    "class Vehicle(ABC):\n",
    "    \n",
    "    @abstractmethod\n",
    "    def start():\n",
    "        print(\"this is a start method inside Vehicle class\")\n",
    "       \n",
    "    @abstractmethod\n",
    "    def stop():\n",
    "        print(\"this is a stop method inside vehicle class\")\n",
    "        \n",
    "\n",
    "class car(Vehicle):\n",
    "    \n",
    "    def start(self):\n",
    "        print(\"this is a start method inside car class\")\n",
    "       \n",
    "    \n",
    "    def stop(self):\n",
    "        print(\"this is a stop method inside car class\")\n",
    "        \n",
    "\n",
    "c1 = car()\n",
    "c1.start()\n",
    "c1.stop()"
   ]
  },
  {
   "cell_type": "code",
   "execution_count": 5,
   "id": "a6a1d2ae-17ee-4114-8045-9db8c9f47baf",
   "metadata": {},
   "outputs": [
    {
     "name": "stdout",
     "output_type": "stream",
     "text": [
      "Abstract properties in Python are properties that are declared but not implemented in abstract base classes (ABCs). Abstract properties serve as placeholders for attributes that must be implemented by concrete subclasses. They define a contract specifying what properties must exist in subclasses without providing concrete implementations. Abstract properties are used in conjunction with abstract methods to enforce abstraction and define interfaces within abstract base classes. \n"
     ]
    }
   ],
   "source": [
    "# 12. Describe the use of abstract properties in Python and how they can be employed in abstract classes.\n",
    "\n",
    "print('''Abstract properties in Python are properties that are declared but not implemented in abstract base classes (ABCs). Abstract properties serve as placeholders for attributes that must be implemented by concrete subclasses. They define a contract specifying what properties must exist in subclasses without providing concrete implementations. Abstract properties are used in conjunction with abstract methods to enforce abstraction and define interfaces within abstract base classes. ''')"
   ]
  },
  {
   "cell_type": "code",
   "execution_count": 6,
   "id": "500cf1a4-d9eb-4dcc-b770-ecfe562bab25",
   "metadata": {},
   "outputs": [],
   "source": [
    "# 13. Create a Python class hierarchy for employees in a company \n",
    "# (e.g., manager, developer, designer) and implement abstraction by defining a \n",
    "# common `get_salary()` method.\n",
    "\n",
    "from abc import ABC, abstractmethod\n",
    "\n",
    "class Emploee(ABC):\n",
    "    \n",
    "    @abstractmethod\n",
    "    def get_salary():\n",
    "        print(\"this is the get salary method inside Employee class\")\n",
    "        \n",
    "\n",
    "class manager(Emploee):\n",
    "    \n",
    "    def get_salary(self):\n",
    "        print(\"this is the get salary method inside manager class\")\n",
    "        \n",
    "class developer(Emploee):\n",
    "    \n",
    "    def get_salary(self):\n",
    "        print(\"this is the get salary method inside developer class\")\n",
    "        \n",
    "class designer(Emploee):\n",
    "    \n",
    "    def get_salary(self):\n",
    "        print(\"this is the get salary method inside designer class\")"
   ]
  },
  {
   "cell_type": "code",
   "execution_count": 7,
   "id": "8515438c-ff8d-400b-a93b-9c1d81d1ad85",
   "metadata": {},
   "outputs": [
    {
     "name": "stdout",
     "output_type": "stream",
     "text": [
      "Abstract classes and concrete classes in Python serve different purposes and have distinct characteristics, particularly regarding instantiation and implementation. Let's discuss the differences between abstract classes and concrete classes:\n",
      "\n",
      "Abstract Classes:\n",
      "\n",
      "Definition:\n",
      "Abstract classes are classes that cannot be instantiated directly. They are designed to serve as blueprints or templates for other classes.\n",
      "Abstract classes may contain abstract methods (methods without implementations) that must be implemented by subclasses.\n",
      "Purpose:\n",
      "The primary purpose of abstract classes is to define a common interface or protocol that subclasses must adhere to.\n",
      "Abstract classes are used to represent abstract concepts or behaviors that are shared among multiple related classes.\n",
      "Instantiation:\n",
      "Abstract classes cannot be instantiated directly using the class constructor. Attempting to create an instance of an abstract class will result in a TypeError.\n",
      "Abstract classes are meant to be subclassed, and instances of concrete subclasses can be created instead.\n",
      "Implementation:\n",
      "Abstract classes may contain both abstract methods (methods with no implementation) and concrete methods (methods with implementation).\n",
      "Subclasses of abstract classes must provide concrete implementations for all abstract methods defined in the abstract base class.\n",
      "Concrete Classes:\n",
      "\n",
      "Definition:\n",
      "Concrete classes are classes that can be instantiated directly using the class constructor (__init__() method).\n",
      "Concrete classes typically provide concrete implementations for all methods defined in the class.\n",
      "Purpose:\n",
      "The purpose of concrete classes is to provide specific implementations for behaviors or functionalities defined by abstract classes or to represent tangible objects in a system.\n",
      "Instantiation:\n",
      "Concrete classes can be instantiated directly using the class constructor. Instances of concrete classes are created to represent objects with specific attributes and behaviors.\n",
      "Implementation:\n",
      "Concrete classes provide concrete implementations for all methods defined in the class, including both abstract methods inherited from abstract base classes and additional methods specific to the concrete class.\n",
      "Instantiation Differences:\n",
      "\n",
      "Abstract Classes: Cannot be instantiated directly; meant to be subclassed. Instances are created by instantiating concrete subclasses.\n",
      "Concrete Classes: Can be instantiated directly using the class constructor. Instances represent tangible objects with specific attributes and behaviors. \n"
     ]
    }
   ],
   "source": [
    "# 14. Discuss the differences between abstract classes and concrete classes in Python, including their\n",
    "# instantiation.\n",
    "\n",
    "print('''Abstract classes and concrete classes in Python serve different purposes and have distinct characteristics, particularly regarding instantiation and implementation. Let's discuss the differences between abstract classes and concrete classes:\n",
    "\n",
    "Abstract Classes:\n",
    "\n",
    "Definition:\n",
    "Abstract classes are classes that cannot be instantiated directly. They are designed to serve as blueprints or templates for other classes.\n",
    "Abstract classes may contain abstract methods (methods without implementations) that must be implemented by subclasses.\n",
    "Purpose:\n",
    "The primary purpose of abstract classes is to define a common interface or protocol that subclasses must adhere to.\n",
    "Abstract classes are used to represent abstract concepts or behaviors that are shared among multiple related classes.\n",
    "Instantiation:\n",
    "Abstract classes cannot be instantiated directly using the class constructor. Attempting to create an instance of an abstract class will result in a TypeError.\n",
    "Abstract classes are meant to be subclassed, and instances of concrete subclasses can be created instead.\n",
    "Implementation:\n",
    "Abstract classes may contain both abstract methods (methods with no implementation) and concrete methods (methods with implementation).\n",
    "Subclasses of abstract classes must provide concrete implementations for all abstract methods defined in the abstract base class.\n",
    "Concrete Classes:\n",
    "\n",
    "Definition:\n",
    "Concrete classes are classes that can be instantiated directly using the class constructor (__init__() method).\n",
    "Concrete classes typically provide concrete implementations for all methods defined in the class.\n",
    "Purpose:\n",
    "The purpose of concrete classes is to provide specific implementations for behaviors or functionalities defined by abstract classes or to represent tangible objects in a system.\n",
    "Instantiation:\n",
    "Concrete classes can be instantiated directly using the class constructor. Instances of concrete classes are created to represent objects with specific attributes and behaviors.\n",
    "Implementation:\n",
    "Concrete classes provide concrete implementations for all methods defined in the class, including both abstract methods inherited from abstract base classes and additional methods specific to the concrete class.\n",
    "Instantiation Differences:\n",
    "\n",
    "Abstract Classes: Cannot be instantiated directly; meant to be subclassed. Instances are created by instantiating concrete subclasses.\n",
    "Concrete Classes: Can be instantiated directly using the class constructor. Instances represent tangible objects with specific attributes and behaviors. ''')"
   ]
  },
  {
   "cell_type": "code",
   "execution_count": 2,
   "id": "678392a3-c83d-479e-901f-0b24f80417a7",
   "metadata": {},
   "outputs": [],
   "source": [
    "# 16. Create a Python class for a computer system, demonstrating abstraction by \n",
    "# defining common methods \n",
    "# (e.g., `power_on()`, `shutdown()`) in an abstract base class.\n",
    "\n",
    "from abc import ABC,abstractmethod\n",
    "\n",
    "class comp_system(ABC):\n",
    "    \n",
    "    @abstractmethod\n",
    "    def power_on():\n",
    "        print(\"This is the power on method inside comp_system class\")\n",
    "        \n",
    "    @abstractmethod\n",
    "    def shutdown():\n",
    "        print(\"this is the shutdown method inside shutdown class\")\n",
    "        \n",
    "\n",
    "class monitor(comp_system):\n",
    "    \n",
    "    def power_on(self):\n",
    "        print(\"This is the power on method inside monitor class\")\n",
    "        \n",
    "    \n",
    "    def shutdown(self):\n",
    "        print(\"this is the shutdown method inside monitor class\")"
   ]
  },
  {
   "cell_type": "code",
   "execution_count": 3,
   "id": "e8af5c00-305a-4285-b0be-03f4610b34f4",
   "metadata": {},
   "outputs": [
    {
     "name": "stdout",
     "output_type": "stream",
     "text": [
      " \n",
      "Using abstraction in large-scale software development projects offers several benefits that contribute to the efficiency, scalability, and maintainability of the codebase. Here are some key advantages of incorporating abstraction into large-scale software projects:\n",
      "\n",
      "Simplified Complexity: Abstraction helps in managing the complexity of large-scale software systems by hiding implementation details behind well-defined interfaces. This allows developers to focus on high-level design and architecture without being overwhelmed by the intricacies of individual components.\n",
      "Modular Design: Abstraction facilitates modular design by breaking down a complex system into smaller, more manageable modules. Each module encapsulates a specific functionality, making it easier to understand, develop, test, and maintain.\n",
      "Code Reusability: Abstracting common functionalities into reusable components promotes code reusability across different parts of the software project. By defining generic interfaces and implementations, developers can leverage existing code to accelerate development and reduce redundancy.\n",
      "Enhanced Maintainability: Abstraction promotes code maintainability by reducing dependencies between components and isolating changes within individual modules. When a change is required, developers can focus on updating the relevant abstraction without affecting other parts of the system, minimizing the risk of unintended side effects.\n",
      "Improved Collaboration: Abstraction fosters collaboration among development teams by providing clear boundaries and interfaces between different modules. Teams can work independently on separate components, following agreed-upon interfaces, without needing detailed knowledge of each other's implementation.\n"
     ]
    }
   ],
   "source": [
    "# 17. Discuss the benefits of using abstraction in large-scale software\n",
    "# development projects.\n",
    "\n",
    "print(''' \n",
    "Using abstraction in large-scale software development projects offers several benefits that contribute to the efficiency, scalability, and maintainability of the codebase. Here are some key advantages of incorporating abstraction into large-scale software projects:\n",
    "\n",
    "Simplified Complexity: Abstraction helps in managing the complexity of large-scale software systems by hiding implementation details behind well-defined interfaces. This allows developers to focus on high-level design and architecture without being overwhelmed by the intricacies of individual components.\n",
    "Modular Design: Abstraction facilitates modular design by breaking down a complex system into smaller, more manageable modules. Each module encapsulates a specific functionality, making it easier to understand, develop, test, and maintain.\n",
    "Code Reusability: Abstracting common functionalities into reusable components promotes code reusability across different parts of the software project. By defining generic interfaces and implementations, developers can leverage existing code to accelerate development and reduce redundancy.\n",
    "Enhanced Maintainability: Abstraction promotes code maintainability by reducing dependencies between components and isolating changes within individual modules. When a change is required, developers can focus on updating the relevant abstraction without affecting other parts of the system, minimizing the risk of unintended side effects.\n",
    "Improved Collaboration: Abstraction fosters collaboration among development teams by providing clear boundaries and interfaces between different modules. Teams can work independently on separate components, following agreed-upon interfaces, without needing detailed knowledge of each other's implementation.''')"
   ]
  },
  {
   "cell_type": "code",
   "execution_count": 4,
   "id": "a2132ab9-d223-4e3a-acde-cb55ae2b5186",
   "metadata": {},
   "outputs": [
    {
     "name": "stdout",
     "output_type": "stream",
     "text": [
      "Abstraction enhances code reusability and modularity in Python programs by promoting a clear separation of concerns, encapsulating complexity, and providing well-defined interfaces that hide implementation details. Here's how abstraction achieves these benefits:\n",
      "\n",
      "Clear Separation of Concerns: Abstraction allows developers to separate different concerns or functionalities into distinct modules or components. Each module encapsulates a specific set of functionalities and hides its implementation details behind well-defined interfaces. This separation makes it easier to understand, maintain, and modify individual components without affecting others, promoting modularity.\n",
      "Encapsulation of Complexity: Abstraction encapsulates complexity within individual modules or components, hiding intricate implementation details behind simplified interfaces. This encapsulation allows developers to interact with complex functionalities through a high-level interface without needing to understand the underlying complexity. As a result, developers can focus on using the functionality rather than worrying about how it is implemented, which enhances code reusability.\n",
      "Well-Defined Interfaces: Abstraction provides well-defined interfaces that specify how modules or components should interact with each other. These interfaces serve as contracts that define the methods, properties, and behaviors that are available to other parts of the program. By adhering to these interfaces, developers can ensure compatibility between different components and promote code reusability. Additionally, well-defined interfaces make it easier to replace or extend components without affecting the rest of the system. \n"
     ]
    }
   ],
   "source": [
    "# 18. Explain how abstraction enhances code reusability and modularity\n",
    "# in Python programs.\n",
    "\n",
    "print('''Abstraction enhances code reusability and modularity in Python programs by promoting a clear separation of concerns, encapsulating complexity, and providing well-defined interfaces that hide implementation details. Here's how abstraction achieves these benefits:\n",
    "\n",
    "Clear Separation of Concerns: Abstraction allows developers to separate different concerns or functionalities into distinct modules or components. Each module encapsulates a specific set of functionalities and hides its implementation details behind well-defined interfaces. This separation makes it easier to understand, maintain, and modify individual components without affecting others, promoting modularity.\n",
    "Encapsulation of Complexity: Abstraction encapsulates complexity within individual modules or components, hiding intricate implementation details behind simplified interfaces. This encapsulation allows developers to interact with complex functionalities through a high-level interface without needing to understand the underlying complexity. As a result, developers can focus on using the functionality rather than worrying about how it is implemented, which enhances code reusability.\n",
    "Well-Defined Interfaces: Abstraction provides well-defined interfaces that specify how modules or components should interact with each other. These interfaces serve as contracts that define the methods, properties, and behaviors that are available to other parts of the program. By adhering to these interfaces, developers can ensure compatibility between different components and promote code reusability. Additionally, well-defined interfaces make it easier to replace or extend components without affecting the rest of the system. ''')"
   ]
  },
  {
   "cell_type": "code",
   "execution_count": 5,
   "id": "e25c5b84-e1d7-45aa-a969-4403e088aef0",
   "metadata": {},
   "outputs": [],
   "source": [
    "# 19. Create a Python class for a library system, implementing abstraction by \n",
    "# defining common methods (e.g., `add_book()`, `borrow_book()`) in an\n",
    "# abstract base class.\n",
    "\n",
    "from abc import ABC, abstractmethod\n",
    "\n",
    "class libraray(ABC):\n",
    "    \n",
    "    @abstractmethod\n",
    "    def add_book():\n",
    "        print(\"this is an add book method inside library class\")\n",
    "        \n",
    "    @abstractmethod\n",
    "    def borrrow_book():\n",
    "        print(\"this is a borrow book method inside method inside library class\")\n",
    "        \n",
    "\n",
    "class school_libraray(libraray):\n",
    "    \n",
    "    def add_book(self):\n",
    "        print(\"this is an add book method inside school_libraray class\")\n",
    "        \n",
    "   \n",
    "    def borrrow_book(self):\n",
    "        print(\"this is a borrow book method inside method inside school_libraray class\") "
   ]
  },
  {
   "cell_type": "code",
   "execution_count": 7,
   "id": "4a779dbe-8dfd-49fa-8f2a-084f80756a6b",
   "metadata": {},
   "outputs": [
    {
     "name": "stdout",
     "output_type": "stream",
     "text": [
      "Method abstraction in Python refers to the process of defining methods in a way that their specific implementation details are hidden from the users of the class or module. Instead, users interact with methods through well-defined interfaces, without needing to know how those methods are implemented internally. Method abstraction \n"
     ]
    }
   ],
   "source": [
    "# 20. Describe the concept of method abstraction in Python and how it relates to polymorphism.\n",
    "\n",
    "print('''Method abstraction in Python refers to the process of defining methods in a way that their specific implementation details are hidden from the users of the class or module. Instead, users interact with methods through well-defined interfaces, without needing to know how those methods are implemented internally. Method abstraction ''')"
   ]
  },
  {
   "cell_type": "code",
   "execution_count": 1,
   "id": "02d0fef7-97bd-4f15-9fb3-7f1a90eac21e",
   "metadata": {},
   "outputs": [],
   "source": [
    "# Composition:"
   ]
  },
  {
   "cell_type": "code",
   "execution_count": 2,
   "id": "b8b9ac4e-9076-4aa3-bf8e-67e775f56d53",
   "metadata": {},
   "outputs": [
    {
     "name": "stdout",
     "output_type": "stream",
     "text": [
      "Composition in Python is a design principle where complex objects are constructed by composing simpler objects. It involves creating objects that contain references to other objects as attributes, allowing them to leverage the functionality of those objects to achieve their own purpose. Composition promotes code reuse, modularity, and flexibility in software design by enabling the creation of objects that are built from smaller, reusable components.\n",
      "\n",
      "Here's how composition works and how it's used to build complex objects from simpler ones:\n",
      "\n",
      "Creating Smaller, Reusable Components: In composition, smaller and more specialized objects are created to represent specific functionalities or behaviors. These objects encapsulate their own state and behavior and can be reused in different contexts.\n",
      "Defining Complex Objects: Complex objects are constructed by combining or composing multiple smaller objects. Rather than inheriting behavior from a single parent class (as in inheritance), complex objects contain references to other objects as attributes.\n",
      "Leveraging Functionality of Component Objects: Complex objects leverage the functionality of their component objects to perform their own tasks. They delegate responsibilities to their constituent objects, invoking their methods or accessing their attributes as needed.\n",
      "Promoting Modularity and Flexibility: Composition promotes modularity and flexibility in software design by allowing complex objects to be constructed from interchangeable and reusable components. Changes to one component do not necessarily affect the entire system, making it easier to maintain and extend. \n"
     ]
    }
   ],
   "source": [
    "# # 1. Explain the concept of composition in Python and how it is used\n",
    "# to build complex objects from simpler ones.\n",
    "\n",
    "print('''Composition in Python is a design principle where complex objects are constructed by composing simpler objects. It involves creating objects that contain references to other objects as attributes, allowing them to leverage the functionality of those objects to achieve their own purpose. Composition promotes code reuse, modularity, and flexibility in software design by enabling the creation of objects that are built from smaller, reusable components.\n",
    "\n",
    "Here's how composition works and how it's used to build complex objects from simpler ones:\n",
    "\n",
    "Creating Smaller, Reusable Components: In composition, smaller and more specialized objects are created to represent specific functionalities or behaviors. These objects encapsulate their own state and behavior and can be reused in different contexts.\n",
    "Defining Complex Objects: Complex objects are constructed by combining or composing multiple smaller objects. Rather than inheriting behavior from a single parent class (as in inheritance), complex objects contain references to other objects as attributes.\n",
    "Leveraging Functionality of Component Objects: Complex objects leverage the functionality of their component objects to perform their own tasks. They delegate responsibilities to their constituent objects, invoking their methods or accessing their attributes as needed.\n",
    "Promoting Modularity and Flexibility: Composition promotes modularity and flexibility in software design by allowing complex objects to be constructed from interchangeable and reusable components. Changes to one component do not necessarily affect the entire system, making it easier to maintain and extend. ''')"
   ]
  },
  {
   "cell_type": "code",
   "execution_count": 3,
   "id": "3daa81bc-1226-414e-8de9-2a639ab5bbc4",
   "metadata": {},
   "outputs": [
    {
     "name": "stdout",
     "output_type": "stream",
     "text": [
      "Composition and inheritance are two fundamental concepts in object-oriented programming (OOP) that facilitate code reuse and promote modularity and flexibility in software design. While both approaches enable the creation of complex objects from simpler ones, they differ in their implementation and usage. Here's a comparison of composition and inheritance:\n",
      "\n",
      "Composition:\n",
      "Definition: Composition involves creating objects that contain references to other objects as attributes. A class is composed of one or more instances of other classes, and it delegates responsibilities to its component objects.\n",
      "Relationship: Composition represents a \"has-a\" relationship between objects, where one object \"has\" another object as a part of its state or behavior.\n",
      "Flexibility: Composition promotes flexibility in software design by allowing objects to be constructed from interchangeable and reusable components. Changes to one component do not necessarily affect the entire system.\n",
      "Code Reuse: Composition encourages code reuse by creating smaller, reusable components that can be shared across different parts of the system.\n",
      "Example: A Car object may contain an Engine object as one of its attributes. The Car object delegates the responsibility of starting the engine to the Engine object through composition.\n",
      "Inheritance:\n",
      "Definition: Inheritance involves creating new classes (derived classes) based on existing classes (base or parent classes). Derived classes inherit attributes and methods from their base classes and can extend or override their behavior.\n",
      "Relationship: Inheritance represents an \"is-a\" relationship between objects, where a derived class \"is\" a specialized version of its base class.\n",
      "Code Reuse: Inheritance promotes code reuse by allowing derived classes to inherit attributes and methods from their base classes. This reduces duplication and promotes consistency in the codebase.\n",
      "Hierarchical Structure: Inheritance establishes a hierarchical structure among classes, with base classes at higher levels and derived classes at lower levels.\n",
      "Example: A Car class may inherit from a Vehicle class. The Car class inherits attributes and methods such as drive() and stop() from the Vehicle class and can also define its own unique functionalities. \n"
     ]
    }
   ],
   "source": [
    "# 2. Describe the difference between composition and inheritance in object-oriented programming.\n",
    "\n",
    "print('''Composition and inheritance are two fundamental concepts in object-oriented programming (OOP) that facilitate code reuse and promote modularity and flexibility in software design. While both approaches enable the creation of complex objects from simpler ones, they differ in their implementation and usage. Here's a comparison of composition and inheritance:\n",
    "\n",
    "Composition:\n",
    "Definition: Composition involves creating objects that contain references to other objects as attributes. A class is composed of one or more instances of other classes, and it delegates responsibilities to its component objects.\n",
    "Relationship: Composition represents a \"has-a\" relationship between objects, where one object \"has\" another object as a part of its state or behavior.\n",
    "Flexibility: Composition promotes flexibility in software design by allowing objects to be constructed from interchangeable and reusable components. Changes to one component do not necessarily affect the entire system.\n",
    "Code Reuse: Composition encourages code reuse by creating smaller, reusable components that can be shared across different parts of the system.\n",
    "Example: A Car object may contain an Engine object as one of its attributes. The Car object delegates the responsibility of starting the engine to the Engine object through composition.\n",
    "Inheritance:\n",
    "Definition: Inheritance involves creating new classes (derived classes) based on existing classes (base or parent classes). Derived classes inherit attributes and methods from their base classes and can extend or override their behavior.\n",
    "Relationship: Inheritance represents an \"is-a\" relationship between objects, where a derived class \"is\" a specialized version of its base class.\n",
    "Code Reuse: Inheritance promotes code reuse by allowing derived classes to inherit attributes and methods from their base classes. This reduces duplication and promotes consistency in the codebase.\n",
    "Hierarchical Structure: Inheritance establishes a hierarchical structure among classes, with base classes at higher levels and derived classes at lower levels.\n",
    "Example: A Car class may inherit from a Vehicle class. The Car class inherits attributes and methods such as drive() and stop() from the Vehicle class and can also define its own unique functionalities. ''')"
   ]
  },
  {
   "cell_type": "code",
   "execution_count": 2,
   "id": "3e384f28-6f9f-4e91-94bd-b963e9cb25b6",
   "metadata": {},
   "outputs": [
    {
     "name": "stdout",
     "output_type": "stream",
     "text": [
      "Book Title: Sample Book\n",
      "Author Name: John Doe\n",
      "Author Birthdate: 1990-05-15\n",
      "Publication Year: 2022\n"
     ]
    }
   ],
   "source": [
    "# 3. Create a Python class called `Author` with attributes for name and birthdate. \n",
    "# Then, create a `Book` class\n",
    "# that contains an instance of `Author` as a composition. \n",
    "# Provide an example of creating a `Book` object.\n",
    "\n",
    "\n",
    "class Author:\n",
    "    def __init__(self, name, birthdate):\n",
    "        self.name = name\n",
    "        self.birthdate = birthdate\n",
    "\n",
    "class Book:\n",
    "    def __init__(self, title, author, publication_year):\n",
    "        self.title = title\n",
    "        self.author = author\n",
    "        self.publication_year = publication_year\n",
    "\n",
    "# Creating an Author object\n",
    "author = Author(\"John Doe\", \"1990-05-15\")\n",
    "\n",
    "# Creating a Book object containing the Author object\n",
    "book = Book(\"Sample Book\", author, 2022)\n",
    "\n",
    "# Accessing attributes of the Book object\n",
    "print(\"Book Title:\", book.title)\n",
    "print(\"Author Name:\", book.author.name)\n",
    "print(\"Author Birthdate:\", book.author.birthdate)\n",
    "print(\"Publication Year:\", book.publication_year)\n"
   ]
  },
  {
   "cell_type": "code",
   "execution_count": 4,
   "id": "1c901701-23fa-43b3-97c5-737913e16b28",
   "metadata": {},
   "outputs": [
    {
     "name": "stdout",
     "output_type": "stream",
     "text": [
      "Using composition over inheritance offers several benefits in terms of code flexibility and reusability, especially in Python. Here are some key advantages:\n",
      "\n",
      "Flexibility: Composition allows for more flexible designs compared to inheritance. With composition, objects can be composed of multiple components, each with its own behavior and implementation. This flexibility enables developers to create complex objects by combining smaller, reusable components in various configurations, without being constrained by the rigid class hierarchies imposed by inheritance.\n",
      "Reduced Coupling: Composition reduces coupling between classes compared to inheritance. Inheritance creates a tight coupling between base and derived classes, where changes to the base class can have unintended consequences on derived classes. In contrast, composition promotes loose coupling by allowing objects to interact through well-defined interfaces rather than through inheritance chains.\n",
      "Code Reusability: Composition promotes code reusability by encouraging the creation of smaller, self-contained components that can be reused across different parts of the system. By composing objects from interchangeable components, developers can avoid duplication and leverage existing functionality more effectively, leading to cleaner and more maintainable code.\n",
      "Encapsulation: Composition encourages encapsulation by encapsulating the implementation details of individual components. Each component is responsible for a specific functionality and hides its internal state and behavior from other components. This encapsulation promotes modularity and reduces the risk of unintended side effects when making changes to the system.\n",
      "Easier Testing: Composition facilitates easier testing compared to inheritance. With composition, components can be tested independently of each other, allowing for more targeted and focused testing. This modular approach to testing simplifies debugging and maintenance, as issues can be isolated to specific components rather than being spread across the entire inheritance hierarchy. \n"
     ]
    }
   ],
   "source": [
    "# 4. Discuss the benefits of using composition over inheritance in Python, especially in terms of code flexibility\n",
    "# and reusability.\n",
    "\n",
    "\n",
    "print('''Using composition over inheritance offers several benefits in terms of code flexibility and reusability, especially in Python. Here are some key advantages:\n",
    "\n",
    "Flexibility: Composition allows for more flexible designs compared to inheritance. With composition, objects can be composed of multiple components, each with its own behavior and implementation. This flexibility enables developers to create complex objects by combining smaller, reusable components in various configurations, without being constrained by the rigid class hierarchies imposed by inheritance.\n",
    "Reduced Coupling: Composition reduces coupling between classes compared to inheritance. Inheritance creates a tight coupling between base and derived classes, where changes to the base class can have unintended consequences on derived classes. In contrast, composition promotes loose coupling by allowing objects to interact through well-defined interfaces rather than through inheritance chains.\n",
    "Code Reusability: Composition promotes code reusability by encouraging the creation of smaller, self-contained components that can be reused across different parts of the system. By composing objects from interchangeable components, developers can avoid duplication and leverage existing functionality more effectively, leading to cleaner and more maintainable code.\n",
    "Encapsulation: Composition encourages encapsulation by encapsulating the implementation details of individual components. Each component is responsible for a specific functionality and hides its internal state and behavior from other components. This encapsulation promotes modularity and reduces the risk of unintended side effects when making changes to the system.\n",
    "Easier Testing: Composition facilitates easier testing compared to inheritance. With composition, components can be tested independently of each other, allowing for more targeted and focused testing. This modular approach to testing simplifies debugging and maintenance, as issues can be isolated to specific components rather than being spread across the entire inheritance hierarchy. ''')"
   ]
  },
  {
   "cell_type": "code",
   "execution_count": 6,
   "id": "363e669f-1ec5-4508-8f73-c52a8a2d224d",
   "metadata": {},
   "outputs": [
    {
     "name": "stdout",
     "output_type": "stream",
     "text": [
      "In Python, composition can be implemented by creating classes that contain instances of other classes as attributes. This allows objects to be composed of smaller, reusable components, promoting modularity and code reuse. Here's how you can implement composition in Python classes along with examples:\n",
      "\n",
      "Implementing Composition:\n",
      "Define classes representing smaller, reusable components.\n",
      "Create a class representing a complex object that contains instances of the smaller components as attributes.\n",
      "Use the smaller components within the complex object to delegate responsibilities and achieve the desired functionality. \n",
      "Engine started\n",
      "Car moving\n"
     ]
    }
   ],
   "source": [
    "# 5. How can you implement composition in Python classes? Provide examples of using composition to create\n",
    "# complex objects.\n",
    "\n",
    "\n",
    "print('''In Python, composition can be implemented by creating classes that contain instances of other classes as attributes. This allows objects to be composed of smaller, reusable components, promoting modularity and code reuse. Here's how you can implement composition in Python classes along with examples:\n",
    "\n",
    "Implementing Composition:\n",
    "Define classes representing smaller, reusable components.\n",
    "Create a class representing a complex object that contains instances of the smaller components as attributes.\n",
    "Use the smaller components within the complex object to delegate responsibilities and achieve the desired functionality. ''')\n",
    "\n",
    "\n",
    "# Define a class representing a smaller component\n",
    "class Engine:\n",
    "    def start(self):\n",
    "        print(\"Engine started\")\n",
    "\n",
    "# Define another class representing a smaller component\n",
    "class Wheels:\n",
    "    def rotate(self):\n",
    "        print(\"Wheels rotating\")\n",
    "\n",
    "# Create a class representing a complex object that contains instances of the smaller components\n",
    "class Car:\n",
    "    def __init__(self):\n",
    "        # Composition: Car contains instances of Engine and Wheels\n",
    "        self.engine = Engine()\n",
    "        self.wheels = Wheels()\n",
    "\n",
    "    def start(self):\n",
    "        # Delegate starting the engine to the Engine component\n",
    "        self.engine.start()\n",
    "        print(\"Car moving\")\n",
    "\n",
    "# Example of using composition to create a complex object\n",
    "my_car = Car()\n",
    "my_car.start()  # Output: Engine started, Car moving\n"
   ]
  },
  {
   "cell_type": "code",
   "execution_count": 8,
   "id": "9d02fae2-41d3-4abf-b92e-260298a5d13d",
   "metadata": {},
   "outputs": [],
   "source": [
    "# 6. Create a Python class hierarchy for a music player system, using composition to represent playlists and\n",
    "# songs.\n",
    "\n",
    "\n",
    "class Song:\n",
    "    def __init__(self, title, artist, duration):\n",
    "        self.title = title\n",
    "        self.artist = artist\n",
    "        self.duration = duration\n",
    "\n",
    "    def play(self):\n",
    "        print(f\"Playing '{self.title}' by {self.artist}\")\n",
    "\n",
    "\n",
    "class Playlist:\n",
    "    def __init__(self, name):\n",
    "        self.name = name\n",
    "        self.songs = []\n",
    "\n",
    "    def add_song(self, song):\n",
    "        self.songs.append(song)\n",
    "\n",
    "    def remove_song(self, song):\n",
    "        if song in self.songs:\n",
    "            self.songs.remove(song)\n",
    "        else:\n",
    "            print(f\"'{song.title}' is not in the playlist.\")\n",
    "\n",
    "    def play_all(self):\n",
    "        print(f\"Playing playlist: {self.name}\")\n",
    "        for song in self.songs:\n",
    "            song.play()\n",
    "\n",
    "\n",
    "class MusicPlayer:\n",
    "    def __init__(self):\n",
    "        self.playlists = {}\n",
    "\n",
    "    def create_playlist(self, name):\n",
    "        if name not in self.playlists:\n",
    "            self.playlists[name] = Playlist(name)\n",
    "        else:\n",
    "            print(\"Playlist already exists.\")\n",
    "\n",
    "    def delete_playlist(self, name):\n",
    "        if name in self.playlists:\n",
    "            del self.playlists[name]\n",
    "        else:\n",
    "            print(\"Playlist does not exist.\")\n",
    "\n",
    "    def add_song_to_playlist(self, playlist_name, song):\n",
    "        if playlist_name in self.playlists:\n",
    "            self.playlists[playlist_name].add_song(song)\n",
    "        else:\n",
    "            print(\"Playlist does not exist.\")\n",
    "\n",
    "    def remove_song_from_playlist(self, playlist_name, song):\n",
    "        if playlist_name in self.playlists:\n",
    "            self.playlists[playlist_name].remove_song(song)\n",
    "        else:\n",
    "            print(\"Playlist does not exist.\")\n",
    "\n",
    "    def play_playlist(self, playlist_name):\n",
    "        if playlist_name in self.playlists:\n",
    "            self.playlists[playlist_name].play_all()\n",
    "        else:\n",
    "            print(\"Playlist does not exist.\")\n"
   ]
  },
  {
   "cell_type": "code",
   "execution_count": 11,
   "id": "8682f3c8-7f36-4a4d-befe-be4cbe8a4236",
   "metadata": {},
   "outputs": [
    {
     "name": "stdout",
     "output_type": "stream",
     "text": [
      "The concept of \"has-a\" relationships in composition refers to the relationship between two classes where one class contains an instance of another class as a part of its state or behavior. In other words, one class \"has\" another class as one of its attributes. This relationship is a fundamental aspect of composition, where objects are composed of smaller, reusable components to build more complex structures. \n"
     ]
    }
   ],
   "source": [
    "# 7. Explain the concept of \"has-a\" relationships in composition and how it helps design software systems.\n",
    "\n",
    "print('''The concept of \"has-a\" relationships in composition refers to the relationship between two classes where one class contains an instance of another class as a part of its state or behavior. In other words, one class \"has\" another class as one of its attributes. This relationship is a fundamental aspect of composition, where objects are composed of smaller, reusable components to build more complex structures. ''')"
   ]
  },
  {
   "cell_type": "code",
   "execution_count": 12,
   "id": "e16e6950-ad2e-4460-b0ef-dccd24feef6d",
   "metadata": {},
   "outputs": [
    {
     "name": "stdout",
     "output_type": "stream",
     "text": [
      "Booting up the computer system\n",
      "Intel Core i7 CPU processing data at 3.5 GHz\n",
      "Loading data into 16 GB RAM\n",
      "Reading data from 512 GB storage\n"
     ]
    }
   ],
   "source": [
    "# 8. Create a Python class for a computer system, using composition to represent components like CPU, RAM,\n",
    "# and storage devices.\n",
    "\n",
    "class CPU:\n",
    "    def __init__(self, model, speed):\n",
    "        self.model = model\n",
    "        self.speed = speed\n",
    "\n",
    "    def process(self):\n",
    "        print(f\"{self.model} CPU processing data at {self.speed} GHz\")\n",
    "\n",
    "\n",
    "class RAM:\n",
    "    def __init__(self, size):\n",
    "        self.size = size\n",
    "\n",
    "    def load_data(self):\n",
    "        print(f\"Loading data into {self.size} GB RAM\")\n",
    "\n",
    "\n",
    "class Storage:\n",
    "    def __init__(self, capacity):\n",
    "        self.capacity = capacity\n",
    "\n",
    "    def read_data(self):\n",
    "        print(f\"Reading data from {self.capacity} GB storage\")\n",
    "\n",
    "\n",
    "class ComputerSystem:\n",
    "    def __init__(self, cpu_model, cpu_speed, ram_size, storage_capacity):\n",
    "        self.cpu = CPU(cpu_model, cpu_speed)\n",
    "        self.ram = RAM(ram_size)\n",
    "        self.storage = Storage(storage_capacity)\n",
    "\n",
    "    def boot(self):\n",
    "        print(\"Booting up the computer system\")\n",
    "        self.cpu.process()\n",
    "        self.ram.load_data()\n",
    "        self.storage.read_data()\n",
    "\n",
    "\n",
    "# Example usage\n",
    "computer = ComputerSystem(\"Intel Core i7\", 3.5, 16, 512)\n",
    "computer.boot()\n"
   ]
  },
  {
   "cell_type": "code",
   "execution_count": 13,
   "id": "e29317d3-f17d-42ee-bb44-c5ee1f253a21",
   "metadata": {},
   "outputs": [
    {
     "name": "stdout",
     "output_type": "stream",
     "text": [
      "In composition, delegation refers to the process of passing responsibilities or tasks from one object to another through their composition relationship. Instead of implementing all functionalities within a single class, an object delegates certain tasks to its component objects, which are better suited to handle them. This approach simplifies the design of complex systems by promoting modularity, code reuse, and maintainability. Here's how delegation works and its benefits:\n",
      "\n",
      "Modularity: Delegation promotes modularity by breaking down complex functionalities into smaller, more manageable components. Each component is responsible for a specific task or set of tasks, leading to a clear separation of concerns within the system. This modular design makes it easier to understand, develop, test, and maintain the codebase.\n",
      "Code Reuse: Delegation facilitates code reuse by allowing objects to delegate responsibilities to existing components rather than reimplementing the same functionalities multiple times. By composing objects from interchangeable components, developers can leverage existing solutions to common problems, leading to cleaner and more maintainable code.\n",
      "Flexibility: Delegation offers flexibility in software design by enabling objects to adapt to changing requirements or use cases. Components can be replaced or extended without affecting the overall structure of the system, allowing for greater flexibility and adaptability over time. This flexibility is particularly useful in dynamic and evolving environments where requirements may change frequently.\n",
      "Encapsulation: Delegation promotes encapsulation by encapsulating the implementation details of individual components. Each component encapsulates its own state and behavior, hiding its internal workings from other components. This encapsulation reduces the complexity of the system and minimizes the risk of unintended side effects when making changes. \n"
     ]
    }
   ],
   "source": [
    "# 9. Describe the concept of \"delegation\" in composition and how it simplifies the design of complex systems.\n",
    "\n",
    "print('''In composition, delegation refers to the process of passing responsibilities or tasks from one object to another through their composition relationship. Instead of implementing all functionalities within a single class, an object delegates certain tasks to its component objects, which are better suited to handle them. This approach simplifies the design of complex systems by promoting modularity, code reuse, and maintainability. Here's how delegation works and its benefits:\n",
    "\n",
    "Modularity: Delegation promotes modularity by breaking down complex functionalities into smaller, more manageable components. Each component is responsible for a specific task or set of tasks, leading to a clear separation of concerns within the system. This modular design makes it easier to understand, develop, test, and maintain the codebase.\n",
    "Code Reuse: Delegation facilitates code reuse by allowing objects to delegate responsibilities to existing components rather than reimplementing the same functionalities multiple times. By composing objects from interchangeable components, developers can leverage existing solutions to common problems, leading to cleaner and more maintainable code.\n",
    "Flexibility: Delegation offers flexibility in software design by enabling objects to adapt to changing requirements or use cases. Components can be replaced or extended without affecting the overall structure of the system, allowing for greater flexibility and adaptability over time. This flexibility is particularly useful in dynamic and evolving environments where requirements may change frequently.\n",
    "Encapsulation: Delegation promotes encapsulation by encapsulating the implementation details of individual components. Each component encapsulates its own state and behavior, hiding its internal workings from other components. This encapsulation reduces the complexity of the system and minimizes the risk of unintended side effects when making changes. ''')\n"
   ]
  },
  {
   "cell_type": "code",
   "execution_count": 14,
   "id": "9738fa4f-e67c-4454-a2e0-fa0d42ddd678",
   "metadata": {},
   "outputs": [
    {
     "name": "stdout",
     "output_type": "stream",
     "text": [
      "Engine V6 started\n",
      "Wheels rotating, size: 18\n",
      "Car started\n",
      "Transmission shifted to Drive\n",
      "Engine V6 stopped\n",
      "Car stopped\n"
     ]
    }
   ],
   "source": [
    "# 10. Create a Python class for a car, using composition to represent components like the engine, wheels, and\n",
    "# transmission.\n",
    "\n",
    "class Engine:\n",
    "    def __init__(self, model):\n",
    "        self.model = model\n",
    "\n",
    "    def start(self):\n",
    "        print(f\"Engine {self.model} started\")\n",
    "\n",
    "    def stop(self):\n",
    "        print(f\"Engine {self.model} stopped\")\n",
    "\n",
    "\n",
    "class Wheels:\n",
    "    def __init__(self, size):\n",
    "        self.size = size\n",
    "\n",
    "    def rotate(self):\n",
    "        print(f\"Wheels rotating, size: {self.size}\")\n",
    "\n",
    "\n",
    "class Transmission:\n",
    "    def __init__(self, type):\n",
    "        self.type = type\n",
    "\n",
    "    def shift_gear(self, gear):\n",
    "        print(f\"Transmission shifted to {gear}\")\n",
    "\n",
    "\n",
    "class Car:\n",
    "    def __init__(self, engine_model, wheels_size, transmission_type):\n",
    "        self.engine = Engine(engine_model)\n",
    "        self.wheels = Wheels(wheels_size)\n",
    "        self.transmission = Transmission(transmission_type)\n",
    "\n",
    "    def start(self):\n",
    "        self.engine.start()\n",
    "        self.wheels.rotate()\n",
    "        print(\"Car started\")\n",
    "\n",
    "    def stop(self):\n",
    "        self.engine.stop()\n",
    "        print(\"Car stopped\")\n",
    "\n",
    "    def change_gear(self, gear):\n",
    "        self.transmission.shift_gear(gear)\n",
    "\n",
    "\n",
    "# Example usage\n",
    "my_car = Car(\"V6\", 18, \"Automatic\")\n",
    "my_car.start()\n",
    "my_car.change_gear(\"Drive\")\n",
    "my_car.stop()\n"
   ]
  },
  {
   "cell_type": "code",
   "execution_count": 15,
   "id": "d7adf6e9-c923-44a4-a168-dadb4b97e27c",
   "metadata": {},
   "outputs": [
    {
     "name": "stdout",
     "output_type": "stream",
     "text": [
      "In Python, you can encapsulate and hide the details of composed objects in classes to maintain abstraction by following these principles:\n",
      "\n",
      "Private Attributes: Use private attributes within the class to hide the details of composed objects from external access. Prefixing attribute names with a double underscore (__) makes them private, preventing direct access from outside the class.\n",
      "Getter Methods: Provide getter methods within the class to allow controlled access to the attributes of composed objects. Getter methods encapsulate the details of accessing composed objects and can perform additional logic if needed before returning the attribute value.\n",
      "Setter Methods: Similarly, provide setter methods within the class to allow controlled modification of the attributes of composed objects. Setter methods encapsulate the details of modifying composed objects and can enforce constraints or perform validation checks before updating the attribute value.\n",
      "Property Decorators: Use property decorators to define getter and setter methods for attributes, providing a cleaner and more Pythonic way to encapsulate attribute access and modification.\n",
      "Facade Design Pattern: Implement a facade design pattern if the composed objects have complex interactions and you want to provide a simplified interface to the client code. The facade pattern hides the complexity of composed objects behind a single interface, promoting abstraction and simplifying usage. \n"
     ]
    }
   ],
   "source": [
    "# 11. How can you encapsulate and hide the details of composed objects in Python classes to maintain\n",
    "# abstraction?\n",
    "\n",
    "print('''In Python, you can encapsulate and hide the details of composed objects in classes to maintain abstraction by following these principles:\n",
    "\n",
    "Private Attributes: Use private attributes within the class to hide the details of composed objects from external access. Prefixing attribute names with a double underscore (__) makes them private, preventing direct access from outside the class.\n",
    "Getter Methods: Provide getter methods within the class to allow controlled access to the attributes of composed objects. Getter methods encapsulate the details of accessing composed objects and can perform additional logic if needed before returning the attribute value.\n",
    "Setter Methods: Similarly, provide setter methods within the class to allow controlled modification of the attributes of composed objects. Setter methods encapsulate the details of modifying composed objects and can enforce constraints or perform validation checks before updating the attribute value.\n",
    "Property Decorators: Use property decorators to define getter and setter methods for attributes, providing a cleaner and more Pythonic way to encapsulate attribute access and modification.\n",
    "Facade Design Pattern: Implement a facade design pattern if the composed objects have complex interactions and you want to provide a simplified interface to the client code. The facade pattern hides the complexity of composed objects behind a single interface, promoting abstraction and simplifying usage. ''')"
   ]
  },
  {
   "cell_type": "code",
   "execution_count": 16,
   "id": "4bbd7b40-8a3c-4063-b125-fa95edafe9af",
   "metadata": {},
   "outputs": [
    {
     "name": "stdout",
     "output_type": "stream",
     "text": [
      "Course: Python Programming\n",
      "Instructor: Instructor: Dr. Smith, ID: 2001\n",
      "Students:\n",
      "- Student: Alice, ID: 1001\n",
      "- Student: Bob, ID: 1002\n",
      "Course Material:\n",
      "- Textbook: Introduction to Python\n",
      "- Slides: Week 1-4 Slides\n"
     ]
    }
   ],
   "source": [
    "# 12. Create a Python class for a university course, using composition to represent students, instructors, and\n",
    "# course materials.\n",
    "\n",
    "\n",
    "class Student:\n",
    "    def __init__(self, name, student_id):\n",
    "        self.name = name\n",
    "        self.student_id = student_id\n",
    "\n",
    "    def __str__(self):\n",
    "        return f\"Student: {self.name}, ID: {self.student_id}\"\n",
    "\n",
    "\n",
    "class Instructor:\n",
    "    def __init__(self, name, instructor_id):\n",
    "        self.name = name\n",
    "        self.instructor_id = instructor_id\n",
    "\n",
    "    def __str__(self):\n",
    "        return f\"Instructor: {self.name}, ID: {self.instructor_id}\"\n",
    "\n",
    "\n",
    "class CourseMaterial:\n",
    "    def __init__(self, textbook, slides):\n",
    "        self.textbook = textbook\n",
    "        self.slides = slides\n",
    "\n",
    "\n",
    "class UniversityCourse:\n",
    "    def __init__(self, course_name, instructor, students, course_material):\n",
    "        self.course_name = course_name\n",
    "        self.instructor = instructor\n",
    "        self.students = students\n",
    "        self.course_material = course_material\n",
    "\n",
    "    def display_course_info(self):\n",
    "        print(f\"Course: {self.course_name}\")\n",
    "        print(\"Instructor:\", self.instructor)\n",
    "        print(\"Students:\")\n",
    "        for student in self.students:\n",
    "            print(\"-\", student)\n",
    "        print(\"Course Material:\")\n",
    "        print(\"- Textbook:\", self.course_material.textbook)\n",
    "        print(\"- Slides:\", self.course_material.slides)\n",
    "\n",
    "\n",
    "# Example usage\n",
    "student1 = Student(\"Alice\", 1001)\n",
    "student2 = Student(\"Bob\", 1002)\n",
    "instructor = Instructor(\"Dr. Smith\", 2001)\n",
    "course_material = CourseMaterial(\"Introduction to Python\", \"Week 1-4 Slides\")\n",
    "\n",
    "students = [student1, student2]\n",
    "course = UniversityCourse(\"Python Programming\", instructor, students, course_material)\n",
    "course.display_course_info()\n"
   ]
  },
  {
   "cell_type": "code",
   "execution_count": 17,
   "id": "daf139ef-3613-4e6f-bfce-8a43480a3c12",
   "metadata": {},
   "outputs": [
    {
     "name": "stdout",
     "output_type": "stream",
     "text": [
      "While composition offers many benefits, such as modularity, code reuse, and encapsulation, it also comes with its own set of challenges and drawbacks. Here are some of the main challenges and drawbacks of composition:\n",
      "\n",
      "Increased Complexity: Composition can lead to increased complexity in the design of software systems, especially when dealing with a large number of interconnected objects. Managing the relationships between objects and ensuring proper coordination can become challenging, making the codebase harder to understand and maintain.\n",
      "Potential for Tight Coupling: Composition can sometimes result in tight coupling between objects, where changes to one object can have unintended consequences on other objects. This can occur if objects have direct dependencies on each other's internal implementations, making it difficult to modify or extend individual components without affecting the entire system.\n",
      "Duplication of Functionality: In some cases, composition may lead to duplication of functionality across multiple objects. This can occur if similar functionality needs to be implemented in multiple components, resulting in redundant code and increased maintenance overhead.\n",
      "Dependency Management: Managing dependencies between objects can be challenging in a composition-based design. Objects may rely on each other's interfaces or implementations, making it difficult to modify or replace individual components without impacting other parts of the system. This can hinder flexibility and hinder the ability to evolve the software system over time.\n",
      "Performance Overhead: Composition can introduce performance overhead, especially if objects need to interact frequently or if there are many layers of composition within the system. Each layer of composition adds an additional level of indirection, which can impact runtime performance, especially in performance-critical applications.\n",
      "Complexity in Testing: Testing composition-based systems can be more complex compared to systems based on inheritance. Each component may need to be tested in isolation, as well as in combination with other components, to ensure that the system behaves correctly under various scenarios. This can increase the complexity and cost of testing, leading to longer development cycles. \n"
     ]
    }
   ],
   "source": [
    "# 13. Discuss the challenges and drawbacks of composition, such as increased complexity and potential for\n",
    "# tight coupling between objects.\n",
    "\n",
    "print('''While composition offers many benefits, such as modularity, code reuse, and encapsulation, it also comes with its own set of challenges and drawbacks. Here are some of the main challenges and drawbacks of composition:\n",
    "\n",
    "Increased Complexity: Composition can lead to increased complexity in the design of software systems, especially when dealing with a large number of interconnected objects. Managing the relationships between objects and ensuring proper coordination can become challenging, making the codebase harder to understand and maintain.\n",
    "Potential for Tight Coupling: Composition can sometimes result in tight coupling between objects, where changes to one object can have unintended consequences on other objects. This can occur if objects have direct dependencies on each other's internal implementations, making it difficult to modify or extend individual components without affecting the entire system.\n",
    "Duplication of Functionality: In some cases, composition may lead to duplication of functionality across multiple objects. This can occur if similar functionality needs to be implemented in multiple components, resulting in redundant code and increased maintenance overhead.\n",
    "Dependency Management: Managing dependencies between objects can be challenging in a composition-based design. Objects may rely on each other's interfaces or implementations, making it difficult to modify or replace individual components without impacting other parts of the system. This can hinder flexibility and hinder the ability to evolve the software system over time.\n",
    "Performance Overhead: Composition can introduce performance overhead, especially if objects need to interact frequently or if there are many layers of composition within the system. Each layer of composition adds an additional level of indirection, which can impact runtime performance, especially in performance-critical applications.\n",
    "Complexity in Testing: Testing composition-based systems can be more complex compared to systems based on inheritance. Each component may need to be tested in isolation, as well as in combination with other components, to ensure that the system behaves correctly under various scenarios. This can increase the complexity and cost of testing, leading to longer development cycles. ''')"
   ]
  },
  {
   "cell_type": "code",
   "execution_count": 18,
   "id": "2fd534da-6b85-46f3-a2f6-f319c8c739d6",
   "metadata": {},
   "outputs": [
    {
     "name": "stdout",
     "output_type": "stream",
     "text": [
      "Restaurant: Pizza Palace\n",
      "Menu: Pizza Menu\n",
      "Dish: Margherita Pizza\n",
      "Ingredients: 2 Tomato, 200 Cheese, 300 Dough\n",
      "Dish: Pepperoni Pizza\n",
      "Ingredients: 2 Tomato, 200 Cheese, 300 Dough\n",
      "\n",
      "\n"
     ]
    }
   ],
   "source": [
    "# 14. Create a Python class hierarchy for a restaurant system, using composition to represent menus, dishes,\n",
    "# and ingredients.\n",
    "\n",
    "class Ingredient:\n",
    "    def __init__(self, name, quantity):\n",
    "        self.name = name\n",
    "        self.quantity = quantity\n",
    "\n",
    "    def __str__(self):\n",
    "        return f\"{self.quantity} {self.name}\"\n",
    "\n",
    "\n",
    "class Dish:\n",
    "    def __init__(self, name, ingredients):\n",
    "        self.name = name\n",
    "        self.ingredients = ingredients\n",
    "\n",
    "    def __str__(self):\n",
    "        return f\"Dish: {self.name}\\nIngredients: {', '.join(str(ingredient) for ingredient in self.ingredients)}\"\n",
    "\n",
    "\n",
    "class Menu:\n",
    "    def __init__(self, name, dishes):\n",
    "        self.name = name\n",
    "        self.dishes = dishes\n",
    "\n",
    "    def __str__(self):\n",
    "        menu_str = f\"Menu: {self.name}\\n\"\n",
    "        for dish in self.dishes:\n",
    "            menu_str += str(dish) + \"\\n\"\n",
    "        return menu_str\n",
    "\n",
    "\n",
    "class Restaurant:\n",
    "    def __init__(self, name, menus):\n",
    "        self.name = name\n",
    "        self.menus = menus\n",
    "\n",
    "    def __str__(self):\n",
    "        restaurant_str = f\"Restaurant: {self.name}\\n\"\n",
    "        for menu in self.menus:\n",
    "            restaurant_str += str(menu) + \"\\n\"\n",
    "        return restaurant_str\n",
    "\n",
    "\n",
    "# Example usage\n",
    "ingredient1 = Ingredient(\"Tomato\", 2)\n",
    "ingredient2 = Ingredient(\"Cheese\", 200)\n",
    "ingredient3 = Ingredient(\"Dough\", 300)\n",
    "dish1 = Dish(\"Margherita Pizza\", [ingredient1, ingredient2, ingredient3])\n",
    "dish2 = Dish(\"Pepperoni Pizza\", [ingredient1, ingredient2, ingredient3])\n",
    "menu1 = Menu(\"Pizza Menu\", [dish1, dish2])\n",
    "restaurant = Restaurant(\"Pizza Palace\", [menu1])\n",
    "print(restaurant)\n"
   ]
  },
  {
   "cell_type": "code",
   "execution_count": 19,
   "id": "99c0eacd-071d-42e2-9cf7-b9d7b9dd5eb5",
   "metadata": {},
   "outputs": [
    {
     "name": "stdout",
     "output_type": "stream",
     "text": [
      "Composition enhances code maintainability and modularity in Python programs in several ways:\n",
      "\n",
      "Modularity: Composition promotes modularity by breaking down complex systems into smaller, more manageable components. Each component encapsulates a specific functionality or behavior, making it easier to understand, develop, test, and maintain. Modularity allows developers to focus on individual components independently, which promotes code reuse and simplifies the overall design.\n",
      "Code Reusability: Composition encourages code reuse by allowing components to be reused in different contexts. Since components are independent and encapsulated, they can be easily reused across multiple parts of the system without modification. This reduces duplication of code and promotes a more efficient development process.\n",
      "Encapsulation: Composition promotes encapsulation by encapsulating the implementation details of individual components. Each component exposes a well-defined interface for interacting with other components, hiding its internal workings and providing a clear separation of concerns. Encapsulation helps reduce complexity and prevents unintended side effects when making changes to the system.\n",
      "Flexibility: Composition offers flexibility in software design by enabling the creation of objects with varying configurations of components. Different combinations of components can be composed to create objects with different behaviors or functionalities, allowing for greater flexibility and adaptability in the system. This flexibility makes it easier to extend or modify the system to meet changing requirements over time. \n"
     ]
    }
   ],
   "source": [
    "# 15. Explain how composition enhances code maintainability and modularity in Python programs.\n",
    "\n",
    "print('''Composition enhances code maintainability and modularity in Python programs in several ways:\n",
    "\n",
    "Modularity: Composition promotes modularity by breaking down complex systems into smaller, more manageable components. Each component encapsulates a specific functionality or behavior, making it easier to understand, develop, test, and maintain. Modularity allows developers to focus on individual components independently, which promotes code reuse and simplifies the overall design.\n",
    "Code Reusability: Composition encourages code reuse by allowing components to be reused in different contexts. Since components are independent and encapsulated, they can be easily reused across multiple parts of the system without modification. This reduces duplication of code and promotes a more efficient development process.\n",
    "Encapsulation: Composition promotes encapsulation by encapsulating the implementation details of individual components. Each component exposes a well-defined interface for interacting with other components, hiding its internal workings and providing a clear separation of concerns. Encapsulation helps reduce complexity and prevents unintended side effects when making changes to the system.\n",
    "Flexibility: Composition offers flexibility in software design by enabling the creation of objects with varying configurations of components. Different combinations of components can be composed to create objects with different behaviors or functionalities, allowing for greater flexibility and adaptability in the system. This flexibility makes it easier to extend or modify the system to meet changing requirements over time. ''')"
   ]
  },
  {
   "cell_type": "code",
   "execution_count": 21,
   "id": "a0dc9e29-aa48-4c6d-b12d-8678456b331e",
   "metadata": {},
   "outputs": [
    {
     "name": "stdout",
     "output_type": "stream",
     "text": [
      "Character: Hero\n",
      "Weapon Equipped: Weapon: Sword, Damage: 10\n",
      "Armor Equipped: Armor: Shield, Defense: 5\n",
      "Inventory:\n",
      "Weapon: Bow, Damage: 8\n",
      "\n"
     ]
    }
   ],
   "source": [
    "# 16. Create a Python class for a computer game character, using composition to represent attributes like\n",
    "# weapons, armor, and inventory.\n",
    "\n",
    "class Weapon:\n",
    "    def __init__(self, name, damage):\n",
    "        self.name = name\n",
    "        self.damage = damage\n",
    "\n",
    "    def __str__(self):\n",
    "        return f\"Weapon: {self.name}, Damage: {self.damage}\"\n",
    "\n",
    "\n",
    "class Armor:\n",
    "    def __init__(self, name, defense):\n",
    "        self.name = name\n",
    "        self.defense = defense\n",
    "\n",
    "    def __str__(self):\n",
    "        return f\"Armor: {self.name}, Defense: {self.defense}\"\n",
    "\n",
    "\n",
    "class Inventory:\n",
    "    def __init__(self):\n",
    "        self.items = []\n",
    "\n",
    "    def add_item(self, item):\n",
    "        self.items.append(item)\n",
    "\n",
    "    def remove_item(self, item):\n",
    "        if item in self.items:\n",
    "            self.items.remove(item)\n",
    "\n",
    "    def __str__(self):\n",
    "        inventory_str = \"Inventory:\\n\"\n",
    "        for item in self.items:\n",
    "            inventory_str += str(item) + \"\\n\"\n",
    "        return inventory_str\n",
    "\n",
    "\n",
    "class Character:\n",
    "    def __init__(self, name):\n",
    "        self.name = name\n",
    "        self.weapon = None\n",
    "        self.armor = None\n",
    "        self.inventory = Inventory()\n",
    "\n",
    "    def equip_weapon(self, weapon):\n",
    "        self.weapon = weapon\n",
    "\n",
    "    def equip_armor(self, armor):\n",
    "        self.armor = armor\n",
    "\n",
    "    def __str__(self):\n",
    "        character_str = f\"Character: {self.name}\\n\"\n",
    "        if self.weapon:\n",
    "            character_str += f\"Weapon Equipped: {self.weapon}\\n\"\n",
    "        if self.armor:\n",
    "            character_str += f\"Armor Equipped: {self.armor}\\n\"\n",
    "        character_str += str(self.inventory)\n",
    "        return character_str\n",
    "\n",
    "\n",
    "# Example usage\n",
    "sword = Weapon(\"Sword\", 10)\n",
    "shield = Armor(\"Shield\", 5)\n",
    "character = Character(\"Hero\")\n",
    "character.equip_weapon(sword)\n",
    "character.equip_armor(shield)\n",
    "character.inventory.add_item(Weapon(\"Bow\", 8))\n",
    "print(character)\n",
    "\n"
   ]
  },
  {
   "cell_type": "code",
   "execution_count": 22,
   "id": "eebbf911-521c-4bcc-b53f-e1fa098beb76",
   "metadata": {},
   "outputs": [
    {
     "name": "stdout",
     "output_type": "stream",
     "text": [
      "In object-oriented programming, \"aggregation\" is a form of composition where one class contains references to other classes as part of its state, but the contained objects can exist independently of the container object. Aggregation implies a \"has-a\" relationship, similar to composition, but with a crucial difference: the contained objects can exist and be manipulated independently of the container object.\n",
      "\n",
      "Here's how aggregation differs from simple composition:\n",
      "\n",
      "Independence of Lifespan: In aggregation, the contained objects have an independent lifespan and can exist before or after the container object is created. They are not exclusively owned or managed by the container object. This means that if the container object is destroyed, the contained objects can still exist. In contrast, in simple composition, the contained objects typically have a lifecycle tied to the container object and are destroyed when the container object is destroyed.\n",
      "Ownership: In aggregation, the contained objects are typically owned by other parts of the system or have a shared ownership between multiple objects. The container object may hold references to the contained objects, but it does not necessarily own them. In contrast, in simple composition, the container object typically owns the contained objects and is responsible for their creation, management, and destruction.\n",
      "Multiplicity: Aggregation often involves a one-to-many relationship, where a single container object can reference multiple instances of the contained objects. This allows for greater flexibility and scalability in modeling complex relationships between objects. In contrast, simple composition typically involves a one-to-one relationship, where a container object contains a single instance of the contained object.\n",
      "Flexibility: Aggregation provides more flexibility compared to simple composition, as it allows for dynamic relationships between objects. Contained objects can be added, removed, or replaced independently of the container object, which makes the design more adaptable to changing requirements. This flexibility is particularly useful in scenarios where the relationship between objects is not fixed or may evolve over time. \n"
     ]
    }
   ],
   "source": [
    "# 17. Describe the concept of \"aggregation\" in composition and how it differs from simple composition.\n",
    "\n",
    "\n",
    "print('''In object-oriented programming, \"aggregation\" is a form of composition where one class contains references to other classes as part of its state, but the contained objects can exist independently of the container object. Aggregation implies a \"has-a\" relationship, similar to composition, but with a crucial difference: the contained objects can exist and be manipulated independently of the container object.\n",
    "\n",
    "Here's how aggregation differs from simple composition:\n",
    "\n",
    "Independence of Lifespan: In aggregation, the contained objects have an independent lifespan and can exist before or after the container object is created. They are not exclusively owned or managed by the container object. This means that if the container object is destroyed, the contained objects can still exist. In contrast, in simple composition, the contained objects typically have a lifecycle tied to the container object and are destroyed when the container object is destroyed.\n",
    "Ownership: In aggregation, the contained objects are typically owned by other parts of the system or have a shared ownership between multiple objects. The container object may hold references to the contained objects, but it does not necessarily own them. In contrast, in simple composition, the container object typically owns the contained objects and is responsible for their creation, management, and destruction.\n",
    "Multiplicity: Aggregation often involves a one-to-many relationship, where a single container object can reference multiple instances of the contained objects. This allows for greater flexibility and scalability in modeling complex relationships between objects. In contrast, simple composition typically involves a one-to-one relationship, where a container object contains a single instance of the contained object.\n",
    "Flexibility: Aggregation provides more flexibility compared to simple composition, as it allows for dynamic relationships between objects. Contained objects can be added, removed, or replaced independently of the container object, which makes the design more adaptable to changing requirements. This flexibility is particularly useful in scenarios where the relationship between objects is not fixed or may evolve over time. ''')"
   ]
  },
  {
   "cell_type": "code",
   "execution_count": 23,
   "id": "70c69546-93e6-4af6-a27e-0c4678c548bf",
   "metadata": {},
   "outputs": [
    {
     "name": "stdout",
     "output_type": "stream",
     "text": [
      "House: My House\n",
      "Room: Living Room\n",
      "Furniture:\n",
      "- Furniture: Sofa\n",
      "- Furniture: Coffee Table\n",
      "Appliances:\n",
      "- Appliance: Television\n",
      "\n",
      "Room: Kitchen\n",
      "Furniture:\n",
      "- Furniture: Dining Table\n",
      "Appliances:\n",
      "- Appliance: Refrigerator\n",
      "- Appliance: Oven\n",
      "\n",
      "\n"
     ]
    }
   ],
   "source": [
    "# 18. Create a Python class for a house, using composition to represent rooms, furniture, and appliances.\n",
    "\n",
    "class Furniture:\n",
    "    def __init__(self, name):\n",
    "        self.name = name\n",
    "\n",
    "    def __str__(self):\n",
    "        return f\"Furniture: {self.name}\"\n",
    "\n",
    "\n",
    "class Appliance:\n",
    "    def __init__(self, name):\n",
    "        self.name = name\n",
    "\n",
    "    def __str__(self):\n",
    "        return f\"Appliance: {self.name}\"\n",
    "\n",
    "\n",
    "class Room:\n",
    "    def __init__(self, name):\n",
    "        self.name = name\n",
    "        self.furniture = []\n",
    "        self.appliances = []\n",
    "\n",
    "    def add_furniture(self, furniture):\n",
    "        self.furniture.append(furniture)\n",
    "\n",
    "    def add_appliance(self, appliance):\n",
    "        self.appliances.append(appliance)\n",
    "\n",
    "    def __str__(self):\n",
    "        room_str = f\"Room: {self.name}\\n\"\n",
    "        room_str += \"Furniture:\\n\"\n",
    "        for item in self.furniture:\n",
    "            room_str += f\"- {item}\\n\"\n",
    "        room_str += \"Appliances:\\n\"\n",
    "        for item in self.appliances:\n",
    "            room_str += f\"- {item}\\n\"\n",
    "        return room_str\n",
    "\n",
    "\n",
    "class House:\n",
    "    def __init__(self, name):\n",
    "        self.name = name\n",
    "        self.rooms = []\n",
    "\n",
    "    def add_room(self, room):\n",
    "        self.rooms.append(room)\n",
    "\n",
    "    def __str__(self):\n",
    "        house_str = f\"House: {self.name}\\n\"\n",
    "        for room in self.rooms:\n",
    "            house_str += str(room) + \"\\n\"\n",
    "        return house_str\n",
    "\n",
    "\n",
    "# Example usage\n",
    "living_room = Room(\"Living Room\")\n",
    "living_room.add_furniture(Furniture(\"Sofa\"))\n",
    "living_room.add_furniture(Furniture(\"Coffee Table\"))\n",
    "living_room.add_appliance(Appliance(\"Television\"))\n",
    "\n",
    "kitchen = Room(\"Kitchen\")\n",
    "kitchen.add_furniture(Furniture(\"Dining Table\"))\n",
    "kitchen.add_appliance(Appliance(\"Refrigerator\"))\n",
    "kitchen.add_appliance(Appliance(\"Oven\"))\n",
    "\n",
    "my_house = House(\"My House\")\n",
    "my_house.add_room(living_room)\n",
    "my_house.add_room(kitchen)\n",
    "\n",
    "print(my_house)\n"
   ]
  },
  {
   "cell_type": "code",
   "execution_count": 24,
   "id": "f1f9eb2a-8176-4092-b9cf-6418ba138182",
   "metadata": {},
   "outputs": [
    {
     "name": "stdout",
     "output_type": "stream",
     "text": [
      "Achieving flexibility in composed objects by allowing them to be replaced or modified dynamically at runtime can be accomplished through various techniques. Here are some approaches to achieve this flexibility:\n",
      "\n",
      "Use of Interfaces or Abstract Base Classes (ABCs): Define interfaces or abstract base classes that specify the expected behavior of the composed objects. This allows different implementations of the composed objects to be substituted interchangeably as long as they adhere to the interface contract.\n",
      "Dependency Injection (DI): Implement dependency injection, where the dependencies of an object are provided externally rather than created internally. This allows the composed objects to be replaced or modified dynamically at runtime by injecting different implementations or configurations.\n",
      "Factory Pattern: Implement a factory pattern to dynamically create instances of the composed objects based on certain criteria or conditions. This allows different implementations of the composed objects to be created dynamically at runtime.\n",
      "Strategy Pattern: Implement the strategy pattern, where different algorithms or strategies are encapsulated as objects and can be swapped dynamically. This allows the behavior of the composed objects to be changed dynamically at runtime.\n",
      "Decorator Pattern: Implement the decorator pattern to dynamically add or modify the behavior of the composed objects at runtime. Decorators can be stacked or chained to provide different combinations of behavior. \n"
     ]
    }
   ],
   "source": [
    "# 19. How can you achieve flexibility in composed objects by allowing them to be replaced or modified\n",
    "# dynamically at runtime?\n",
    "\n",
    "print('''Achieving flexibility in composed objects by allowing them to be replaced or modified dynamically at runtime can be accomplished through various techniques. Here are some approaches to achieve this flexibility:\n",
    "\n",
    "Use of Interfaces or Abstract Base Classes (ABCs): Define interfaces or abstract base classes that specify the expected behavior of the composed objects. This allows different implementations of the composed objects to be substituted interchangeably as long as they adhere to the interface contract.\n",
    "Dependency Injection (DI): Implement dependency injection, where the dependencies of an object are provided externally rather than created internally. This allows the composed objects to be replaced or modified dynamically at runtime by injecting different implementations or configurations.\n",
    "Factory Pattern: Implement a factory pattern to dynamically create instances of the composed objects based on certain criteria or conditions. This allows different implementations of the composed objects to be created dynamically at runtime.\n",
    "Strategy Pattern: Implement the strategy pattern, where different algorithms or strategies are encapsulated as objects and can be swapped dynamically. This allows the behavior of the composed objects to be changed dynamically at runtime.\n",
    "Decorator Pattern: Implement the decorator pattern to dynamically add or modify the behavior of the composed objects at runtime. Decorators can be stacked or chained to provide different combinations of behavior. ''')"
   ]
  },
  {
   "cell_type": "code",
   "execution_count": 25,
   "id": "22b22a1e-a30e-4a32-9476-f4e346431561",
   "metadata": {},
   "outputs": [
    {
     "name": "stdout",
     "output_type": "stream",
     "text": [
      "Social Media App\n",
      "User: Alice\n",
      "Posts:\n",
      "Alice: Hello, everyone!\n",
      "Comments:\n",
      "- Bob: Welcome, Alice!\n",
      "\n",
      "Alice: Just joined this awesome social media app.\n",
      "\n",
      "\n",
      "User: Bob\n",
      "Posts:\n",
      "Bob: Excited to connect with friends here.\n",
      "Comments:\n",
      "- Alice: Thanks, Bob!\n",
      "\n",
      "Bob: Here's my first post.\n",
      "\n",
      "\n",
      "\n"
     ]
    }
   ],
   "source": [
    "# 20. Create a Python class for a social media application, using composition to represent users, posts, and\n",
    "# comments.\n",
    "\n",
    "class Comment:\n",
    "    def __init__(self, user, text):\n",
    "        self.user = user\n",
    "        self.text = text\n",
    "\n",
    "    def __str__(self):\n",
    "        return f\"{self.user}: {self.text}\"\n",
    "\n",
    "\n",
    "class Post:\n",
    "    def __init__(self, user, text):\n",
    "        self.user = user\n",
    "        self.text = text\n",
    "        self.comments = []\n",
    "\n",
    "    def add_comment(self, user, text):\n",
    "        self.comments.append(Comment(user, text))\n",
    "\n",
    "    def __str__(self):\n",
    "        post_str = f\"{self.user}: {self.text}\\n\"\n",
    "        if self.comments:\n",
    "            post_str += \"Comments:\\n\"\n",
    "            for comment in self.comments:\n",
    "                post_str += f\"- {comment}\\n\"\n",
    "        return post_str\n",
    "\n",
    "\n",
    "class User:\n",
    "    def __init__(self, username):\n",
    "        self.username = username\n",
    "        self.posts = []\n",
    "\n",
    "    def create_post(self, text):\n",
    "        self.posts.append(Post(self.username, text))\n",
    "\n",
    "    def __str__(self):\n",
    "        user_str = f\"User: {self.username}\\n\"\n",
    "        if self.posts:\n",
    "            user_str += \"Posts:\\n\"\n",
    "            for post in self.posts:\n",
    "                user_str += f\"{post}\\n\"\n",
    "        return user_str\n",
    "\n",
    "\n",
    "class SocialMediaApp:\n",
    "    def __init__(self):\n",
    "        self.users = []\n",
    "\n",
    "    def add_user(self, username):\n",
    "        self.users.append(User(username))\n",
    "\n",
    "    def get_user(self, username):\n",
    "        for user in self.users:\n",
    "            if user.username == username:\n",
    "                return user\n",
    "        return None\n",
    "\n",
    "    def __str__(self):\n",
    "        app_str = \"Social Media App\\n\"\n",
    "        for user in self.users:\n",
    "            app_str += f\"{user}\\n\"\n",
    "        return app_str\n",
    "\n",
    "\n",
    "# Example usage\n",
    "app = SocialMediaApp()\n",
    "app.add_user(\"Alice\")\n",
    "app.add_user(\"Bob\")\n",
    "\n",
    "alice = app.get_user(\"Alice\")\n",
    "alice.create_post(\"Hello, everyone!\")\n",
    "alice.create_post(\"Just joined this awesome social media app.\")\n",
    "\n",
    "bob = app.get_user(\"Bob\")\n",
    "bob.create_post(\"Excited to connect with friends here.\")\n",
    "bob.create_post(\"Here's my first post.\")\n",
    "\n",
    "alice.posts[0].add_comment(\"Bob\", \"Welcome, Alice!\")\n",
    "bob.posts[0].add_comment(\"Alice\", \"Thanks, Bob!\")\n",
    "\n",
    "print(app)\n"
   ]
  },
  {
   "cell_type": "code",
   "execution_count": null,
   "id": "2fb483cd-31b7-47a6-97ad-3b13d450e022",
   "metadata": {},
   "outputs": [],
   "source": []
  }
 ],
 "metadata": {
  "kernelspec": {
   "display_name": "Python 3 (ipykernel)",
   "language": "python",
   "name": "python3"
  },
  "language_info": {
   "codemirror_mode": {
    "name": "ipython",
    "version": 3
   },
   "file_extension": ".py",
   "mimetype": "text/x-python",
   "name": "python",
   "nbconvert_exporter": "python",
   "pygments_lexer": "ipython3",
   "version": "3.10.8"
  }
 },
 "nbformat": 4,
 "nbformat_minor": 5
}
